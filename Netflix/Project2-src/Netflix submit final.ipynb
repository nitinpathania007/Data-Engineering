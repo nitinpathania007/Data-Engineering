{
 "cells": [
  {
   "cell_type": "markdown",
   "metadata": {},
   "source": [
    "Spark Version"
   ]
  },
  {
   "cell_type": "code",
   "execution_count": 1,
   "metadata": {
    "colab": {},
    "colab_type": "code",
    "id": "QF4RjFkoDXNg",
    "outputId": "21041af9-1a95-4b2b-eae0-daba2267fde2"
   },
   "outputs": [
    {
     "data": {
      "text/plain": [
       "'2.4.7-amzn-0'"
      ]
     },
     "execution_count": 1,
     "metadata": {},
     "output_type": "execute_result"
    }
   ],
   "source": [
    "sc.version"
   ]
  },
  {
   "cell_type": "code",
   "execution_count": 2,
   "metadata": {},
   "outputs": [
    {
     "name": "stdout",
     "output_type": "stream",
     "text": [
      "<class 'pyspark.context.SparkContext'>\n"
     ]
    }
   ],
   "source": [
    "print(type(sc))"
   ]
  },
  {
   "cell_type": "markdown",
   "metadata": {},
   "source": [
    "Impoting Libraries. We had to install sklearn,matplotlib,seaborn libraries other than pyspark by using pip."
   ]
  },
  {
   "cell_type": "code",
   "execution_count": 3,
   "metadata": {
    "colab": {},
    "colab_type": "code",
    "id": "gP6jNINBDXNy"
   },
   "outputs": [],
   "source": [
    "from sklearn.metrics import mean_squared_error\n",
    "import numpy as np\n",
    "from sklearn.metrics.pairwise import pairwise_distances\n",
    "import math\n",
    "import pandas as pd\n",
    "from pyspark.sql.types import *\n",
    "from pyspark.sql.functions import regexp_extract\n",
    "import matplotlib.pyplot as plt\n",
    "import seaborn as sns\n",
    "%matplotlib inline\n",
    "from pyspark.ml.evaluation import RegressionEvaluator\n",
    "from pyspark.ml.recommendation import ALS\n",
    "from pyspark.sql import Row\n",
    "from sklearn.model_selection import train_test_split\n",
    "import scipy.sparse as sp\n",
    "from scipy.sparse.linalg import svds\n",
    "from sklearn.metrics import mean_absolute_error"
   ]
  },
  {
   "cell_type": "markdown",
   "metadata": {},
   "source": [
    "Load Data from S3 Bucket"
   ]
  },
  {
   "cell_type": "code",
   "execution_count": 4,
   "metadata": {
    "colab": {},
    "colab_type": "code",
    "id": "cfORqsIlDXOD"
   },
   "outputs": [],
   "source": [
    "train ='s3://nitinnetflix/TrainingRatings.txt'\n",
    "movie = 's3://nitinnetflix/movie_titles.txt'\n",
    "test = 's3://nitinnetflix/TestingRatings.txt'"
   ]
  },
  {
   "cell_type": "markdown",
   "metadata": {},
   "source": [
    "Lets Build the Schema by using pyspark."
   ]
  },
  {
   "cell_type": "code",
   "execution_count": 5,
   "metadata": {
    "colab": {},
    "colab_type": "code",
    "id": "i54z4LitDXON"
   },
   "outputs": [],
   "source": [
    "trainschema = StructType([StructField('mID', IntegerType()),StructField('uID', IntegerType()),StructField('ratings',DoubleType())])\n",
    "movieschema = StructType([StructField('mID', IntegerType()),StructField('yearofrelease', IntegerType()),StructField('title', StringType())])\n",
    "testschema = StructType([StructField('mID', IntegerType()),StructField('uID', IntegerType()),StructField('ratings',DoubleType())])"
   ]
  },
  {
   "cell_type": "code",
   "execution_count": 6,
   "metadata": {
    "colab": {},
    "colab_type": "code",
    "id": "Pwh4ZZtcDXOV"
   },
   "outputs": [],
   "source": [
    "traindata = sc.textFile(train)"
   ]
  },
  {
   "cell_type": "code",
   "execution_count": 7,
   "metadata": {
    "colab": {},
    "colab_type": "code",
    "id": "lhNPX65iDXOd",
    "outputId": "85aef987-1712-4d38-fe36-b314a211a6c6"
   },
   "outputs": [
    {
     "data": {
      "text/plain": [
       "3255352"
      ]
     },
     "execution_count": 7,
     "metadata": {},
     "output_type": "execute_result"
    }
   ],
   "source": [
    "traindata.count() "
   ]
  },
  {
   "cell_type": "code",
   "execution_count": 8,
   "metadata": {
    "colab": {},
    "colab_type": "code",
    "id": "Vp3asVqmDXOj",
    "outputId": "af241332-ae87-442a-cf50-477631145c56"
   },
   "outputs": [
    {
     "data": {
      "text/plain": [
       "['8,1744889,1.0',\n",
       " '8,1395430,2.0',\n",
       " '8,1205593,4.0',\n",
       " '8,1488844,4.0',\n",
       " '8,1447354,1.0',\n",
       " '8,306466,4.0',\n",
       " '8,1331154,4.0',\n",
       " '8,1818178,3.0',\n",
       " '8,991725,4.0',\n",
       " '8,1987434,4.0']"
      ]
     },
     "execution_count": 8,
     "metadata": {},
     "output_type": "execute_result"
    }
   ],
   "source": [
    "traindata.take(10)"
   ]
  },
  {
   "cell_type": "markdown",
   "metadata": {},
   "source": [
    "Load all the data train,test and movie."
   ]
  },
  {
   "cell_type": "code",
   "execution_count": 9,
   "metadata": {
    "colab": {},
    "colab_type": "code",
    "id": "PpyUpCBYDXOn",
    "outputId": "85707172-23c2-464c-bc74-5ac80096b24f"
   },
   "outputs": [],
   "source": [
    "movie_df = sqlContext.read.format('txt').options(inferSchema=True).schema(movieschema).csv(movie)\n",
    "train_df = sqlContext.read.format('txt').options(inferSchema=True).schema(trainschema).csv(train)\n",
    "test_df = sqlContext.read.format('txt').options(inferSchema=True).schema(testschema).csv(test)"
   ]
  },
  {
   "cell_type": "markdown",
   "metadata": {},
   "source": [
    "Cache the data"
   ]
  },
  {
   "cell_type": "code",
   "execution_count": 10,
   "metadata": {},
   "outputs": [
    {
     "data": {
      "text/plain": [
       "DataFrame[mID: int, uID: int, ratings: double]"
      ]
     },
     "execution_count": 10,
     "metadata": {},
     "output_type": "execute_result"
    }
   ],
   "source": [
    "train_df.cache()\n",
    "movie_df.cache()\n",
    "test_df.cache()"
   ]
  },
  {
   "cell_type": "markdown",
   "metadata": {},
   "source": [
    "Check whether the data is cached"
   ]
  },
  {
   "cell_type": "code",
   "execution_count": 11,
   "metadata": {},
   "outputs": [],
   "source": [
    "assert train_df.is_cached\n",
    "assert test_df.is_cached\n",
    "assert movie_df.is_cached"
   ]
  },
  {
   "cell_type": "code",
   "execution_count": 12,
   "metadata": {},
   "outputs": [
    {
     "name": "stdout",
     "output_type": "stream",
     "text": [
      "There are 3255352 training, 100478 testing and 17770 movies in the datasets\n",
      "Training:\n",
      "+---+-------+-------+\n",
      "|mID|    uID|ratings|\n",
      "+---+-------+-------+\n",
      "|  8|1744889|    1.0|\n",
      "|  8|1395430|    2.0|\n",
      "|  8|1205593|    4.0|\n",
      "|  8|1488844|    4.0|\n",
      "|  8|1447354|    1.0|\n",
      "+---+-------+-------+\n",
      "only showing top 5 rows\n",
      "\n",
      "Testing:\n",
      "+---+-------+-------+\n",
      "|mID|    uID|ratings|\n",
      "+---+-------+-------+\n",
      "|  8| 573364|    1.0|\n",
      "|  8|2149668|    3.0|\n",
      "|  8|1089184|    3.0|\n",
      "|  8|2465894|    3.0|\n",
      "|  8| 534508|    1.0|\n",
      "+---+-------+-------+\n",
      "only showing top 5 rows\n",
      "\n",
      "Movies:\n",
      "+---+-------------+----------------------------+\n",
      "|mID|yearofrelease|title                       |\n",
      "+---+-------------+----------------------------+\n",
      "|1  |2003         |Dinosaur Planet             |\n",
      "|2  |2004         |Isle of Man TT 2004 Review  |\n",
      "|3  |1997         |Character                   |\n",
      "|4  |1994         |Paula Abdul's Get Up & Dance|\n",
      "|5  |2004         |The Rise and Fall of ECW    |\n",
      "+---+-------------+----------------------------+\n",
      "only showing top 5 rows\n",
      "\n"
     ]
    }
   ],
   "source": [
    "train_count = train_df.count()\n",
    "test_count = test_df.count()\n",
    "movie_count = movie_df.count()\n",
    "print ('There are %s training, %s testing and %s movies in the datasets' % (train_count,test_count, movie_count))\n",
    "print ('Training:')\n",
    "train_df.show(5)\n",
    "print ('Testing:')\n",
    "test_df.show(5)\n",
    "print ('Movies:')\n",
    "movie_df.show(5, truncate=False)"
   ]
  },
  {
   "cell_type": "markdown",
   "metadata": {},
   "source": [
    "Find out the distinct movies and users in the train and test set"
   ]
  },
  {
   "cell_type": "code",
   "execution_count": 13,
   "metadata": {
    "colab": {},
    "colab_type": "code",
    "id": "uQmZnw7IDXOs",
    "outputId": "b002bcff-5a01-4b37-d64e-f9bbe69df604"
   },
   "outputs": [
    {
     "data": {
      "text/plain": [
       "1821"
      ]
     },
     "execution_count": 13,
     "metadata": {},
     "output_type": "execute_result"
    }
   ],
   "source": [
    "train_df.select('mID').distinct().count()"
   ]
  },
  {
   "cell_type": "code",
   "execution_count": 14,
   "metadata": {
    "colab": {},
    "colab_type": "code",
    "id": "rcu1m1v6DXOx",
    "outputId": "8c779957-0830-4950-ccf9-c9481f09109c"
   },
   "outputs": [
    {
     "data": {
      "text/plain": [
       "28978"
      ]
     },
     "execution_count": 14,
     "metadata": {},
     "output_type": "execute_result"
    }
   ],
   "source": [
    "train_df.select('uID').distinct().count()"
   ]
  },
  {
   "cell_type": "code",
   "execution_count": 15,
   "metadata": {
    "colab": {},
    "colab_type": "code",
    "id": "WvZZOBVuDXO_",
    "outputId": "60018994-3466-4cb8-bf62-4c190edba62e"
   },
   "outputs": [
    {
     "data": {
      "text/plain": [
       "1701"
      ]
     },
     "execution_count": 15,
     "metadata": {},
     "output_type": "execute_result"
    }
   ],
   "source": [
    "test_df.select('mID').distinct().count()"
   ]
  },
  {
   "cell_type": "code",
   "execution_count": 16,
   "metadata": {
    "colab": {},
    "colab_type": "code",
    "id": "Tjw0C1IKDXPN",
    "outputId": "d51ae6ae-ee8e-446e-f35c-4566745c38c8"
   },
   "outputs": [
    {
     "data": {
      "text/plain": [
       "27555"
      ]
     },
     "execution_count": 16,
     "metadata": {},
     "output_type": "execute_result"
    }
   ],
   "source": [
    "test_df.select('uID').distinct().count()"
   ]
  },
  {
   "cell_type": "markdown",
   "metadata": {},
   "source": [
    "Convert to a Pandas Dataframe."
   ]
  },
  {
   "cell_type": "code",
   "execution_count": 17,
   "metadata": {
    "colab": {},
    "colab_type": "code",
    "id": "J-0p0PcSDXPT"
   },
   "outputs": [],
   "source": [
    "train_pandas = train_df.toPandas()\n",
    "test_pandas = test_df.toPandas()"
   ]
  },
  {
   "cell_type": "code",
   "execution_count": 18,
   "metadata": {
    "colab": {},
    "colab_type": "code",
    "id": "qqPbS-RUDXPw",
    "outputId": "c7be6ce4-4a99-4548-9087-ade87e765583"
   },
   "outputs": [
    {
     "data": {
      "text/html": [
       "<div>\n",
       "<style scoped>\n",
       "    .dataframe tbody tr th:only-of-type {\n",
       "        vertical-align: middle;\n",
       "    }\n",
       "\n",
       "    .dataframe tbody tr th {\n",
       "        vertical-align: top;\n",
       "    }\n",
       "\n",
       "    .dataframe thead th {\n",
       "        text-align: right;\n",
       "    }\n",
       "</style>\n",
       "<table border=\"1\" class=\"dataframe\">\n",
       "  <thead>\n",
       "    <tr style=\"text-align: right;\">\n",
       "      <th></th>\n",
       "      <th>mID</th>\n",
       "      <th>uID</th>\n",
       "      <th>ratings</th>\n",
       "    </tr>\n",
       "  </thead>\n",
       "  <tbody>\n",
       "    <tr>\n",
       "      <th>0</th>\n",
       "      <td>8</td>\n",
       "      <td>1744889</td>\n",
       "      <td>1.0</td>\n",
       "    </tr>\n",
       "    <tr>\n",
       "      <th>1</th>\n",
       "      <td>8</td>\n",
       "      <td>1395430</td>\n",
       "      <td>2.0</td>\n",
       "    </tr>\n",
       "    <tr>\n",
       "      <th>2</th>\n",
       "      <td>8</td>\n",
       "      <td>1205593</td>\n",
       "      <td>4.0</td>\n",
       "    </tr>\n",
       "    <tr>\n",
       "      <th>3</th>\n",
       "      <td>8</td>\n",
       "      <td>1488844</td>\n",
       "      <td>4.0</td>\n",
       "    </tr>\n",
       "    <tr>\n",
       "      <th>4</th>\n",
       "      <td>8</td>\n",
       "      <td>1447354</td>\n",
       "      <td>1.0</td>\n",
       "    </tr>\n",
       "  </tbody>\n",
       "</table>\n",
       "</div>"
      ],
      "text/plain": [
       "   mID      uID  ratings\n",
       "0    8  1744889      1.0\n",
       "1    8  1395430      2.0\n",
       "2    8  1205593      4.0\n",
       "3    8  1488844      4.0\n",
       "4    8  1447354      1.0"
      ]
     },
     "execution_count": 18,
     "metadata": {},
     "output_type": "execute_result"
    }
   ],
   "source": [
    "train_pandas.head()"
   ]
  },
  {
   "cell_type": "code",
   "execution_count": 19,
   "metadata": {
    "colab": {},
    "colab_type": "code",
    "id": "Tf0K3fbNDXP6",
    "outputId": "c21b2694-2659-4aeb-bbe0-007f5a280c6b"
   },
   "outputs": [
    {
     "data": {
      "text/html": [
       "<div>\n",
       "<style scoped>\n",
       "    .dataframe tbody tr th:only-of-type {\n",
       "        vertical-align: middle;\n",
       "    }\n",
       "\n",
       "    .dataframe tbody tr th {\n",
       "        vertical-align: top;\n",
       "    }\n",
       "\n",
       "    .dataframe thead th {\n",
       "        text-align: right;\n",
       "    }\n",
       "</style>\n",
       "<table border=\"1\" class=\"dataframe\">\n",
       "  <thead>\n",
       "    <tr style=\"text-align: right;\">\n",
       "      <th></th>\n",
       "      <th>mID</th>\n",
       "      <th>uID</th>\n",
       "      <th>ratings</th>\n",
       "    </tr>\n",
       "  </thead>\n",
       "  <tbody>\n",
       "    <tr>\n",
       "      <th>0</th>\n",
       "      <td>8</td>\n",
       "      <td>573364</td>\n",
       "      <td>1.0</td>\n",
       "    </tr>\n",
       "    <tr>\n",
       "      <th>1</th>\n",
       "      <td>8</td>\n",
       "      <td>2149668</td>\n",
       "      <td>3.0</td>\n",
       "    </tr>\n",
       "    <tr>\n",
       "      <th>2</th>\n",
       "      <td>8</td>\n",
       "      <td>1089184</td>\n",
       "      <td>3.0</td>\n",
       "    </tr>\n",
       "    <tr>\n",
       "      <th>3</th>\n",
       "      <td>8</td>\n",
       "      <td>2465894</td>\n",
       "      <td>3.0</td>\n",
       "    </tr>\n",
       "    <tr>\n",
       "      <th>4</th>\n",
       "      <td>8</td>\n",
       "      <td>534508</td>\n",
       "      <td>1.0</td>\n",
       "    </tr>\n",
       "  </tbody>\n",
       "</table>\n",
       "</div>"
      ],
      "text/plain": [
       "   mID      uID  ratings\n",
       "0    8   573364      1.0\n",
       "1    8  2149668      3.0\n",
       "2    8  1089184      3.0\n",
       "3    8  2465894      3.0\n",
       "4    8   534508      1.0"
      ]
     },
     "execution_count": 19,
     "metadata": {},
     "output_type": "execute_result"
    }
   ],
   "source": [
    "test_pandas.head()"
   ]
  },
  {
   "cell_type": "code",
   "execution_count": 20,
   "metadata": {
    "colab": {},
    "colab_type": "code",
    "id": "QvX4PbSbDXQC",
    "outputId": "5e48d576-6737-4dce-e8a1-bd408e9b675a"
   },
   "outputs": [
    {
     "data": {
      "text/plain": [
       "3255352"
      ]
     },
     "execution_count": 20,
     "metadata": {},
     "output_type": "execute_result"
    }
   ],
   "source": [
    "len(train_pandas)"
   ]
  },
  {
   "cell_type": "code",
   "execution_count": 21,
   "metadata": {
    "colab": {},
    "colab_type": "code",
    "id": "uErjcW9SDXQI",
    "outputId": "9b9d6708-954d-41f9-8216-7ad238fbde03"
   },
   "outputs": [
    {
     "data": {
      "text/plain": [
       "100478"
      ]
     },
     "execution_count": 21,
     "metadata": {},
     "output_type": "execute_result"
    }
   ],
   "source": [
    "len(test_pandas)"
   ]
  },
  {
   "cell_type": "markdown",
   "metadata": {
    "colab_type": "text",
    "id": "23p3K3EQDXQP"
   },
   "source": [
    "Find the overall rating for movies and users in train dataset."
   ]
  },
  {
   "cell_type": "code",
   "execution_count": 22,
   "metadata": {
    "colab": {},
    "colab_type": "code",
    "id": "x6vxwBM7DXQU",
    "outputId": "aa1596dc-bb70-4d18-f02b-4cd6d8347451"
   },
   "outputs": [
    {
     "data": {
      "text/html": [
       "<div>\n",
       "<style scoped>\n",
       "    .dataframe tbody tr th:only-of-type {\n",
       "        vertical-align: middle;\n",
       "    }\n",
       "\n",
       "    .dataframe tbody tr th {\n",
       "        vertical-align: top;\n",
       "    }\n",
       "\n",
       "    .dataframe thead th {\n",
       "        text-align: right;\n",
       "    }\n",
       "</style>\n",
       "<table border=\"1\" class=\"dataframe\">\n",
       "  <thead>\n",
       "    <tr style=\"text-align: right;\">\n",
       "      <th></th>\n",
       "      <th>ratings</th>\n",
       "      <th>counts</th>\n",
       "    </tr>\n",
       "    <tr>\n",
       "      <th>mID</th>\n",
       "      <th></th>\n",
       "      <th></th>\n",
       "    </tr>\n",
       "  </thead>\n",
       "  <tbody>\n",
       "    <tr>\n",
       "      <th>8</th>\n",
       "      <td>3.055104</td>\n",
       "      <td>2831</td>\n",
       "    </tr>\n",
       "    <tr>\n",
       "      <th>28</th>\n",
       "      <td>3.760127</td>\n",
       "      <td>12244</td>\n",
       "    </tr>\n",
       "    <tr>\n",
       "      <th>43</th>\n",
       "      <td>2.310345</td>\n",
       "      <td>58</td>\n",
       "    </tr>\n",
       "    <tr>\n",
       "      <th>48</th>\n",
       "      <td>3.620648</td>\n",
       "      <td>1666</td>\n",
       "    </tr>\n",
       "    <tr>\n",
       "      <th>61</th>\n",
       "      <td>2.385965</td>\n",
       "      <td>57</td>\n",
       "    </tr>\n",
       "  </tbody>\n",
       "</table>\n",
       "</div>"
      ],
      "text/plain": [
       "      ratings  counts\n",
       "mID                  \n",
       "8    3.055104    2831\n",
       "28   3.760127   12244\n",
       "43   2.310345      58\n",
       "48   3.620648    1666\n",
       "61   2.385965      57"
      ]
     },
     "execution_count": 22,
     "metadata": {},
     "output_type": "execute_result"
    }
   ],
   "source": [
    "movie_rating_mean = pd.DataFrame(train_pandas.groupby('mID')['ratings'].mean())\n",
    "movie_rating_mean['counts'] =pd.DataFrame(train_pandas.groupby('mID')['ratings'].count())\n",
    "movie_rating_mean.head()"
   ]
  },
  {
   "cell_type": "code",
   "execution_count": 23,
   "metadata": {
    "colab": {},
    "colab_type": "code",
    "id": "qXz3rC3MDXQZ",
    "outputId": "5c1061e6-6683-4209-bec4-4c64bb0484af"
   },
   "outputs": [
    {
     "data": {
      "text/html": [
       "<div>\n",
       "<style scoped>\n",
       "    .dataframe tbody tr th:only-of-type {\n",
       "        vertical-align: middle;\n",
       "    }\n",
       "\n",
       "    .dataframe tbody tr th {\n",
       "        vertical-align: top;\n",
       "    }\n",
       "\n",
       "    .dataframe thead th {\n",
       "        text-align: right;\n",
       "    }\n",
       "</style>\n",
       "<table border=\"1\" class=\"dataframe\">\n",
       "  <thead>\n",
       "    <tr style=\"text-align: right;\">\n",
       "      <th></th>\n",
       "      <th>ratings</th>\n",
       "      <th>counts</th>\n",
       "    </tr>\n",
       "    <tr>\n",
       "      <th>uID</th>\n",
       "      <th></th>\n",
       "      <th></th>\n",
       "    </tr>\n",
       "  </thead>\n",
       "  <tbody>\n",
       "    <tr>\n",
       "      <th>7</th>\n",
       "      <td>3.903846</td>\n",
       "      <td>104</td>\n",
       "    </tr>\n",
       "    <tr>\n",
       "      <th>79</th>\n",
       "      <td>3.630952</td>\n",
       "      <td>84</td>\n",
       "    </tr>\n",
       "    <tr>\n",
       "      <th>199</th>\n",
       "      <td>3.943662</td>\n",
       "      <td>71</td>\n",
       "    </tr>\n",
       "    <tr>\n",
       "      <th>481</th>\n",
       "      <td>4.351351</td>\n",
       "      <td>74</td>\n",
       "    </tr>\n",
       "    <tr>\n",
       "      <th>769</th>\n",
       "      <td>3.193878</td>\n",
       "      <td>98</td>\n",
       "    </tr>\n",
       "  </tbody>\n",
       "</table>\n",
       "</div>"
      ],
      "text/plain": [
       "      ratings  counts\n",
       "uID                  \n",
       "7    3.903846     104\n",
       "79   3.630952      84\n",
       "199  3.943662      71\n",
       "481  4.351351      74\n",
       "769  3.193878      98"
      ]
     },
     "execution_count": 23,
     "metadata": {},
     "output_type": "execute_result"
    }
   ],
   "source": [
    "user_rating_mean = pd.DataFrame(train_pandas.groupby('uID')['ratings'].mean())\n",
    "user_rating_mean['counts'] =pd.DataFrame(train_pandas.groupby('uID')['ratings'].count())\n",
    "user_rating_mean.head()"
   ]
  },
  {
   "cell_type": "markdown",
   "metadata": {},
   "source": [
    "Visualize each users rating count in training set."
   ]
  },
  {
   "cell_type": "code",
   "execution_count": 24,
   "metadata": {
    "colab": {},
    "colab_type": "code",
    "id": "WsCiE0hDDXQc",
    "outputId": "9a5c37b4-68f7-451a-961d-05a11bfb23f3"
   },
   "outputs": [
    {
     "data": {
      "text/plain": [
       "<AxesSubplot:>"
      ]
     },
     "execution_count": 24,
     "metadata": {},
     "output_type": "execute_result"
    },
    {
     "data": {
      "image/png": "[encoded data removed]",
      "text/plain": [
       "<Figure size 504x504 with 1 Axes>"
      ]
     },
     "metadata": {},
     "output_type": "display_data"
    }
   ],
   "source": [
    "sns.set_style('ticks')\n",
    "plt.figure(figsize=(7,7))\n",
    "movie_rating_mean['counts'].hist(bins=10)"
   ]
  },
  {
   "cell_type": "code",
   "execution_count": 25,
   "metadata": {
    "colab": {},
    "colab_type": "code",
    "id": "h5KWAukuDXQg",
    "outputId": "d11b88b8-94df-4905-e502-1f3d7b4d6a3d"
   },
   "outputs": [
    {
     "data": {
      "text/plain": [
       "<AxesSubplot:xlabel='uID'>"
      ]
     },
     "execution_count": 25,
     "metadata": {},
     "output_type": "execute_result"
    },
    {
     "data": {
      "image/png": "[encoded data removed]",
      "text/plain": [
       "<Figure size 432x288 with 1 Axes>"
      ]
     },
     "metadata": {},
     "output_type": "display_data"
    }
   ],
   "source": [
    "train_pandas.groupby('uID')['mID'].count().plot()"
   ]
  },
  {
   "cell_type": "markdown",
   "metadata": {},
   "source": [
    "Find the overall rating for movies and users in test dataset."
   ]
  },
  {
   "cell_type": "code",
   "execution_count": 26,
   "metadata": {
    "colab": {},
    "colab_type": "code",
    "id": "B-2JRUshDXQk",
    "outputId": "8e159273-5dd2-4225-d902-c8b074082f79"
   },
   "outputs": [
    {
     "data": {
      "text/html": [
       "<div>\n",
       "<style scoped>\n",
       "    .dataframe tbody tr th:only-of-type {\n",
       "        vertical-align: middle;\n",
       "    }\n",
       "\n",
       "    .dataframe tbody tr th {\n",
       "        vertical-align: top;\n",
       "    }\n",
       "\n",
       "    .dataframe thead th {\n",
       "        text-align: right;\n",
       "    }\n",
       "</style>\n",
       "<table border=\"1\" class=\"dataframe\">\n",
       "  <thead>\n",
       "    <tr style=\"text-align: right;\">\n",
       "      <th></th>\n",
       "      <th>ratings</th>\n",
       "      <th>counts</th>\n",
       "    </tr>\n",
       "    <tr>\n",
       "      <th>mID</th>\n",
       "      <th></th>\n",
       "      <th></th>\n",
       "    </tr>\n",
       "  </thead>\n",
       "  <tbody>\n",
       "    <tr>\n",
       "      <th>17725</th>\n",
       "      <td>3.211538</td>\n",
       "      <td>52</td>\n",
       "    </tr>\n",
       "    <tr>\n",
       "      <th>17728</th>\n",
       "      <td>4.500000</td>\n",
       "      <td>2</td>\n",
       "    </tr>\n",
       "    <tr>\n",
       "      <th>17734</th>\n",
       "      <td>3.000000</td>\n",
       "      <td>1</td>\n",
       "    </tr>\n",
       "    <tr>\n",
       "      <th>17741</th>\n",
       "      <td>2.968750</td>\n",
       "      <td>32</td>\n",
       "    </tr>\n",
       "    <tr>\n",
       "      <th>17742</th>\n",
       "      <td>3.125000</td>\n",
       "      <td>8</td>\n",
       "    </tr>\n",
       "  </tbody>\n",
       "</table>\n",
       "</div>"
      ],
      "text/plain": [
       "        ratings  counts\n",
       "mID                    \n",
       "17725  3.211538      52\n",
       "17728  4.500000       2\n",
       "17734  3.000000       1\n",
       "17741  2.968750      32\n",
       "17742  3.125000       8"
      ]
     },
     "execution_count": 26,
     "metadata": {},
     "output_type": "execute_result"
    }
   ],
   "source": [
    "movie_rating_mean_test = pd.DataFrame(test_pandas.groupby('mID')['ratings'].mean())\n",
    "movie_rating_mean_test['counts'] =pd.DataFrame(test_pandas.groupby('mID')['ratings'].count())\n",
    "movie_rating_mean_test.tail()"
   ]
  },
  {
   "cell_type": "code",
   "execution_count": 27,
   "metadata": {
    "colab": {},
    "colab_type": "code",
    "id": "1YVZNs69DXQo",
    "outputId": "780c71d1-acdb-4123-ee3f-777af13e38f2"
   },
   "outputs": [
    {
     "data": {
      "text/html": [
       "<div>\n",
       "<style scoped>\n",
       "    .dataframe tbody tr th:only-of-type {\n",
       "        vertical-align: middle;\n",
       "    }\n",
       "\n",
       "    .dataframe tbody tr th {\n",
       "        vertical-align: top;\n",
       "    }\n",
       "\n",
       "    .dataframe thead th {\n",
       "        text-align: right;\n",
       "    }\n",
       "</style>\n",
       "<table border=\"1\" class=\"dataframe\">\n",
       "  <thead>\n",
       "    <tr style=\"text-align: right;\">\n",
       "      <th></th>\n",
       "      <th>ratings</th>\n",
       "      <th>counts</th>\n",
       "    </tr>\n",
       "    <tr>\n",
       "      <th>uID</th>\n",
       "      <th></th>\n",
       "      <th></th>\n",
       "    </tr>\n",
       "  </thead>\n",
       "  <tbody>\n",
       "    <tr>\n",
       "      <th>2648869</th>\n",
       "      <td>2.777778</td>\n",
       "      <td>9</td>\n",
       "    </tr>\n",
       "    <tr>\n",
       "      <th>2648885</th>\n",
       "      <td>4.000000</td>\n",
       "      <td>5</td>\n",
       "    </tr>\n",
       "    <tr>\n",
       "      <th>2649120</th>\n",
       "      <td>5.000000</td>\n",
       "      <td>2</td>\n",
       "    </tr>\n",
       "    <tr>\n",
       "      <th>2649267</th>\n",
       "      <td>4.142857</td>\n",
       "      <td>7</td>\n",
       "    </tr>\n",
       "    <tr>\n",
       "      <th>2649285</th>\n",
       "      <td>2.333333</td>\n",
       "      <td>3</td>\n",
       "    </tr>\n",
       "  </tbody>\n",
       "</table>\n",
       "</div>"
      ],
      "text/plain": [
       "          ratings  counts\n",
       "uID                      \n",
       "2648869  2.777778       9\n",
       "2648885  4.000000       5\n",
       "2649120  5.000000       2\n",
       "2649267  4.142857       7\n",
       "2649285  2.333333       3"
      ]
     },
     "execution_count": 27,
     "metadata": {},
     "output_type": "execute_result"
    }
   ],
   "source": [
    "#checking overall average rate of the user with their counts  in the training set\n",
    "user_rating_mean_test = pd.DataFrame(test_pandas.groupby('uID')['ratings'].mean())\n",
    "user_rating_mean_test['counts'] =pd.DataFrame(test_pandas.groupby('uID')['ratings'].count())\n",
    "user_rating_mean_test.tail()"
   ]
  },
  {
   "cell_type": "markdown",
   "metadata": {},
   "source": [
    "Visualize each users rating count."
   ]
  },
  {
   "cell_type": "code",
   "execution_count": 28,
   "metadata": {
    "colab": {},
    "colab_type": "code",
    "id": "-0W_3Xn5DXQs",
    "outputId": "89507ad3-cda8-4fca-b2d5-085e66fb3729"
   },
   "outputs": [
    {
     "data": {
      "text/plain": [
       "<AxesSubplot:>"
      ]
     },
     "execution_count": 28,
     "metadata": {},
     "output_type": "execute_result"
    },
    {
     "data": {
      "image/png": "[encoded data removed]",
      "text/plain": [
       "<Figure size 432x288 with 1 Axes>"
      ]
     },
     "metadata": {},
     "output_type": "display_data"
    }
   ],
   "source": [
    "sns.set_style('ticks')\n",
    "user_rating_mean_test['counts'].hist(bins=10)"
   ]
  },
  {
   "cell_type": "code",
   "execution_count": 29,
   "metadata": {
    "colab": {},
    "colab_type": "code",
    "id": "6KC7Mz4nDXQw",
    "outputId": "ed970ee1-762b-4132-9f65-f17892c2b8fa"
   },
   "outputs": [
    {
     "data": {
      "text/plain": [
       "uID\n",
       "1664010    70\n",
       "2439493    52\n",
       "305344     52\n",
       "387418     51\n",
       "1314869    38\n",
       "Name: ratings, dtype: int64"
      ]
     },
     "execution_count": 29,
     "metadata": {},
     "output_type": "execute_result"
    }
   ],
   "source": [
    "test_pandas.groupby('uID')['ratings'].count().sort_values(ascending=False).head()"
   ]
  },
  {
   "cell_type": "code",
   "execution_count": 30,
   "metadata": {
    "colab": {},
    "colab_type": "code",
    "id": "xPUfNf9UDXQ4",
    "outputId": "7289f380-0957-4e30-eda8-9e8a7db73124"
   },
   "outputs": [
    {
     "data": {
      "text/plain": [
       "mID\n",
       "6971    811\n",
       "4640    756\n",
       "6287    737\n",
       "9728    706\n",
       "8915    695\n",
       "Name: ratings, dtype: int64"
      ]
     },
     "execution_count": 30,
     "metadata": {},
     "output_type": "execute_result"
    }
   ],
   "source": [
    "test_pandas.groupby('mID')['ratings'].count().sort_values(ascending=False).head()"
   ]
  },
  {
   "cell_type": "code",
   "execution_count": 31,
   "metadata": {
    "colab": {},
    "colab_type": "code",
    "id": "XQ_HDUhPDXQ_",
    "outputId": "3021203b-3c62-4ca5-ee3f-105880b78979"
   },
   "outputs": [
    {
     "data": {
      "text/plain": [
       "<AxesSubplot:>"
      ]
     },
     "execution_count": 31,
     "metadata": {},
     "output_type": "execute_result"
    },
    {
     "data": {
      "image/png": "[encoded data removed]",
      "text/plain": [
       "<Figure size 432x288 with 1 Axes>"
      ]
     },
     "metadata": {},
     "output_type": "display_data"
    }
   ],
   "source": [
    "user_rating_mean_test['ratings'].hist(bins=10)"
   ]
  },
  {
   "cell_type": "markdown",
   "metadata": {
    "colab_type": "text",
    "id": "UZfsj7olDXRF"
   },
   "source": [
    "# Problem 1\n"
   ]
  },
  {
   "cell_type": "markdown",
   "metadata": {
    "colab_type": "text",
    "id": "segfVrH-DXRG"
   },
   "source": [
    "Now that the preprocessing is over and we have viewed the way our data is displaced lets start by building a collaborative filtering using ALS.\n",
    "\n",
    "Because we would still like to know the best parameters for the ALS model, we will be alternating mainly the rank and the maxiter parameters. We will split our training further to help us iron out these best paramaters\n",
    "\n",
    "we will be using the coldstrategy to drop nans"
   ]
  },
  {
   "cell_type": "code",
   "execution_count": 32,
   "metadata": {
    "colab": {},
    "colab_type": "code",
    "id": "KZE7a2dPDXRH"
   },
   "outputs": [],
   "source": [
    "training, testing= train_df.randomSplit([0.8, 0.2])\n",
    "als = ALS(maxIter=5, regParam=0.01, userCol=\"uID\", itemCol=\"mID\", ratingCol=\"ratings\",coldStartStrategy=\"drop\")\n",
    "model = als.fit(training)"
   ]
  },
  {
   "cell_type": "code",
   "execution_count": 33,
   "metadata": {
    "colab": {},
    "colab_type": "code",
    "id": "bQhU8FQlDXRO",
    "outputId": "445d306c-a4cc-439a-ace1-d3c32a124dbd"
   },
   "outputs": [
    {
     "name": "stdout",
     "output_type": "stream",
     "text": [
      "Root-mean-square error = 0.8680544505219475\n"
     ]
    }
   ],
   "source": [
    "predictions = model.transform(testing)\n",
    "evaluator = RegressionEvaluator(metricName=\"rmse\", labelCol=\"ratings\",predictionCol=\"prediction\")\n",
    "rmse = evaluator.evaluate(predictions)\n",
    "print(\"Root-mean-square error = \" + str(rmse))"
   ]
  },
  {
   "cell_type": "markdown",
   "metadata": {},
   "source": [
    "Hyper Paramater tuning"
   ]
  },
  {
   "cell_type": "code",
   "execution_count": 34,
   "metadata": {
    "colab": {},
    "colab_type": "code",
    "id": "6GORmWkzDXRT",
    "outputId": "f68ca6a5-362f-461d-ad4a-6a7cfa6defd5"
   },
   "outputs": [
    {
     "name": "stdout",
     "output_type": "stream",
     "text": [
      "0\n",
      "Root-mean-square error = 0.8551009473555408\n",
      "+---+-------+-------+----------+\n",
      "|mID|    uID|ratings|prediction|\n",
      "+---+-------+-------+----------+\n",
      "|  8|1497891|    4.0| 3.3741612|\n",
      "|  8|2358799|    1.0|  3.601194|\n",
      "|  8|2531111|    1.0|  2.945887|\n",
      "| 28| 446160|    3.0| 3.6510394|\n",
      "| 28| 953170|    4.0| 4.2567377|\n",
      "| 28|1742759|    3.0| 3.1972098|\n",
      "| 28|2250628|    2.0| 3.2950711|\n",
      "| 48|1909175|    4.0| 3.6673388|\n",
      "|111|1629521|    2.0| 2.1819172|\n",
      "|122|1628484|    2.0| 2.6963592|\n",
      "|127| 128389|    5.0| 2.6734257|\n",
      "|156|2629660|    2.0|  2.729957|\n",
      "|409|1742759|    2.0| 2.8589942|\n",
      "|442| 446160|    4.0| 3.9623058|\n",
      "|442|1434507|    5.0| 5.0844507|\n",
      "|442|1742759|    5.0| 3.3469996|\n",
      "|443|1896167|    4.0| 3.8345618|\n",
      "|518|1434507|    5.0|  4.771213|\n",
      "|606|1742759|    4.0| 2.6732342|\n",
      "|626|1497891|    4.0| 3.0413392|\n",
      "+---+-------+-------+----------+\n",
      "only showing top 20 rows\n",
      "\n",
      "1\n",
      "Root-mean-square error = 0.8545109693467581\n",
      "+---+-------+-------+----------+\n",
      "|mID|    uID|ratings|prediction|\n",
      "+---+-------+-------+----------+\n",
      "|  8|1497891|    4.0| 2.2220817|\n",
      "|  8|2358799|    1.0| 2.8713765|\n",
      "|  8|2531111|    1.0| 3.0251107|\n",
      "| 28| 446160|    3.0|  3.497016|\n",
      "| 28| 953170|    4.0| 4.2500463|\n",
      "| 28|1742759|    3.0| 3.3645444|\n",
      "| 28|2250628|    2.0| 3.0496602|\n",
      "| 48|1909175|    4.0| 3.8448977|\n",
      "|111|1629521|    2.0|   2.18027|\n",
      "|122|1628484|    2.0| 2.7538354|\n",
      "|127| 128389|    5.0| 2.7521155|\n",
      "|156|2629660|    2.0| 2.5858493|\n",
      "|409|1742759|    2.0| 2.8715932|\n",
      "|442| 446160|    4.0| 4.0099115|\n",
      "|442|1434507|    5.0| 5.1315074|\n",
      "|442|1742759|    5.0|  3.250797|\n",
      "|443|1896167|    4.0|  3.811699|\n",
      "|518|1434507|    5.0| 4.7446866|\n",
      "|606|1742759|    4.0| 2.6605752|\n",
      "|626|1497891|    4.0|  3.321059|\n",
      "+---+-------+-------+----------+\n",
      "only showing top 20 rows\n",
      "\n",
      "2\n",
      "Root-mean-square error = 0.8585483930291913\n",
      "+---+-------+-------+----------+\n",
      "|mID|    uID|ratings|prediction|\n",
      "+---+-------+-------+----------+\n",
      "|  8|1497891|    4.0| 3.7266393|\n",
      "|  8|2358799|    1.0| 1.8903883|\n",
      "|  8|2531111|    1.0| 2.5900576|\n",
      "| 28| 446160|    3.0| 3.3566322|\n",
      "| 28| 953170|    4.0| 4.3930182|\n",
      "| 28|1742759|    3.0|  3.355837|\n",
      "| 28|2250628|    2.0| 2.8767772|\n",
      "| 48|1909175|    4.0| 3.8706799|\n",
      "|111|1629521|    2.0|  2.241692|\n",
      "|122|1628484|    2.0| 2.8156757|\n",
      "|127| 128389|    5.0|  2.778299|\n",
      "|156|2629660|    2.0| 2.5525897|\n",
      "|409|1742759|    2.0|  2.816527|\n",
      "|442| 446160|    4.0| 3.9276996|\n",
      "|442|1434507|    5.0|  5.074805|\n",
      "|442|1742759|    5.0|  3.367118|\n",
      "|443|1896167|    4.0| 3.8089302|\n",
      "|518|1434507|    5.0|  4.767585|\n",
      "|606|1742759|    4.0|  2.101239|\n",
      "|626|1497891|    4.0| 3.0155418|\n",
      "+---+-------+-------+----------+\n",
      "only showing top 20 rows\n",
      "\n",
      "3\n",
      "Root-mean-square error = 0.8675676304946084\n",
      "+---+-------+-------+----------+\n",
      "|mID|    uID|ratings|prediction|\n",
      "+---+-------+-------+----------+\n",
      "|  8|1497891|    4.0| 3.6402755|\n",
      "|  8|2358799|    1.0|  4.106266|\n",
      "|  8|2531111|    1.0| 3.5973434|\n",
      "| 28| 446160|    3.0| 3.8248498|\n",
      "| 28| 953170|    4.0|  4.096258|\n",
      "| 28|1742759|    3.0| 3.6533737|\n",
      "| 28|2250628|    2.0| 3.1489782|\n",
      "| 48|1909175|    4.0|  4.031522|\n",
      "|111|1629521|    2.0| 2.0215828|\n",
      "|122|1628484|    2.0| 2.7932718|\n",
      "|127| 128389|    5.0| 2.8198133|\n",
      "|156|2629660|    2.0| 2.4762309|\n",
      "|409|1742759|    2.0| 3.1803563|\n",
      "|442| 446160|    4.0|  4.079858|\n",
      "|442|1434507|    5.0| 4.9700923|\n",
      "|442|1742759|    5.0| 3.2724648|\n",
      "|443|1896167|    4.0| 3.6922214|\n",
      "|518|1434507|    5.0| 4.7341995|\n",
      "|606|1742759|    4.0| 2.7621381|\n",
      "|626|1497891|    4.0| 4.0835357|\n",
      "+---+-------+-------+----------+\n",
      "only showing top 20 rows\n",
      "\n",
      "4\n",
      "Root-mean-square error = 0.8734998422078889\n",
      "+---+-------+-------+----------+\n",
      "|mID|    uID|ratings|prediction|\n",
      "+---+-------+-------+----------+\n",
      "|  8|1497891|    4.0| 2.6516583|\n",
      "|  8|2358799|    1.0| 3.5446944|\n",
      "|  8|2531111|    1.0| 4.0208516|\n",
      "| 28| 446160|    3.0| 3.6637106|\n",
      "| 28| 953170|    4.0| 4.4299936|\n",
      "| 28|1742759|    3.0| 3.4585207|\n",
      "| 28|2250628|    2.0| 2.9895873|\n",
      "| 48|1909175|    4.0| 3.7275548|\n",
      "|111|1629521|    2.0| 1.7968465|\n",
      "|122|1628484|    2.0| 2.9289246|\n",
      "|127| 128389|    5.0| 3.0273263|\n",
      "|156|2629660|    2.0| 1.8973972|\n",
      "|409|1742759|    2.0|  3.911247|\n",
      "|442| 446160|    4.0|  4.235641|\n",
      "|442|1434507|    5.0| 4.8428354|\n",
      "|442|1742759|    5.0| 3.1908147|\n",
      "|443|1896167|    4.0|  3.982946|\n",
      "|518|1434507|    5.0| 4.7519007|\n",
      "|606|1742759|    4.0| 1.9928715|\n",
      "|626|1497891|    4.0| 3.8617272|\n",
      "+---+-------+-------+----------+\n",
      "only showing top 20 rows\n",
      "\n"
     ]
    }
   ],
   "source": [
    "ranks = [6,8,10,12,14]\n",
    "for i in range(len(ranks)):\n",
    "    print(i)\n",
    "    als = ALS(maxIter=10,rank=ranks[i], regParam=0.01, userCol=\"uID\", itemCol=\"mID\", ratingCol=\"ratings\",coldStartStrategy=\"drop\")\n",
    "    model = als.fit(training)\n",
    "    predictions = model.transform(testing)\n",
    "    evaluator = RegressionEvaluator(metricName=\"rmse\", labelCol=\"ratings\",predictionCol=\"prediction\")\n",
    "    rmse = evaluator.evaluate(predictions)\n",
    "    print(\"Root-mean-square error = \" + str(rmse))\n",
    "    predictions.show()"
   ]
  },
  {
   "cell_type": "markdown",
   "metadata": {
    "colab_type": "text",
    "id": "wQPuJrW1DXRa"
   },
   "source": [
    "For our models built, the paramaters rank of 8 and maxiter of 10 seemed to be our best model. Lets varify the regparams for this same model and see if that decreases our root mean square error."
   ]
  },
  {
   "cell_type": "code",
   "execution_count": 35,
   "metadata": {
    "colab": {},
    "colab_type": "code",
    "id": "Ugl6e9Z2DXRb",
    "outputId": "e96573ec-6dc6-4ce0-a32d-25a41f976a44"
   },
   "outputs": [
    {
     "name": "stdout",
     "output_type": "stream",
     "text": [
      "Root-mean-square error = 0.852040422384116\n",
      "+---+-------+-------+----------+\n",
      "|mID|    uID|ratings|prediction|\n",
      "+---+-------+-------+----------+\n",
      "|  8|1497891|    4.0|  2.611914|\n",
      "|  8|2358799|    1.0|  3.055101|\n",
      "|  8|2531111|    1.0| 2.9374247|\n",
      "| 28| 446160|    3.0| 3.7499733|\n",
      "| 28| 953170|    4.0| 4.1837726|\n",
      "| 28|1742759|    3.0| 3.2339163|\n",
      "| 28|2250628|    2.0| 3.1929152|\n",
      "| 48|1909175|    4.0| 3.7260492|\n",
      "|111|1629521|    2.0| 2.2248561|\n",
      "|122|1628484|    2.0| 2.7162952|\n",
      "|127| 128389|    5.0|  2.542643|\n",
      "|156|2629660|    2.0| 2.7356007|\n",
      "|409|1742759|    2.0| 2.9578366|\n",
      "|442| 446160|    4.0|  3.961347|\n",
      "|442|1434507|    5.0| 5.0880876|\n",
      "|442|1742759|    5.0| 3.3351014|\n",
      "|443|1896167|    4.0| 3.7508047|\n",
      "|518|1434507|    5.0|  4.795288|\n",
      "|606|1742759|    4.0| 2.8785424|\n",
      "|626|1497891|    4.0| 3.3087177|\n",
      "+---+-------+-------+----------+\n",
      "only showing top 20 rows\n",
      "\n"
     ]
    }
   ],
   "source": [
    "als = ALS(maxIter=10,rank=8, regParam=0.09, userCol=\"uID\", itemCol=\"mID\", ratingCol=\"ratings\",coldStartStrategy=\"drop\")\n",
    "model = als.fit(training)\n",
    "predictions = model.transform(testing)\n",
    "evaluator = RegressionEvaluator(metricName=\"rmse\", labelCol=\"ratings\",predictionCol=\"prediction\")\n",
    "rmse = evaluator.evaluate(predictions)\n",
    "print(\"Root-mean-square error = \" + str(rmse))\n",
    "predictions.show()"
   ]
  },
  {
   "cell_type": "markdown",
   "metadata": {
    "colab_type": "text",
    "id": "Dcv5mKXHDXRf"
   },
   "source": [
    "Well that seems to be our best model yet."
   ]
  },
  {
   "cell_type": "markdown",
   "metadata": {
    "colab_type": "text",
    "id": "aV4RxOenDXRf"
   },
   "source": [
    "# Problem 2"
   ]
  },
  {
   "cell_type": "markdown",
   "metadata": {
    "colab_type": "text",
    "id": "79G5xk8qDXRg"
   },
   "source": [
    "We will analyze our data and find the average rating of movie given all users who rated the movie- average overlap of users for items\n",
    " \n",
    "We will also find the average rating given by users - average of items for users"
   ]
  },
  {
   "cell_type": "code",
   "execution_count": 36,
   "metadata": {
    "colab": {},
    "colab_type": "code",
    "id": "b6tSuF0qDXRh"
   },
   "outputs": [],
   "source": [
    "def get_average(user):\n",
    "    summed =0\n",
    "    count =0\n",
    "\n",
    "    for i in range(len(user)):\n",
    "        if(user[i]==0):\n",
    "            summed = summed +0\n",
    "        else:\n",
    "            summed= user[i] +summed\n",
    "            count= 1+ count\n",
    "    avgg=summed/count\n",
    "    return avgg"
   ]
  },
  {
   "cell_type": "markdown",
   "metadata": {},
   "source": [
    "Find the unique users and movies in our dataframe"
   ]
  },
  {
   "cell_type": "code",
   "execution_count": 37,
   "metadata": {
    "colab": {},
    "colab_type": "code",
    "id": "zXUsrCymDXRk",
    "outputId": "660d0d84-4d79-4386-d801-8cda66a34098"
   },
   "outputs": [
    {
     "data": {
      "text/plain": [
       "27555"
      ]
     },
     "execution_count": 37,
     "metadata": {},
     "output_type": "execute_result"
    }
   ],
   "source": [
    "len(test_pandas['uID'].unique())"
   ]
  },
  {
   "cell_type": "code",
   "execution_count": 38,
   "metadata": {
    "colab": {},
    "colab_type": "code",
    "id": "vH8HvdzWDXRo",
    "outputId": "c9a4d741-2b7a-46c3-dc50-091d1ca75308"
   },
   "outputs": [
    {
     "data": {
      "text/plain": [
       "1701"
      ]
     },
     "execution_count": 38,
     "metadata": {},
     "output_type": "execute_result"
    }
   ],
   "source": [
    "len(test_pandas['mID'].unique())"
   ]
  },
  {
   "cell_type": "markdown",
   "metadata": {},
   "source": [
    "Create a new dataframe with userID as index and the movieId as columns for our training data"
   ]
  },
  {
   "cell_type": "code",
   "execution_count": 39,
   "metadata": {
    "colab": {},
    "colab_type": "code",
    "id": "2OruO2gHDXRs",
    "outputId": "0adfdb7e-2ab0-438f-86c9-949600c6ecc9"
   },
   "outputs": [
    {
     "data": {
      "text/html": [
       "<div>\n",
       "<style scoped>\n",
       "    .dataframe tbody tr th:only-of-type {\n",
       "        vertical-align: middle;\n",
       "    }\n",
       "\n",
       "    .dataframe tbody tr th {\n",
       "        vertical-align: top;\n",
       "    }\n",
       "\n",
       "    .dataframe thead th {\n",
       "        text-align: right;\n",
       "    }\n",
       "</style>\n",
       "<table border=\"1\" class=\"dataframe\">\n",
       "  <thead>\n",
       "    <tr style=\"text-align: right;\">\n",
       "      <th>mID</th>\n",
       "      <th>8</th>\n",
       "      <th>28</th>\n",
       "      <th>43</th>\n",
       "      <th>48</th>\n",
       "      <th>61</th>\n",
       "      <th>64</th>\n",
       "      <th>66</th>\n",
       "      <th>92</th>\n",
       "      <th>96</th>\n",
       "      <th>111</th>\n",
       "      <th>...</th>\n",
       "      <th>17654</th>\n",
       "      <th>17660</th>\n",
       "      <th>17689</th>\n",
       "      <th>17693</th>\n",
       "      <th>17706</th>\n",
       "      <th>17725</th>\n",
       "      <th>17728</th>\n",
       "      <th>17734</th>\n",
       "      <th>17741</th>\n",
       "      <th>17742</th>\n",
       "    </tr>\n",
       "    <tr>\n",
       "      <th>uID</th>\n",
       "      <th></th>\n",
       "      <th></th>\n",
       "      <th></th>\n",
       "      <th></th>\n",
       "      <th></th>\n",
       "      <th></th>\n",
       "      <th></th>\n",
       "      <th></th>\n",
       "      <th></th>\n",
       "      <th></th>\n",
       "      <th></th>\n",
       "      <th></th>\n",
       "      <th></th>\n",
       "      <th></th>\n",
       "      <th></th>\n",
       "      <th></th>\n",
       "      <th></th>\n",
       "      <th></th>\n",
       "      <th></th>\n",
       "      <th></th>\n",
       "      <th></th>\n",
       "    </tr>\n",
       "  </thead>\n",
       "  <tbody>\n",
       "    <tr>\n",
       "      <th>2648869</th>\n",
       "      <td>NaN</td>\n",
       "      <td>NaN</td>\n",
       "      <td>NaN</td>\n",
       "      <td>NaN</td>\n",
       "      <td>NaN</td>\n",
       "      <td>NaN</td>\n",
       "      <td>NaN</td>\n",
       "      <td>NaN</td>\n",
       "      <td>NaN</td>\n",
       "      <td>NaN</td>\n",
       "      <td>...</td>\n",
       "      <td>NaN</td>\n",
       "      <td>NaN</td>\n",
       "      <td>NaN</td>\n",
       "      <td>NaN</td>\n",
       "      <td>NaN</td>\n",
       "      <td>5.0</td>\n",
       "      <td>NaN</td>\n",
       "      <td>NaN</td>\n",
       "      <td>NaN</td>\n",
       "      <td>NaN</td>\n",
       "    </tr>\n",
       "    <tr>\n",
       "      <th>2648885</th>\n",
       "      <td>NaN</td>\n",
       "      <td>4.0</td>\n",
       "      <td>NaN</td>\n",
       "      <td>NaN</td>\n",
       "      <td>NaN</td>\n",
       "      <td>NaN</td>\n",
       "      <td>NaN</td>\n",
       "      <td>NaN</td>\n",
       "      <td>NaN</td>\n",
       "      <td>NaN</td>\n",
       "      <td>...</td>\n",
       "      <td>NaN</td>\n",
       "      <td>NaN</td>\n",
       "      <td>NaN</td>\n",
       "      <td>NaN</td>\n",
       "      <td>NaN</td>\n",
       "      <td>NaN</td>\n",
       "      <td>NaN</td>\n",
       "      <td>NaN</td>\n",
       "      <td>NaN</td>\n",
       "      <td>NaN</td>\n",
       "    </tr>\n",
       "    <tr>\n",
       "      <th>2649120</th>\n",
       "      <td>NaN</td>\n",
       "      <td>NaN</td>\n",
       "      <td>NaN</td>\n",
       "      <td>NaN</td>\n",
       "      <td>NaN</td>\n",
       "      <td>NaN</td>\n",
       "      <td>NaN</td>\n",
       "      <td>NaN</td>\n",
       "      <td>NaN</td>\n",
       "      <td>NaN</td>\n",
       "      <td>...</td>\n",
       "      <td>NaN</td>\n",
       "      <td>NaN</td>\n",
       "      <td>NaN</td>\n",
       "      <td>NaN</td>\n",
       "      <td>NaN</td>\n",
       "      <td>NaN</td>\n",
       "      <td>NaN</td>\n",
       "      <td>NaN</td>\n",
       "      <td>NaN</td>\n",
       "      <td>NaN</td>\n",
       "    </tr>\n",
       "    <tr>\n",
       "      <th>2649267</th>\n",
       "      <td>NaN</td>\n",
       "      <td>NaN</td>\n",
       "      <td>NaN</td>\n",
       "      <td>NaN</td>\n",
       "      <td>NaN</td>\n",
       "      <td>NaN</td>\n",
       "      <td>NaN</td>\n",
       "      <td>NaN</td>\n",
       "      <td>NaN</td>\n",
       "      <td>3.0</td>\n",
       "      <td>...</td>\n",
       "      <td>NaN</td>\n",
       "      <td>NaN</td>\n",
       "      <td>NaN</td>\n",
       "      <td>NaN</td>\n",
       "      <td>NaN</td>\n",
       "      <td>NaN</td>\n",
       "      <td>NaN</td>\n",
       "      <td>NaN</td>\n",
       "      <td>NaN</td>\n",
       "      <td>NaN</td>\n",
       "    </tr>\n",
       "    <tr>\n",
       "      <th>2649285</th>\n",
       "      <td>NaN</td>\n",
       "      <td>4.0</td>\n",
       "      <td>NaN</td>\n",
       "      <td>NaN</td>\n",
       "      <td>NaN</td>\n",
       "      <td>NaN</td>\n",
       "      <td>NaN</td>\n",
       "      <td>NaN</td>\n",
       "      <td>NaN</td>\n",
       "      <td>NaN</td>\n",
       "      <td>...</td>\n",
       "      <td>NaN</td>\n",
       "      <td>NaN</td>\n",
       "      <td>NaN</td>\n",
       "      <td>NaN</td>\n",
       "      <td>NaN</td>\n",
       "      <td>NaN</td>\n",
       "      <td>NaN</td>\n",
       "      <td>NaN</td>\n",
       "      <td>NaN</td>\n",
       "      <td>NaN</td>\n",
       "    </tr>\n",
       "  </tbody>\n",
       "</table>\n",
       "<p>5 rows × 1821 columns</p>\n",
       "</div>"
      ],
      "text/plain": [
       "mID      8      28     43     48     61     64     66     92     96     111    \\\n",
       "uID                                                                             \n",
       "2648869    NaN    NaN    NaN    NaN    NaN    NaN    NaN    NaN    NaN    NaN   \n",
       "2648885    NaN    4.0    NaN    NaN    NaN    NaN    NaN    NaN    NaN    NaN   \n",
       "2649120    NaN    NaN    NaN    NaN    NaN    NaN    NaN    NaN    NaN    NaN   \n",
       "2649267    NaN    NaN    NaN    NaN    NaN    NaN    NaN    NaN    NaN    3.0   \n",
       "2649285    NaN    4.0    NaN    NaN    NaN    NaN    NaN    NaN    NaN    NaN   \n",
       "\n",
       "mID      ...  17654  17660  17689  17693  17706  17725  17728  17734  17741  \\\n",
       "uID      ...                                                                  \n",
       "2648869  ...    NaN    NaN    NaN    NaN    NaN    5.0    NaN    NaN    NaN   \n",
       "2648885  ...    NaN    NaN    NaN    NaN    NaN    NaN    NaN    NaN    NaN   \n",
       "2649120  ...    NaN    NaN    NaN    NaN    NaN    NaN    NaN    NaN    NaN   \n",
       "2649267  ...    NaN    NaN    NaN    NaN    NaN    NaN    NaN    NaN    NaN   \n",
       "2649285  ...    NaN    NaN    NaN    NaN    NaN    NaN    NaN    NaN    NaN   \n",
       "\n",
       "mID      17742  \n",
       "uID             \n",
       "2648869    NaN  \n",
       "2648885    NaN  \n",
       "2649120    NaN  \n",
       "2649267    NaN  \n",
       "2649285    NaN  \n",
       "\n",
       "[5 rows x 1821 columns]"
      ]
     },
     "execution_count": 39,
     "metadata": {},
     "output_type": "execute_result"
    }
   ],
   "source": [
    "user_movie_rating = train_pandas.pivot_table(index='uID', columns='mID', values='ratings')\n",
    "user_movie_rating.tail()"
   ]
  },
  {
   "cell_type": "markdown",
   "metadata": {
    "colab_type": "text",
    "id": "NjFoIjbtDXRw"
   },
   "source": [
    "We will use the random five movies and users with the most count from our test data.\n",
    "Movies with IDs:6971,4640,6287,9728,8915\n",
    "Users with the IDs:1664010,2439493,305344,387418,1314869"
   ]
  },
  {
   "cell_type": "code",
   "execution_count": 40,
   "metadata": {
    "colab": {},
    "colab_type": "code",
    "id": "AriX28SADXR0",
    "outputId": "4f3fedd2-610d-42bb-ec04-dd03dfefe2e7"
   },
   "outputs": [
    {
     "data": {
      "text/plain": [
       "uID\n",
       "7          4.0\n",
       "79         5.0\n",
       "199        4.0\n",
       "481        4.0\n",
       "769        4.0\n",
       "          ... \n",
       "2648869    4.0\n",
       "2648885    5.0\n",
       "2649120    5.0\n",
       "2649267    3.0\n",
       "2649285    5.0\n",
       "Name: 6971, Length: 28978, dtype: float64"
      ]
     },
     "execution_count": 40,
     "metadata": {},
     "output_type": "execute_result"
    }
   ],
   "source": [
    "user_movie_rating[6971]"
   ]
  },
  {
   "cell_type": "markdown",
   "metadata": {},
   "source": [
    "Fill the nan values with 0."
   ]
  },
  {
   "cell_type": "code",
   "execution_count": 41,
   "metadata": {
    "colab": {},
    "colab_type": "code",
    "id": "QGLOFqDnDXR_",
    "outputId": "33ec37a8-8791-470d-b5c8-68972928b94f"
   },
   "outputs": [
    {
     "data": {
      "text/html": [
       "<div>\n",
       "<style scoped>\n",
       "    .dataframe tbody tr th:only-of-type {\n",
       "        vertical-align: middle;\n",
       "    }\n",
       "\n",
       "    .dataframe tbody tr th {\n",
       "        vertical-align: top;\n",
       "    }\n",
       "\n",
       "    .dataframe thead th {\n",
       "        text-align: right;\n",
       "    }\n",
       "</style>\n",
       "<table border=\"1\" class=\"dataframe\">\n",
       "  <thead>\n",
       "    <tr style=\"text-align: right;\">\n",
       "      <th>mID</th>\n",
       "      <th>8</th>\n",
       "      <th>28</th>\n",
       "      <th>43</th>\n",
       "      <th>48</th>\n",
       "      <th>61</th>\n",
       "      <th>64</th>\n",
       "      <th>66</th>\n",
       "      <th>92</th>\n",
       "      <th>96</th>\n",
       "      <th>111</th>\n",
       "      <th>...</th>\n",
       "      <th>17654</th>\n",
       "      <th>17660</th>\n",
       "      <th>17689</th>\n",
       "      <th>17693</th>\n",
       "      <th>17706</th>\n",
       "      <th>17725</th>\n",
       "      <th>17728</th>\n",
       "      <th>17734</th>\n",
       "      <th>17741</th>\n",
       "      <th>17742</th>\n",
       "    </tr>\n",
       "    <tr>\n",
       "      <th>uID</th>\n",
       "      <th></th>\n",
       "      <th></th>\n",
       "      <th></th>\n",
       "      <th></th>\n",
       "      <th></th>\n",
       "      <th></th>\n",
       "      <th></th>\n",
       "      <th></th>\n",
       "      <th></th>\n",
       "      <th></th>\n",
       "      <th></th>\n",
       "      <th></th>\n",
       "      <th></th>\n",
       "      <th></th>\n",
       "      <th></th>\n",
       "      <th></th>\n",
       "      <th></th>\n",
       "      <th></th>\n",
       "      <th></th>\n",
       "      <th></th>\n",
       "      <th></th>\n",
       "    </tr>\n",
       "  </thead>\n",
       "  <tbody>\n",
       "    <tr>\n",
       "      <th>7</th>\n",
       "      <td>5.0</td>\n",
       "      <td>4.0</td>\n",
       "      <td>0.0</td>\n",
       "      <td>0.0</td>\n",
       "      <td>0.0</td>\n",
       "      <td>0.0</td>\n",
       "      <td>0.0</td>\n",
       "      <td>0.0</td>\n",
       "      <td>0.0</td>\n",
       "      <td>0.0</td>\n",
       "      <td>...</td>\n",
       "      <td>0.0</td>\n",
       "      <td>0.0</td>\n",
       "      <td>0.0</td>\n",
       "      <td>0.0</td>\n",
       "      <td>0.0</td>\n",
       "      <td>0.0</td>\n",
       "      <td>0.0</td>\n",
       "      <td>0.0</td>\n",
       "      <td>0.0</td>\n",
       "      <td>0.0</td>\n",
       "    </tr>\n",
       "    <tr>\n",
       "      <th>79</th>\n",
       "      <td>0.0</td>\n",
       "      <td>0.0</td>\n",
       "      <td>0.0</td>\n",
       "      <td>0.0</td>\n",
       "      <td>0.0</td>\n",
       "      <td>0.0</td>\n",
       "      <td>0.0</td>\n",
       "      <td>0.0</td>\n",
       "      <td>0.0</td>\n",
       "      <td>0.0</td>\n",
       "      <td>...</td>\n",
       "      <td>0.0</td>\n",
       "      <td>0.0</td>\n",
       "      <td>0.0</td>\n",
       "      <td>0.0</td>\n",
       "      <td>0.0</td>\n",
       "      <td>0.0</td>\n",
       "      <td>0.0</td>\n",
       "      <td>0.0</td>\n",
       "      <td>0.0</td>\n",
       "      <td>0.0</td>\n",
       "    </tr>\n",
       "    <tr>\n",
       "      <th>199</th>\n",
       "      <td>0.0</td>\n",
       "      <td>0.0</td>\n",
       "      <td>0.0</td>\n",
       "      <td>0.0</td>\n",
       "      <td>0.0</td>\n",
       "      <td>0.0</td>\n",
       "      <td>0.0</td>\n",
       "      <td>0.0</td>\n",
       "      <td>0.0</td>\n",
       "      <td>4.0</td>\n",
       "      <td>...</td>\n",
       "      <td>0.0</td>\n",
       "      <td>0.0</td>\n",
       "      <td>0.0</td>\n",
       "      <td>0.0</td>\n",
       "      <td>0.0</td>\n",
       "      <td>0.0</td>\n",
       "      <td>0.0</td>\n",
       "      <td>0.0</td>\n",
       "      <td>0.0</td>\n",
       "      <td>0.0</td>\n",
       "    </tr>\n",
       "    <tr>\n",
       "      <th>481</th>\n",
       "      <td>0.0</td>\n",
       "      <td>0.0</td>\n",
       "      <td>0.0</td>\n",
       "      <td>0.0</td>\n",
       "      <td>0.0</td>\n",
       "      <td>0.0</td>\n",
       "      <td>0.0</td>\n",
       "      <td>0.0</td>\n",
       "      <td>0.0</td>\n",
       "      <td>5.0</td>\n",
       "      <td>...</td>\n",
       "      <td>0.0</td>\n",
       "      <td>0.0</td>\n",
       "      <td>0.0</td>\n",
       "      <td>0.0</td>\n",
       "      <td>0.0</td>\n",
       "      <td>0.0</td>\n",
       "      <td>0.0</td>\n",
       "      <td>0.0</td>\n",
       "      <td>0.0</td>\n",
       "      <td>0.0</td>\n",
       "    </tr>\n",
       "    <tr>\n",
       "      <th>769</th>\n",
       "      <td>0.0</td>\n",
       "      <td>0.0</td>\n",
       "      <td>0.0</td>\n",
       "      <td>0.0</td>\n",
       "      <td>0.0</td>\n",
       "      <td>0.0</td>\n",
       "      <td>0.0</td>\n",
       "      <td>0.0</td>\n",
       "      <td>0.0</td>\n",
       "      <td>0.0</td>\n",
       "      <td>...</td>\n",
       "      <td>0.0</td>\n",
       "      <td>0.0</td>\n",
       "      <td>0.0</td>\n",
       "      <td>0.0</td>\n",
       "      <td>0.0</td>\n",
       "      <td>0.0</td>\n",
       "      <td>0.0</td>\n",
       "      <td>0.0</td>\n",
       "      <td>0.0</td>\n",
       "      <td>0.0</td>\n",
       "    </tr>\n",
       "  </tbody>\n",
       "</table>\n",
       "<p>5 rows × 1821 columns</p>\n",
       "</div>"
      ],
      "text/plain": [
       "mID  8      28     43     48     61     64     66     92     96     111    \\\n",
       "uID                                                                         \n",
       "7      5.0    4.0    0.0    0.0    0.0    0.0    0.0    0.0    0.0    0.0   \n",
       "79     0.0    0.0    0.0    0.0    0.0    0.0    0.0    0.0    0.0    0.0   \n",
       "199    0.0    0.0    0.0    0.0    0.0    0.0    0.0    0.0    0.0    4.0   \n",
       "481    0.0    0.0    0.0    0.0    0.0    0.0    0.0    0.0    0.0    5.0   \n",
       "769    0.0    0.0    0.0    0.0    0.0    0.0    0.0    0.0    0.0    0.0   \n",
       "\n",
       "mID  ...  17654  17660  17689  17693  17706  17725  17728  17734  17741  17742  \n",
       "uID  ...                                                                        \n",
       "7    ...    0.0    0.0    0.0    0.0    0.0    0.0    0.0    0.0    0.0    0.0  \n",
       "79   ...    0.0    0.0    0.0    0.0    0.0    0.0    0.0    0.0    0.0    0.0  \n",
       "199  ...    0.0    0.0    0.0    0.0    0.0    0.0    0.0    0.0    0.0    0.0  \n",
       "481  ...    0.0    0.0    0.0    0.0    0.0    0.0    0.0    0.0    0.0    0.0  \n",
       "769  ...    0.0    0.0    0.0    0.0    0.0    0.0    0.0    0.0    0.0    0.0  \n",
       "\n",
       "[5 rows x 1821 columns]"
      ]
     },
     "execution_count": 41,
     "metadata": {},
     "output_type": "execute_result"
    }
   ],
   "source": [
    "user_movie_rating.fillna(0, inplace= True)\n",
    "user_movie_rating.head()"
   ]
  },
  {
   "cell_type": "code",
   "execution_count": 42,
   "metadata": {
    "colab": {},
    "colab_type": "code",
    "id": "sgBb6-J6DXSG",
    "outputId": "4b0c083d-e0ea-4f3b-cc27-10de8793a60d"
   },
   "outputs": [
    {
     "data": {
      "text/plain": [
       "uID\n",
       "7          0.0\n",
       "79         0.0\n",
       "199        4.0\n",
       "481        0.0\n",
       "769        3.0\n",
       "          ... \n",
       "2648869    4.0\n",
       "2648885    4.0\n",
       "2649120    4.0\n",
       "2649267    0.0\n",
       "2649285    3.0\n",
       "Name: 8915, Length: 28978, dtype: float64"
      ]
     },
     "execution_count": 42,
     "metadata": {},
     "output_type": "execute_result"
    }
   ],
   "source": [
    "user_movie_rating[8915]"
   ]
  },
  {
   "cell_type": "code",
   "execution_count": 43,
   "metadata": {
    "colab": {},
    "colab_type": "code",
    "id": "muzr-rq2DXSN",
    "outputId": "e1dea7b2-4733-4a9f-82fd-72207e609826"
   },
   "outputs": [
    {
     "name": "stdout",
     "output_type": "stream",
     "text": [
      "4.2384364820846905\n"
     ]
    }
   ],
   "source": [
    "user1664010= list(user_movie_rating.loc[1664010])\n",
    "avg1664010= get_average(user1664010)\n",
    "print(avg1664010)"
   ]
  },
  {
   "cell_type": "code",
   "execution_count": 44,
   "metadata": {
    "colab": {},
    "colab_type": "code",
    "id": "Fm7ofLd-DXSW",
    "outputId": "c82bf6bf-dc79-4cad-e6ad-11b60354bca8"
   },
   "outputs": [
    {
     "name": "stdout",
     "output_type": "stream",
     "text": [
      "1.225609756097561\n"
     ]
    }
   ],
   "source": [
    "user2439493= list(user_movie_rating.loc[2439493])\n",
    "avg2439493= get_average(user2439493)\n",
    "print(avg2439493)"
   ]
  },
  {
   "cell_type": "code",
   "execution_count": 45,
   "metadata": {
    "colab": {},
    "colab_type": "code",
    "id": "rsxdHAwkDXSg",
    "outputId": "b140e73b-f1a6-432e-a80a-b4b48ae39495"
   },
   "outputs": [
    {
     "name": "stdout",
     "output_type": "stream",
     "text": [
      "1.904382470119522\n"
     ]
    }
   ],
   "source": [
    "user305344= list(user_movie_rating.loc[305344])\n",
    "avg305344= get_average(user305344)\n",
    "print(avg305344)"
   ]
  },
  {
   "cell_type": "code",
   "execution_count": 46,
   "metadata": {
    "colab": {},
    "colab_type": "code",
    "id": "pIiaPugGDXSs",
    "outputId": "587d2612-df97-4a12-9b32-1e373491913f"
   },
   "outputs": [
    {
     "name": "stdout",
     "output_type": "stream",
     "text": [
      "1.8405963302752293\n"
     ]
    }
   ],
   "source": [
    "user387418= list(user_movie_rating.loc[387418])\n",
    "avg387418= get_average(user387418)\n",
    "print(avg387418)"
   ]
  },
  {
   "cell_type": "code",
   "execution_count": 47,
   "metadata": {
    "colab": {},
    "colab_type": "code",
    "id": "fDh8UyeYDXSv",
    "outputId": "4d001d42-f915-43ee-b775-36bef4389cce"
   },
   "outputs": [
    {
     "name": "stdout",
     "output_type": "stream",
     "text": [
      "2.970984455958549\n"
     ]
    }
   ],
   "source": [
    "user1314869= list(user_movie_rating.loc[1314869])\n",
    "avg1314869= get_average(user1314869)\n",
    "print(avg1314869)"
   ]
  },
  {
   "cell_type": "code",
   "execution_count": 48,
   "metadata": {
    "colab": {},
    "colab_type": "code",
    "id": "H1fToWYCDXSy",
    "outputId": "7ce903f6-1748-465a-c927-f08953736799"
   },
   "outputs": [
    {
     "name": "stdout",
     "output_type": "stream",
     "text": [
      "2.4360018989071106\n"
     ]
    }
   ],
   "source": [
    "estimate_item_user =avg1314869+avg387418+avg305344+avg2439493+avg1664010\n",
    "print(estimate_item_user/5)"
   ]
  },
  {
   "cell_type": "markdown",
   "metadata": {
    "colab_type": "text",
    "id": "vln1CQ7pDXS1"
   },
   "source": [
    "The estimate_item_user gives the overlap of item rated by  our 5 selected users"
   ]
  },
  {
   "cell_type": "markdown",
   "metadata": {},
   "source": [
    "Create a new dataframe with userID as index and the movieId as columns for our training data"
   ]
  },
  {
   "cell_type": "code",
   "execution_count": 49,
   "metadata": {
    "colab": {},
    "colab_type": "code",
    "id": "5EzoW6StDXS1",
    "outputId": "8f0669b6-f2bb-484c-8acd-1eea54d63b8e"
   },
   "outputs": [
    {
     "data": {
      "text/html": [
       "<div>\n",
       "<style scoped>\n",
       "    .dataframe tbody tr th:only-of-type {\n",
       "        vertical-align: middle;\n",
       "    }\n",
       "\n",
       "    .dataframe tbody tr th {\n",
       "        vertical-align: top;\n",
       "    }\n",
       "\n",
       "    .dataframe thead th {\n",
       "        text-align: right;\n",
       "    }\n",
       "</style>\n",
       "<table border=\"1\" class=\"dataframe\">\n",
       "  <thead>\n",
       "    <tr style=\"text-align: right;\">\n",
       "      <th>uID</th>\n",
       "      <th>7</th>\n",
       "      <th>79</th>\n",
       "      <th>199</th>\n",
       "      <th>481</th>\n",
       "      <th>769</th>\n",
       "      <th>906</th>\n",
       "      <th>1310</th>\n",
       "      <th>1333</th>\n",
       "      <th>1427</th>\n",
       "      <th>1442</th>\n",
       "      <th>...</th>\n",
       "      <th>2648572</th>\n",
       "      <th>2648589</th>\n",
       "      <th>2648730</th>\n",
       "      <th>2648734</th>\n",
       "      <th>2648853</th>\n",
       "      <th>2648869</th>\n",
       "      <th>2648885</th>\n",
       "      <th>2649120</th>\n",
       "      <th>2649267</th>\n",
       "      <th>2649285</th>\n",
       "    </tr>\n",
       "    <tr>\n",
       "      <th>mID</th>\n",
       "      <th></th>\n",
       "      <th></th>\n",
       "      <th></th>\n",
       "      <th></th>\n",
       "      <th></th>\n",
       "      <th></th>\n",
       "      <th></th>\n",
       "      <th></th>\n",
       "      <th></th>\n",
       "      <th></th>\n",
       "      <th></th>\n",
       "      <th></th>\n",
       "      <th></th>\n",
       "      <th></th>\n",
       "      <th></th>\n",
       "      <th></th>\n",
       "      <th></th>\n",
       "      <th></th>\n",
       "      <th></th>\n",
       "      <th></th>\n",
       "      <th></th>\n",
       "    </tr>\n",
       "  </thead>\n",
       "  <tbody>\n",
       "    <tr>\n",
       "      <th>8</th>\n",
       "      <td>5.0</td>\n",
       "      <td>NaN</td>\n",
       "      <td>NaN</td>\n",
       "      <td>NaN</td>\n",
       "      <td>NaN</td>\n",
       "      <td>NaN</td>\n",
       "      <td>NaN</td>\n",
       "      <td>3.0</td>\n",
       "      <td>NaN</td>\n",
       "      <td>NaN</td>\n",
       "      <td>...</td>\n",
       "      <td>NaN</td>\n",
       "      <td>NaN</td>\n",
       "      <td>NaN</td>\n",
       "      <td>NaN</td>\n",
       "      <td>NaN</td>\n",
       "      <td>NaN</td>\n",
       "      <td>NaN</td>\n",
       "      <td>NaN</td>\n",
       "      <td>NaN</td>\n",
       "      <td>NaN</td>\n",
       "    </tr>\n",
       "    <tr>\n",
       "      <th>28</th>\n",
       "      <td>4.0</td>\n",
       "      <td>NaN</td>\n",
       "      <td>NaN</td>\n",
       "      <td>NaN</td>\n",
       "      <td>NaN</td>\n",
       "      <td>3.0</td>\n",
       "      <td>3.0</td>\n",
       "      <td>2.0</td>\n",
       "      <td>NaN</td>\n",
       "      <td>4.0</td>\n",
       "      <td>...</td>\n",
       "      <td>NaN</td>\n",
       "      <td>3.0</td>\n",
       "      <td>4.0</td>\n",
       "      <td>NaN</td>\n",
       "      <td>2.0</td>\n",
       "      <td>NaN</td>\n",
       "      <td>4.0</td>\n",
       "      <td>NaN</td>\n",
       "      <td>NaN</td>\n",
       "      <td>4.0</td>\n",
       "    </tr>\n",
       "    <tr>\n",
       "      <th>43</th>\n",
       "      <td>NaN</td>\n",
       "      <td>NaN</td>\n",
       "      <td>NaN</td>\n",
       "      <td>NaN</td>\n",
       "      <td>NaN</td>\n",
       "      <td>NaN</td>\n",
       "      <td>NaN</td>\n",
       "      <td>NaN</td>\n",
       "      <td>NaN</td>\n",
       "      <td>NaN</td>\n",
       "      <td>...</td>\n",
       "      <td>NaN</td>\n",
       "      <td>NaN</td>\n",
       "      <td>NaN</td>\n",
       "      <td>NaN</td>\n",
       "      <td>NaN</td>\n",
       "      <td>NaN</td>\n",
       "      <td>NaN</td>\n",
       "      <td>NaN</td>\n",
       "      <td>NaN</td>\n",
       "      <td>NaN</td>\n",
       "    </tr>\n",
       "    <tr>\n",
       "      <th>48</th>\n",
       "      <td>NaN</td>\n",
       "      <td>NaN</td>\n",
       "      <td>NaN</td>\n",
       "      <td>NaN</td>\n",
       "      <td>NaN</td>\n",
       "      <td>NaN</td>\n",
       "      <td>NaN</td>\n",
       "      <td>NaN</td>\n",
       "      <td>NaN</td>\n",
       "      <td>NaN</td>\n",
       "      <td>...</td>\n",
       "      <td>NaN</td>\n",
       "      <td>NaN</td>\n",
       "      <td>NaN</td>\n",
       "      <td>NaN</td>\n",
       "      <td>NaN</td>\n",
       "      <td>NaN</td>\n",
       "      <td>NaN</td>\n",
       "      <td>NaN</td>\n",
       "      <td>NaN</td>\n",
       "      <td>NaN</td>\n",
       "    </tr>\n",
       "    <tr>\n",
       "      <th>61</th>\n",
       "      <td>NaN</td>\n",
       "      <td>NaN</td>\n",
       "      <td>NaN</td>\n",
       "      <td>NaN</td>\n",
       "      <td>NaN</td>\n",
       "      <td>NaN</td>\n",
       "      <td>NaN</td>\n",
       "      <td>NaN</td>\n",
       "      <td>NaN</td>\n",
       "      <td>NaN</td>\n",
       "      <td>...</td>\n",
       "      <td>NaN</td>\n",
       "      <td>NaN</td>\n",
       "      <td>NaN</td>\n",
       "      <td>NaN</td>\n",
       "      <td>NaN</td>\n",
       "      <td>NaN</td>\n",
       "      <td>NaN</td>\n",
       "      <td>NaN</td>\n",
       "      <td>NaN</td>\n",
       "      <td>NaN</td>\n",
       "    </tr>\n",
       "  </tbody>\n",
       "</table>\n",
       "<p>5 rows × 28978 columns</p>\n",
       "</div>"
      ],
      "text/plain": [
       "uID  7        79       199      481      769      906      1310     1333     \\\n",
       "mID                                                                           \n",
       "8        5.0      NaN      NaN      NaN      NaN      NaN      NaN      3.0   \n",
       "28       4.0      NaN      NaN      NaN      NaN      3.0      3.0      2.0   \n",
       "43       NaN      NaN      NaN      NaN      NaN      NaN      NaN      NaN   \n",
       "48       NaN      NaN      NaN      NaN      NaN      NaN      NaN      NaN   \n",
       "61       NaN      NaN      NaN      NaN      NaN      NaN      NaN      NaN   \n",
       "\n",
       "uID  1427     1442     ...  2648572  2648589  2648730  2648734  2648853  \\\n",
       "mID                    ...                                                \n",
       "8        NaN      NaN  ...      NaN      NaN      NaN      NaN      NaN   \n",
       "28       NaN      4.0  ...      NaN      3.0      4.0      NaN      2.0   \n",
       "43       NaN      NaN  ...      NaN      NaN      NaN      NaN      NaN   \n",
       "48       NaN      NaN  ...      NaN      NaN      NaN      NaN      NaN   \n",
       "61       NaN      NaN  ...      NaN      NaN      NaN      NaN      NaN   \n",
       "\n",
       "uID  2648869  2648885  2649120  2649267  2649285  \n",
       "mID                                               \n",
       "8        NaN      NaN      NaN      NaN      NaN  \n",
       "28       NaN      4.0      NaN      NaN      4.0  \n",
       "43       NaN      NaN      NaN      NaN      NaN  \n",
       "48       NaN      NaN      NaN      NaN      NaN  \n",
       "61       NaN      NaN      NaN      NaN      NaN  \n",
       "\n",
       "[5 rows x 28978 columns]"
      ]
     },
     "execution_count": 49,
     "metadata": {},
     "output_type": "execute_result"
    }
   ],
   "source": [
    "movie_user_rating = train_pandas.pivot_table(index='mID', columns='uID', values='ratings')\n",
    "movie_user_rating.head()"
   ]
  },
  {
   "cell_type": "code",
   "execution_count": 50,
   "metadata": {
    "colab": {},
    "colab_type": "code",
    "id": "yR_d06Q-DXS7",
    "outputId": "04aebcc6-93b4-4318-b22d-33be7ef98060"
   },
   "outputs": [
    {
     "data": {
      "text/html": [
       "<div>\n",
       "<style scoped>\n",
       "    .dataframe tbody tr th:only-of-type {\n",
       "        vertical-align: middle;\n",
       "    }\n",
       "\n",
       "    .dataframe tbody tr th {\n",
       "        vertical-align: top;\n",
       "    }\n",
       "\n",
       "    .dataframe thead th {\n",
       "        text-align: right;\n",
       "    }\n",
       "</style>\n",
       "<table border=\"1\" class=\"dataframe\">\n",
       "  <thead>\n",
       "    <tr style=\"text-align: right;\">\n",
       "      <th>uID</th>\n",
       "      <th>7</th>\n",
       "      <th>79</th>\n",
       "      <th>199</th>\n",
       "      <th>481</th>\n",
       "      <th>769</th>\n",
       "      <th>906</th>\n",
       "      <th>1310</th>\n",
       "      <th>1333</th>\n",
       "      <th>1427</th>\n",
       "      <th>1442</th>\n",
       "      <th>...</th>\n",
       "      <th>2648572</th>\n",
       "      <th>2648589</th>\n",
       "      <th>2648730</th>\n",
       "      <th>2648734</th>\n",
       "      <th>2648853</th>\n",
       "      <th>2648869</th>\n",
       "      <th>2648885</th>\n",
       "      <th>2649120</th>\n",
       "      <th>2649267</th>\n",
       "      <th>2649285</th>\n",
       "    </tr>\n",
       "    <tr>\n",
       "      <th>mID</th>\n",
       "      <th></th>\n",
       "      <th></th>\n",
       "      <th></th>\n",
       "      <th></th>\n",
       "      <th></th>\n",
       "      <th></th>\n",
       "      <th></th>\n",
       "      <th></th>\n",
       "      <th></th>\n",
       "      <th></th>\n",
       "      <th></th>\n",
       "      <th></th>\n",
       "      <th></th>\n",
       "      <th></th>\n",
       "      <th></th>\n",
       "      <th></th>\n",
       "      <th></th>\n",
       "      <th></th>\n",
       "      <th></th>\n",
       "      <th></th>\n",
       "      <th></th>\n",
       "    </tr>\n",
       "  </thead>\n",
       "  <tbody>\n",
       "    <tr>\n",
       "      <th>8</th>\n",
       "      <td>5.0</td>\n",
       "      <td>0.0</td>\n",
       "      <td>0.0</td>\n",
       "      <td>0.0</td>\n",
       "      <td>0.0</td>\n",
       "      <td>0.0</td>\n",
       "      <td>0.0</td>\n",
       "      <td>3.0</td>\n",
       "      <td>0.0</td>\n",
       "      <td>0.0</td>\n",
       "      <td>...</td>\n",
       "      <td>0.0</td>\n",
       "      <td>0.0</td>\n",
       "      <td>0.0</td>\n",
       "      <td>0.0</td>\n",
       "      <td>0.0</td>\n",
       "      <td>0.0</td>\n",
       "      <td>0.0</td>\n",
       "      <td>0.0</td>\n",
       "      <td>0.0</td>\n",
       "      <td>0.0</td>\n",
       "    </tr>\n",
       "    <tr>\n",
       "      <th>28</th>\n",
       "      <td>4.0</td>\n",
       "      <td>0.0</td>\n",
       "      <td>0.0</td>\n",
       "      <td>0.0</td>\n",
       "      <td>0.0</td>\n",
       "      <td>3.0</td>\n",
       "      <td>3.0</td>\n",
       "      <td>2.0</td>\n",
       "      <td>0.0</td>\n",
       "      <td>4.0</td>\n",
       "      <td>...</td>\n",
       "      <td>0.0</td>\n",
       "      <td>3.0</td>\n",
       "      <td>4.0</td>\n",
       "      <td>0.0</td>\n",
       "      <td>2.0</td>\n",
       "      <td>0.0</td>\n",
       "      <td>4.0</td>\n",
       "      <td>0.0</td>\n",
       "      <td>0.0</td>\n",
       "      <td>4.0</td>\n",
       "    </tr>\n",
       "    <tr>\n",
       "      <th>43</th>\n",
       "      <td>0.0</td>\n",
       "      <td>0.0</td>\n",
       "      <td>0.0</td>\n",
       "      <td>0.0</td>\n",
       "      <td>0.0</td>\n",
       "      <td>0.0</td>\n",
       "      <td>0.0</td>\n",
       "      <td>0.0</td>\n",
       "      <td>0.0</td>\n",
       "      <td>0.0</td>\n",
       "      <td>...</td>\n",
       "      <td>0.0</td>\n",
       "      <td>0.0</td>\n",
       "      <td>0.0</td>\n",
       "      <td>0.0</td>\n",
       "      <td>0.0</td>\n",
       "      <td>0.0</td>\n",
       "      <td>0.0</td>\n",
       "      <td>0.0</td>\n",
       "      <td>0.0</td>\n",
       "      <td>0.0</td>\n",
       "    </tr>\n",
       "    <tr>\n",
       "      <th>48</th>\n",
       "      <td>0.0</td>\n",
       "      <td>0.0</td>\n",
       "      <td>0.0</td>\n",
       "      <td>0.0</td>\n",
       "      <td>0.0</td>\n",
       "      <td>0.0</td>\n",
       "      <td>0.0</td>\n",
       "      <td>0.0</td>\n",
       "      <td>0.0</td>\n",
       "      <td>0.0</td>\n",
       "      <td>...</td>\n",
       "      <td>0.0</td>\n",
       "      <td>0.0</td>\n",
       "      <td>0.0</td>\n",
       "      <td>0.0</td>\n",
       "      <td>0.0</td>\n",
       "      <td>0.0</td>\n",
       "      <td>0.0</td>\n",
       "      <td>0.0</td>\n",
       "      <td>0.0</td>\n",
       "      <td>0.0</td>\n",
       "    </tr>\n",
       "    <tr>\n",
       "      <th>61</th>\n",
       "      <td>0.0</td>\n",
       "      <td>0.0</td>\n",
       "      <td>0.0</td>\n",
       "      <td>0.0</td>\n",
       "      <td>0.0</td>\n",
       "      <td>0.0</td>\n",
       "      <td>0.0</td>\n",
       "      <td>0.0</td>\n",
       "      <td>0.0</td>\n",
       "      <td>0.0</td>\n",
       "      <td>...</td>\n",
       "      <td>0.0</td>\n",
       "      <td>0.0</td>\n",
       "      <td>0.0</td>\n",
       "      <td>0.0</td>\n",
       "      <td>0.0</td>\n",
       "      <td>0.0</td>\n",
       "      <td>0.0</td>\n",
       "      <td>0.0</td>\n",
       "      <td>0.0</td>\n",
       "      <td>0.0</td>\n",
       "    </tr>\n",
       "  </tbody>\n",
       "</table>\n",
       "<p>5 rows × 28978 columns</p>\n",
       "</div>"
      ],
      "text/plain": [
       "uID  7        79       199      481      769      906      1310     1333     \\\n",
       "mID                                                                           \n",
       "8        5.0      0.0      0.0      0.0      0.0      0.0      0.0      3.0   \n",
       "28       4.0      0.0      0.0      0.0      0.0      3.0      3.0      2.0   \n",
       "43       0.0      0.0      0.0      0.0      0.0      0.0      0.0      0.0   \n",
       "48       0.0      0.0      0.0      0.0      0.0      0.0      0.0      0.0   \n",
       "61       0.0      0.0      0.0      0.0      0.0      0.0      0.0      0.0   \n",
       "\n",
       "uID  1427     1442     ...  2648572  2648589  2648730  2648734  2648853  \\\n",
       "mID                    ...                                                \n",
       "8        0.0      0.0  ...      0.0      0.0      0.0      0.0      0.0   \n",
       "28       0.0      4.0  ...      0.0      3.0      4.0      0.0      2.0   \n",
       "43       0.0      0.0  ...      0.0      0.0      0.0      0.0      0.0   \n",
       "48       0.0      0.0  ...      0.0      0.0      0.0      0.0      0.0   \n",
       "61       0.0      0.0  ...      0.0      0.0      0.0      0.0      0.0   \n",
       "\n",
       "uID  2648869  2648885  2649120  2649267  2649285  \n",
       "mID                                               \n",
       "8        0.0      0.0      0.0      0.0      0.0  \n",
       "28       0.0      4.0      0.0      0.0      4.0  \n",
       "43       0.0      0.0      0.0      0.0      0.0  \n",
       "48       0.0      0.0      0.0      0.0      0.0  \n",
       "61       0.0      0.0      0.0      0.0      0.0  \n",
       "\n",
       "[5 rows x 28978 columns]"
      ]
     },
     "execution_count": 50,
     "metadata": {},
     "output_type": "execute_result"
    }
   ],
   "source": [
    "movie_user_rating.fillna(0, inplace= True)\n",
    "movie_user_rating.head()"
   ]
  },
  {
   "cell_type": "code",
   "execution_count": 51,
   "metadata": {
    "colab": {},
    "colab_type": "code",
    "id": "u0ikchZ-DXTC",
    "outputId": "e3305958-09d9-4095-fc71-6ab28af242f9"
   },
   "outputs": [
    {
     "name": "stdout",
     "output_type": "stream",
     "text": [
      "4.071815611748076\n"
     ]
    }
   ],
   "source": [
    "movie6971= list(movie_user_rating.loc[6971])\n",
    "avg6971= get_average(movie6971)\n",
    "print(avg6971)"
   ]
  },
  {
   "cell_type": "code",
   "execution_count": 52,
   "metadata": {
    "colab": {},
    "colab_type": "code",
    "id": "b6bjouj2DXTG",
    "outputId": "b1eb2027-36da-48ec-bdb9-cccb48876616"
   },
   "outputs": [
    {
     "name": "stdout",
     "output_type": "stream",
     "text": [
      "4.047438894792774\n"
     ]
    }
   ],
   "source": [
    "movie4640= list(movie_user_rating.loc[4640])\n",
    "avg4640= get_average(movie4640)\n",
    "print(avg4640)"
   ]
  },
  {
   "cell_type": "code",
   "execution_count": 53,
   "metadata": {
    "colab": {},
    "colab_type": "code",
    "id": "URL-qOkmDXTS",
    "outputId": "507b48d6-458e-4482-9e20-75879e52159f"
   },
   "outputs": [
    {
     "name": "stdout",
     "output_type": "stream",
     "text": [
      "3.7261099495756977\n"
     ]
    }
   ],
   "source": [
    "movie6287= list(movie_user_rating.loc[6287])\n",
    "avg6287= get_average(movie6287)\n",
    "print(avg6287)"
   ]
  },
  {
   "cell_type": "code",
   "execution_count": 54,
   "metadata": {
    "colab": {},
    "colab_type": "code",
    "id": "1m6fb7JUDXTd",
    "outputId": "04334117-be00-418c-964c-5a46c70d0c71"
   },
   "outputs": [
    {
     "name": "stdout",
     "output_type": "stream",
     "text": [
      "4.071815611748076\n"
     ]
    }
   ],
   "source": [
    "movie9728= list(movie_user_rating.loc[9728])\n",
    "avg9728= get_average(movie9728)\n",
    "print(avg6971)"
   ]
  },
  {
   "cell_type": "code",
   "execution_count": 55,
   "metadata": {
    "colab": {},
    "colab_type": "code",
    "id": "XoScYZhMDXTo",
    "outputId": "29e88ac9-29c9-4714-fa82-c178def34e59"
   },
   "outputs": [
    {
     "name": "stdout",
     "output_type": "stream",
     "text": [
      "3.9663373050469826\n"
     ]
    }
   ],
   "source": [
    "movie8915= list(movie_user_rating.loc[8915])\n",
    "avg8915= get_average(movie8915)\n",
    "print(avg8915)"
   ]
  },
  {
   "cell_type": "code",
   "execution_count": 56,
   "metadata": {
    "colab": {},
    "colab_type": "code",
    "id": "59ECZE7aDXTv",
    "outputId": "2c4aee89-7b5a-47bd-aef5-261dc5837d10"
   },
   "outputs": [
    {
     "name": "stdout",
     "output_type": "stream",
     "text": [
      "3.976703474582321\n"
     ]
    }
   ],
   "source": [
    "estimate_user_item=avg8915+avg6971+avg6287+avg4640+avg6971\n",
    "print(estimate_user_item/5)"
   ]
  },
  {
   "cell_type": "markdown",
   "metadata": {
    "colab_type": "text",
    "id": "3bBTr5kHDXT0"
   },
   "source": [
    "The estimate_user_item gives the overlap of users that rated items rated by  our 5 selected users"
   ]
  },
  {
   "cell_type": "markdown",
   "metadata": {
    "colab_type": "text",
    "id": "gU2YCyUyDXT1"
   },
   "source": [
    "# My Take on the Averages"
   ]
  },
  {
   "cell_type": "markdown",
   "metadata": {
    "colab_type": "text",
    "id": "boP3XZViDXT2"
   },
   "source": [
    "\n",
    "As expected the overlap of users that rated items is higher than the overlap of items rated by users. This is because, more often than not a users rate on an item is influenced mostly by personal preference. ie, a user that likes the cartoons is likely to rate the movie Tom and Jerry relatively high. Likewise in the inverse, a user that hates cartoons is likely to rate the cartoon with a lower rate. the average overall for both is these users is like to be fairly even, However, the overlap of items rated by users will have a combination of very high and very low rates and this is likely to result in an overall high average"
   ]
  },
  {
   "cell_type": "markdown",
   "metadata": {
    "colab_type": "text",
    "id": "cIM_0JM0DXT4"
   },
   "source": [
    "# Part 2 section B --The Selection"
   ]
  },
  {
   "cell_type": "markdown",
   "metadata": {
    "colab_type": "text",
    "id": "NrlYME2MDXT6"
   },
   "source": [
    "\tI selected the Matrix factorization approach using SVD simply because of its ability to scale across the large data. \n",
    "\tThe similarity measure- the user-user or item-item matrix for our dataset with more than 1000 distinct users would require a lot of computation and memory. This approach considering the size of our data would not be the best option.\n"
   ]
  },
  {
   "cell_type": "markdown",
   "metadata": {
    "colab_type": "text",
    "id": "eS-nfjtoDXT7"
   },
   "source": [
    "I will be normalizing my dataset because, not only does our testing data contains several nans as a result of not being rated, but also, every time a new user is entered, without any prior rated information, without normalizing the model most likely cannot predict any movie to this new user."
   ]
  },
  {
   "cell_type": "markdown",
   "metadata": {
    "colab_type": "text",
    "id": "YXNng0JqDXT8"
   },
   "source": [
    "\tFinally, my SVD approach is because this approach allows for the dataset to be scaled and appropriately reduces the large dimensions to a smaller set that is easily scalable through"
   ]
  },
  {
   "cell_type": "markdown",
   "metadata": {},
   "source": [
    "Create a normalized dataframe from our training set"
   ]
  },
  {
   "cell_type": "code",
   "execution_count": 57,
   "metadata": {
    "colab": {},
    "colab_type": "code",
    "id": "kXJY5v0FDXUB",
    "outputId": "fadc4ffd-5e8b-433a-87c1-a2db3d10141f"
   },
   "outputs": [
    {
     "data": {
      "text/html": [
       "<div>\n",
       "<style scoped>\n",
       "    .dataframe tbody tr th:only-of-type {\n",
       "        vertical-align: middle;\n",
       "    }\n",
       "\n",
       "    .dataframe tbody tr th {\n",
       "        vertical-align: top;\n",
       "    }\n",
       "\n",
       "    .dataframe thead th {\n",
       "        text-align: right;\n",
       "    }\n",
       "</style>\n",
       "<table border=\"1\" class=\"dataframe\">\n",
       "  <thead>\n",
       "    <tr style=\"text-align: right;\">\n",
       "      <th>mID</th>\n",
       "      <th>8</th>\n",
       "      <th>28</th>\n",
       "      <th>43</th>\n",
       "      <th>48</th>\n",
       "      <th>61</th>\n",
       "      <th>64</th>\n",
       "      <th>66</th>\n",
       "      <th>92</th>\n",
       "      <th>96</th>\n",
       "      <th>111</th>\n",
       "      <th>...</th>\n",
       "      <th>17654</th>\n",
       "      <th>17660</th>\n",
       "      <th>17689</th>\n",
       "      <th>17693</th>\n",
       "      <th>17706</th>\n",
       "      <th>17725</th>\n",
       "      <th>17728</th>\n",
       "      <th>17734</th>\n",
       "      <th>17741</th>\n",
       "      <th>17742</th>\n",
       "    </tr>\n",
       "    <tr>\n",
       "      <th>uID</th>\n",
       "      <th></th>\n",
       "      <th></th>\n",
       "      <th></th>\n",
       "      <th></th>\n",
       "      <th></th>\n",
       "      <th></th>\n",
       "      <th></th>\n",
       "      <th></th>\n",
       "      <th></th>\n",
       "      <th></th>\n",
       "      <th></th>\n",
       "      <th></th>\n",
       "      <th></th>\n",
       "      <th></th>\n",
       "      <th></th>\n",
       "      <th></th>\n",
       "      <th></th>\n",
       "      <th></th>\n",
       "      <th></th>\n",
       "      <th></th>\n",
       "      <th></th>\n",
       "    </tr>\n",
       "  </thead>\n",
       "  <tbody>\n",
       "    <tr>\n",
       "      <th>7</th>\n",
       "      <td>4.777046</td>\n",
       "      <td>3.777046</td>\n",
       "      <td>-0.222954</td>\n",
       "      <td>-0.222954</td>\n",
       "      <td>-0.222954</td>\n",
       "      <td>-0.222954</td>\n",
       "      <td>-0.222954</td>\n",
       "      <td>-0.222954</td>\n",
       "      <td>-0.222954</td>\n",
       "      <td>-0.222954</td>\n",
       "      <td>...</td>\n",
       "      <td>-0.222954</td>\n",
       "      <td>-0.222954</td>\n",
       "      <td>-0.222954</td>\n",
       "      <td>-0.222954</td>\n",
       "      <td>-0.222954</td>\n",
       "      <td>-0.222954</td>\n",
       "      <td>-0.222954</td>\n",
       "      <td>-0.222954</td>\n",
       "      <td>-0.222954</td>\n",
       "      <td>-0.222954</td>\n",
       "    </tr>\n",
       "    <tr>\n",
       "      <th>79</th>\n",
       "      <td>-0.167490</td>\n",
       "      <td>-0.167490</td>\n",
       "      <td>-0.167490</td>\n",
       "      <td>-0.167490</td>\n",
       "      <td>-0.167490</td>\n",
       "      <td>-0.167490</td>\n",
       "      <td>-0.167490</td>\n",
       "      <td>-0.167490</td>\n",
       "      <td>-0.167490</td>\n",
       "      <td>-0.167490</td>\n",
       "      <td>...</td>\n",
       "      <td>-0.167490</td>\n",
       "      <td>-0.167490</td>\n",
       "      <td>-0.167490</td>\n",
       "      <td>-0.167490</td>\n",
       "      <td>-0.167490</td>\n",
       "      <td>-0.167490</td>\n",
       "      <td>-0.167490</td>\n",
       "      <td>-0.167490</td>\n",
       "      <td>-0.167490</td>\n",
       "      <td>-0.167490</td>\n",
       "    </tr>\n",
       "    <tr>\n",
       "      <th>199</th>\n",
       "      <td>-0.153762</td>\n",
       "      <td>-0.153762</td>\n",
       "      <td>-0.153762</td>\n",
       "      <td>-0.153762</td>\n",
       "      <td>-0.153762</td>\n",
       "      <td>-0.153762</td>\n",
       "      <td>-0.153762</td>\n",
       "      <td>-0.153762</td>\n",
       "      <td>-0.153762</td>\n",
       "      <td>3.846238</td>\n",
       "      <td>...</td>\n",
       "      <td>-0.153762</td>\n",
       "      <td>-0.153762</td>\n",
       "      <td>-0.153762</td>\n",
       "      <td>-0.153762</td>\n",
       "      <td>-0.153762</td>\n",
       "      <td>-0.153762</td>\n",
       "      <td>-0.153762</td>\n",
       "      <td>-0.153762</td>\n",
       "      <td>-0.153762</td>\n",
       "      <td>-0.153762</td>\n",
       "    </tr>\n",
       "    <tr>\n",
       "      <th>481</th>\n",
       "      <td>-0.176826</td>\n",
       "      <td>-0.176826</td>\n",
       "      <td>-0.176826</td>\n",
       "      <td>-0.176826</td>\n",
       "      <td>-0.176826</td>\n",
       "      <td>-0.176826</td>\n",
       "      <td>-0.176826</td>\n",
       "      <td>-0.176826</td>\n",
       "      <td>-0.176826</td>\n",
       "      <td>4.823174</td>\n",
       "      <td>...</td>\n",
       "      <td>-0.176826</td>\n",
       "      <td>-0.176826</td>\n",
       "      <td>-0.176826</td>\n",
       "      <td>-0.176826</td>\n",
       "      <td>-0.176826</td>\n",
       "      <td>-0.176826</td>\n",
       "      <td>-0.176826</td>\n",
       "      <td>-0.176826</td>\n",
       "      <td>-0.176826</td>\n",
       "      <td>-0.176826</td>\n",
       "    </tr>\n",
       "    <tr>\n",
       "      <th>769</th>\n",
       "      <td>-0.171884</td>\n",
       "      <td>-0.171884</td>\n",
       "      <td>-0.171884</td>\n",
       "      <td>-0.171884</td>\n",
       "      <td>-0.171884</td>\n",
       "      <td>-0.171884</td>\n",
       "      <td>-0.171884</td>\n",
       "      <td>-0.171884</td>\n",
       "      <td>-0.171884</td>\n",
       "      <td>-0.171884</td>\n",
       "      <td>...</td>\n",
       "      <td>-0.171884</td>\n",
       "      <td>-0.171884</td>\n",
       "      <td>-0.171884</td>\n",
       "      <td>-0.171884</td>\n",
       "      <td>-0.171884</td>\n",
       "      <td>-0.171884</td>\n",
       "      <td>-0.171884</td>\n",
       "      <td>-0.171884</td>\n",
       "      <td>-0.171884</td>\n",
       "      <td>-0.171884</td>\n",
       "    </tr>\n",
       "  </tbody>\n",
       "</table>\n",
       "<p>5 rows × 1821 columns</p>\n",
       "</div>"
      ],
      "text/plain": [
       "mID     8         28        43        48        61        64        66     \\\n",
       "uID                                                                         \n",
       "7    4.777046  3.777046 -0.222954 -0.222954 -0.222954 -0.222954 -0.222954   \n",
       "79  -0.167490 -0.167490 -0.167490 -0.167490 -0.167490 -0.167490 -0.167490   \n",
       "199 -0.153762 -0.153762 -0.153762 -0.153762 -0.153762 -0.153762 -0.153762   \n",
       "481 -0.176826 -0.176826 -0.176826 -0.176826 -0.176826 -0.176826 -0.176826   \n",
       "769 -0.171884 -0.171884 -0.171884 -0.171884 -0.171884 -0.171884 -0.171884   \n",
       "\n",
       "mID     92        96        111    ...     17654     17660     17689  \\\n",
       "uID                                ...                                 \n",
       "7   -0.222954 -0.222954 -0.222954  ... -0.222954 -0.222954 -0.222954   \n",
       "79  -0.167490 -0.167490 -0.167490  ... -0.167490 -0.167490 -0.167490   \n",
       "199 -0.153762 -0.153762  3.846238  ... -0.153762 -0.153762 -0.153762   \n",
       "481 -0.176826 -0.176826  4.823174  ... -0.176826 -0.176826 -0.176826   \n",
       "769 -0.171884 -0.171884 -0.171884  ... -0.171884 -0.171884 -0.171884   \n",
       "\n",
       "mID     17693     17706     17725     17728     17734     17741     17742  \n",
       "uID                                                                        \n",
       "7   -0.222954 -0.222954 -0.222954 -0.222954 -0.222954 -0.222954 -0.222954  \n",
       "79  -0.167490 -0.167490 -0.167490 -0.167490 -0.167490 -0.167490 -0.167490  \n",
       "199 -0.153762 -0.153762 -0.153762 -0.153762 -0.153762 -0.153762 -0.153762  \n",
       "481 -0.176826 -0.176826 -0.176826 -0.176826 -0.176826 -0.176826 -0.176826  \n",
       "769 -0.171884 -0.171884 -0.171884 -0.171884 -0.171884 -0.171884 -0.171884  \n",
       "\n",
       "[5 rows x 1821 columns]"
      ]
     },
     "execution_count": 57,
     "metadata": {},
     "output_type": "execute_result"
    }
   ],
   "source": [
    "normalised_mat =  user_movie_rating - np.asarray([(np.mean(user_movie_rating, 1))]).T\n",
    "normalised_mat.head()"
   ]
  },
  {
   "cell_type": "markdown",
   "metadata": {
    "colab_type": "text",
    "id": "OnKd4n68DXUL"
   },
   "source": [
    "# Problem 3: The SVD Approach"
   ]
  },
  {
   "cell_type": "markdown",
   "metadata": {},
   "source": [
    "Split the training set"
   ]
  },
  {
   "cell_type": "code",
   "execution_count": 58,
   "metadata": {
    "colab": {},
    "colab_type": "code",
    "id": "9QzmdHrRDXUQ"
   },
   "outputs": [],
   "source": [
    "trainPandas, testPandas = train_test_split(train_pandas, test_size=0.6, random_state=0)"
   ]
  },
  {
   "cell_type": "code",
   "execution_count": 59,
   "metadata": {
    "colab": {},
    "colab_type": "code",
    "id": "NUTZIp9xDXUX",
    "outputId": "631339f7-664d-4adf-e6c7-b7cbc467744b",
    "scrolled": true
   },
   "outputs": [
    {
     "data": {
      "text/html": [
       "<div>\n",
       "<style scoped>\n",
       "    .dataframe tbody tr th:only-of-type {\n",
       "        vertical-align: middle;\n",
       "    }\n",
       "\n",
       "    .dataframe tbody tr th {\n",
       "        vertical-align: top;\n",
       "    }\n",
       "\n",
       "    .dataframe thead th {\n",
       "        text-align: right;\n",
       "    }\n",
       "</style>\n",
       "<table border=\"1\" class=\"dataframe\">\n",
       "  <thead>\n",
       "    <tr style=\"text-align: right;\">\n",
       "      <th></th>\n",
       "      <th>mID</th>\n",
       "      <th>uID</th>\n",
       "      <th>ratings</th>\n",
       "    </tr>\n",
       "  </thead>\n",
       "  <tbody>\n",
       "    <tr>\n",
       "      <th>1177823</th>\n",
       "      <td>6066</td>\n",
       "      <td>1807643</td>\n",
       "      <td>1.0</td>\n",
       "    </tr>\n",
       "    <tr>\n",
       "      <th>2607747</th>\n",
       "      <td>14144</td>\n",
       "      <td>1859991</td>\n",
       "      <td>3.0</td>\n",
       "    </tr>\n",
       "    <tr>\n",
       "      <th>2982630</th>\n",
       "      <td>16082</td>\n",
       "      <td>522637</td>\n",
       "      <td>1.0</td>\n",
       "    </tr>\n",
       "    <tr>\n",
       "      <th>1016119</th>\n",
       "      <td>5069</td>\n",
       "      <td>66187</td>\n",
       "      <td>4.0</td>\n",
       "    </tr>\n",
       "    <tr>\n",
       "      <th>1715563</th>\n",
       "      <td>9481</td>\n",
       "      <td>920098</td>\n",
       "      <td>3.0</td>\n",
       "    </tr>\n",
       "  </tbody>\n",
       "</table>\n",
       "</div>"
      ],
      "text/plain": [
       "           mID      uID  ratings\n",
       "1177823   6066  1807643      1.0\n",
       "2607747  14144  1859991      3.0\n",
       "2982630  16082   522637      1.0\n",
       "1016119   5069    66187      4.0\n",
       "1715563   9481   920098      3.0"
      ]
     },
     "execution_count": 59,
     "metadata": {},
     "output_type": "execute_result"
    }
   ],
   "source": [
    "trainPandas.head()"
   ]
  },
  {
   "cell_type": "code",
   "execution_count": 60,
   "metadata": {
    "colab": {},
    "colab_type": "code",
    "id": "Si9_3fOiDXUe",
    "outputId": "8e739be0-ca1b-4fed-8343-37371858fd0b"
   },
   "outputs": [
    {
     "data": {
      "text/html": [
       "<div>\n",
       "<style scoped>\n",
       "    .dataframe tbody tr th:only-of-type {\n",
       "        vertical-align: middle;\n",
       "    }\n",
       "\n",
       "    .dataframe tbody tr th {\n",
       "        vertical-align: top;\n",
       "    }\n",
       "\n",
       "    .dataframe thead th {\n",
       "        text-align: right;\n",
       "    }\n",
       "</style>\n",
       "<table border=\"1\" class=\"dataframe\">\n",
       "  <thead>\n",
       "    <tr style=\"text-align: right;\">\n",
       "      <th>mID</th>\n",
       "      <th>8</th>\n",
       "      <th>28</th>\n",
       "      <th>43</th>\n",
       "      <th>48</th>\n",
       "      <th>61</th>\n",
       "      <th>64</th>\n",
       "      <th>66</th>\n",
       "      <th>92</th>\n",
       "      <th>96</th>\n",
       "      <th>111</th>\n",
       "      <th>...</th>\n",
       "      <th>17654</th>\n",
       "      <th>17660</th>\n",
       "      <th>17689</th>\n",
       "      <th>17693</th>\n",
       "      <th>17706</th>\n",
       "      <th>17725</th>\n",
       "      <th>17728</th>\n",
       "      <th>17734</th>\n",
       "      <th>17741</th>\n",
       "      <th>17742</th>\n",
       "    </tr>\n",
       "    <tr>\n",
       "      <th>uID</th>\n",
       "      <th></th>\n",
       "      <th></th>\n",
       "      <th></th>\n",
       "      <th></th>\n",
       "      <th></th>\n",
       "      <th></th>\n",
       "      <th></th>\n",
       "      <th></th>\n",
       "      <th></th>\n",
       "      <th></th>\n",
       "      <th></th>\n",
       "      <th></th>\n",
       "      <th></th>\n",
       "      <th></th>\n",
       "      <th></th>\n",
       "      <th></th>\n",
       "      <th></th>\n",
       "      <th></th>\n",
       "      <th></th>\n",
       "      <th></th>\n",
       "      <th></th>\n",
       "    </tr>\n",
       "  </thead>\n",
       "  <tbody>\n",
       "    <tr>\n",
       "      <th>7</th>\n",
       "      <td>5.0</td>\n",
       "      <td>0.0</td>\n",
       "      <td>0.0</td>\n",
       "      <td>0.0</td>\n",
       "      <td>0.0</td>\n",
       "      <td>0.0</td>\n",
       "      <td>0.0</td>\n",
       "      <td>0.0</td>\n",
       "      <td>0.0</td>\n",
       "      <td>0.0</td>\n",
       "      <td>...</td>\n",
       "      <td>0.0</td>\n",
       "      <td>0.0</td>\n",
       "      <td>0.0</td>\n",
       "      <td>0.0</td>\n",
       "      <td>0.0</td>\n",
       "      <td>0.0</td>\n",
       "      <td>0.0</td>\n",
       "      <td>0.0</td>\n",
       "      <td>0.0</td>\n",
       "      <td>0.0</td>\n",
       "    </tr>\n",
       "    <tr>\n",
       "      <th>79</th>\n",
       "      <td>0.0</td>\n",
       "      <td>0.0</td>\n",
       "      <td>0.0</td>\n",
       "      <td>0.0</td>\n",
       "      <td>0.0</td>\n",
       "      <td>0.0</td>\n",
       "      <td>0.0</td>\n",
       "      <td>0.0</td>\n",
       "      <td>0.0</td>\n",
       "      <td>0.0</td>\n",
       "      <td>...</td>\n",
       "      <td>0.0</td>\n",
       "      <td>0.0</td>\n",
       "      <td>0.0</td>\n",
       "      <td>0.0</td>\n",
       "      <td>0.0</td>\n",
       "      <td>0.0</td>\n",
       "      <td>0.0</td>\n",
       "      <td>0.0</td>\n",
       "      <td>0.0</td>\n",
       "      <td>0.0</td>\n",
       "    </tr>\n",
       "    <tr>\n",
       "      <th>199</th>\n",
       "      <td>0.0</td>\n",
       "      <td>0.0</td>\n",
       "      <td>0.0</td>\n",
       "      <td>0.0</td>\n",
       "      <td>0.0</td>\n",
       "      <td>0.0</td>\n",
       "      <td>0.0</td>\n",
       "      <td>0.0</td>\n",
       "      <td>0.0</td>\n",
       "      <td>4.0</td>\n",
       "      <td>...</td>\n",
       "      <td>0.0</td>\n",
       "      <td>0.0</td>\n",
       "      <td>0.0</td>\n",
       "      <td>0.0</td>\n",
       "      <td>0.0</td>\n",
       "      <td>0.0</td>\n",
       "      <td>0.0</td>\n",
       "      <td>0.0</td>\n",
       "      <td>0.0</td>\n",
       "      <td>0.0</td>\n",
       "    </tr>\n",
       "    <tr>\n",
       "      <th>481</th>\n",
       "      <td>0.0</td>\n",
       "      <td>0.0</td>\n",
       "      <td>0.0</td>\n",
       "      <td>0.0</td>\n",
       "      <td>0.0</td>\n",
       "      <td>0.0</td>\n",
       "      <td>0.0</td>\n",
       "      <td>0.0</td>\n",
       "      <td>0.0</td>\n",
       "      <td>0.0</td>\n",
       "      <td>...</td>\n",
       "      <td>0.0</td>\n",
       "      <td>0.0</td>\n",
       "      <td>0.0</td>\n",
       "      <td>0.0</td>\n",
       "      <td>0.0</td>\n",
       "      <td>0.0</td>\n",
       "      <td>0.0</td>\n",
       "      <td>0.0</td>\n",
       "      <td>0.0</td>\n",
       "      <td>0.0</td>\n",
       "    </tr>\n",
       "    <tr>\n",
       "      <th>769</th>\n",
       "      <td>0.0</td>\n",
       "      <td>0.0</td>\n",
       "      <td>0.0</td>\n",
       "      <td>0.0</td>\n",
       "      <td>0.0</td>\n",
       "      <td>0.0</td>\n",
       "      <td>0.0</td>\n",
       "      <td>0.0</td>\n",
       "      <td>0.0</td>\n",
       "      <td>0.0</td>\n",
       "      <td>...</td>\n",
       "      <td>0.0</td>\n",
       "      <td>0.0</td>\n",
       "      <td>0.0</td>\n",
       "      <td>0.0</td>\n",
       "      <td>0.0</td>\n",
       "      <td>0.0</td>\n",
       "      <td>0.0</td>\n",
       "      <td>0.0</td>\n",
       "      <td>0.0</td>\n",
       "      <td>0.0</td>\n",
       "    </tr>\n",
       "  </tbody>\n",
       "</table>\n",
       "<p>5 rows × 1820 columns</p>\n",
       "</div>"
      ],
      "text/plain": [
       "mID  8      28     43     48     61     64     66     92     96     111    \\\n",
       "uID                                                                         \n",
       "7      5.0    0.0    0.0    0.0    0.0    0.0    0.0    0.0    0.0    0.0   \n",
       "79     0.0    0.0    0.0    0.0    0.0    0.0    0.0    0.0    0.0    0.0   \n",
       "199    0.0    0.0    0.0    0.0    0.0    0.0    0.0    0.0    0.0    4.0   \n",
       "481    0.0    0.0    0.0    0.0    0.0    0.0    0.0    0.0    0.0    0.0   \n",
       "769    0.0    0.0    0.0    0.0    0.0    0.0    0.0    0.0    0.0    0.0   \n",
       "\n",
       "mID  ...  17654  17660  17689  17693  17706  17725  17728  17734  17741  17742  \n",
       "uID  ...                                                                        \n",
       "7    ...    0.0    0.0    0.0    0.0    0.0    0.0    0.0    0.0    0.0    0.0  \n",
       "79   ...    0.0    0.0    0.0    0.0    0.0    0.0    0.0    0.0    0.0    0.0  \n",
       "199  ...    0.0    0.0    0.0    0.0    0.0    0.0    0.0    0.0    0.0    0.0  \n",
       "481  ...    0.0    0.0    0.0    0.0    0.0    0.0    0.0    0.0    0.0    0.0  \n",
       "769  ...    0.0    0.0    0.0    0.0    0.0    0.0    0.0    0.0    0.0    0.0  \n",
       "\n",
       "[5 rows x 1820 columns]"
      ]
     },
     "execution_count": 60,
     "metadata": {},
     "output_type": "execute_result"
    }
   ],
   "source": [
    "trainp = trainPandas.pivot_table(index='uID', columns='mID', values='ratings')\n",
    "trainp.fillna(0, inplace= True)\n",
    "trainp.head()"
   ]
  },
  {
   "cell_type": "code",
   "execution_count": 61,
   "metadata": {
    "colab": {},
    "colab_type": "code",
    "id": "s9QUPoT2DXUk",
    "outputId": "93c29189-2430-4139-fad1-c807d5946a18"
   },
   "outputs": [
    {
     "data": {
      "text/html": [
       "<div>\n",
       "<style scoped>\n",
       "    .dataframe tbody tr th:only-of-type {\n",
       "        vertical-align: middle;\n",
       "    }\n",
       "\n",
       "    .dataframe tbody tr th {\n",
       "        vertical-align: top;\n",
       "    }\n",
       "\n",
       "    .dataframe thead th {\n",
       "        text-align: right;\n",
       "    }\n",
       "</style>\n",
       "<table border=\"1\" class=\"dataframe\">\n",
       "  <thead>\n",
       "    <tr style=\"text-align: right;\">\n",
       "      <th>mID</th>\n",
       "      <th>8</th>\n",
       "      <th>28</th>\n",
       "      <th>43</th>\n",
       "      <th>48</th>\n",
       "      <th>61</th>\n",
       "      <th>64</th>\n",
       "      <th>66</th>\n",
       "      <th>92</th>\n",
       "      <th>96</th>\n",
       "      <th>111</th>\n",
       "      <th>...</th>\n",
       "      <th>17654</th>\n",
       "      <th>17660</th>\n",
       "      <th>17689</th>\n",
       "      <th>17693</th>\n",
       "      <th>17706</th>\n",
       "      <th>17725</th>\n",
       "      <th>17728</th>\n",
       "      <th>17734</th>\n",
       "      <th>17741</th>\n",
       "      <th>17742</th>\n",
       "    </tr>\n",
       "    <tr>\n",
       "      <th>uID</th>\n",
       "      <th></th>\n",
       "      <th></th>\n",
       "      <th></th>\n",
       "      <th></th>\n",
       "      <th></th>\n",
       "      <th></th>\n",
       "      <th></th>\n",
       "      <th></th>\n",
       "      <th></th>\n",
       "      <th></th>\n",
       "      <th></th>\n",
       "      <th></th>\n",
       "      <th></th>\n",
       "      <th></th>\n",
       "      <th></th>\n",
       "      <th></th>\n",
       "      <th></th>\n",
       "      <th></th>\n",
       "      <th></th>\n",
       "      <th></th>\n",
       "      <th></th>\n",
       "    </tr>\n",
       "  </thead>\n",
       "  <tbody>\n",
       "    <tr>\n",
       "      <th>7</th>\n",
       "      <td>0.0</td>\n",
       "      <td>4.0</td>\n",
       "      <td>0.0</td>\n",
       "      <td>0.0</td>\n",
       "      <td>0.0</td>\n",
       "      <td>0.0</td>\n",
       "      <td>0.0</td>\n",
       "      <td>0.0</td>\n",
       "      <td>0.0</td>\n",
       "      <td>0.0</td>\n",
       "      <td>...</td>\n",
       "      <td>0.0</td>\n",
       "      <td>0.0</td>\n",
       "      <td>0.0</td>\n",
       "      <td>0.0</td>\n",
       "      <td>0.0</td>\n",
       "      <td>0.0</td>\n",
       "      <td>0.0</td>\n",
       "      <td>0.0</td>\n",
       "      <td>0.0</td>\n",
       "      <td>0.0</td>\n",
       "    </tr>\n",
       "    <tr>\n",
       "      <th>79</th>\n",
       "      <td>0.0</td>\n",
       "      <td>0.0</td>\n",
       "      <td>0.0</td>\n",
       "      <td>0.0</td>\n",
       "      <td>0.0</td>\n",
       "      <td>0.0</td>\n",
       "      <td>0.0</td>\n",
       "      <td>0.0</td>\n",
       "      <td>0.0</td>\n",
       "      <td>0.0</td>\n",
       "      <td>...</td>\n",
       "      <td>0.0</td>\n",
       "      <td>0.0</td>\n",
       "      <td>0.0</td>\n",
       "      <td>0.0</td>\n",
       "      <td>0.0</td>\n",
       "      <td>0.0</td>\n",
       "      <td>0.0</td>\n",
       "      <td>0.0</td>\n",
       "      <td>0.0</td>\n",
       "      <td>0.0</td>\n",
       "    </tr>\n",
       "    <tr>\n",
       "      <th>199</th>\n",
       "      <td>0.0</td>\n",
       "      <td>0.0</td>\n",
       "      <td>0.0</td>\n",
       "      <td>0.0</td>\n",
       "      <td>0.0</td>\n",
       "      <td>0.0</td>\n",
       "      <td>0.0</td>\n",
       "      <td>0.0</td>\n",
       "      <td>0.0</td>\n",
       "      <td>0.0</td>\n",
       "      <td>...</td>\n",
       "      <td>0.0</td>\n",
       "      <td>0.0</td>\n",
       "      <td>0.0</td>\n",
       "      <td>0.0</td>\n",
       "      <td>0.0</td>\n",
       "      <td>0.0</td>\n",
       "      <td>0.0</td>\n",
       "      <td>0.0</td>\n",
       "      <td>0.0</td>\n",
       "      <td>0.0</td>\n",
       "    </tr>\n",
       "    <tr>\n",
       "      <th>481</th>\n",
       "      <td>0.0</td>\n",
       "      <td>0.0</td>\n",
       "      <td>0.0</td>\n",
       "      <td>0.0</td>\n",
       "      <td>0.0</td>\n",
       "      <td>0.0</td>\n",
       "      <td>0.0</td>\n",
       "      <td>0.0</td>\n",
       "      <td>0.0</td>\n",
       "      <td>5.0</td>\n",
       "      <td>...</td>\n",
       "      <td>0.0</td>\n",
       "      <td>0.0</td>\n",
       "      <td>0.0</td>\n",
       "      <td>0.0</td>\n",
       "      <td>0.0</td>\n",
       "      <td>0.0</td>\n",
       "      <td>0.0</td>\n",
       "      <td>0.0</td>\n",
       "      <td>0.0</td>\n",
       "      <td>0.0</td>\n",
       "    </tr>\n",
       "    <tr>\n",
       "      <th>769</th>\n",
       "      <td>0.0</td>\n",
       "      <td>0.0</td>\n",
       "      <td>0.0</td>\n",
       "      <td>0.0</td>\n",
       "      <td>0.0</td>\n",
       "      <td>0.0</td>\n",
       "      <td>0.0</td>\n",
       "      <td>0.0</td>\n",
       "      <td>0.0</td>\n",
       "      <td>0.0</td>\n",
       "      <td>...</td>\n",
       "      <td>0.0</td>\n",
       "      <td>0.0</td>\n",
       "      <td>0.0</td>\n",
       "      <td>0.0</td>\n",
       "      <td>0.0</td>\n",
       "      <td>0.0</td>\n",
       "      <td>0.0</td>\n",
       "      <td>0.0</td>\n",
       "      <td>0.0</td>\n",
       "      <td>0.0</td>\n",
       "    </tr>\n",
       "  </tbody>\n",
       "</table>\n",
       "<p>5 rows × 1821 columns</p>\n",
       "</div>"
      ],
      "text/plain": [
       "mID  8      28     43     48     61     64     66     92     96     111    \\\n",
       "uID                                                                         \n",
       "7      0.0    4.0    0.0    0.0    0.0    0.0    0.0    0.0    0.0    0.0   \n",
       "79     0.0    0.0    0.0    0.0    0.0    0.0    0.0    0.0    0.0    0.0   \n",
       "199    0.0    0.0    0.0    0.0    0.0    0.0    0.0    0.0    0.0    0.0   \n",
       "481    0.0    0.0    0.0    0.0    0.0    0.0    0.0    0.0    0.0    5.0   \n",
       "769    0.0    0.0    0.0    0.0    0.0    0.0    0.0    0.0    0.0    0.0   \n",
       "\n",
       "mID  ...  17654  17660  17689  17693  17706  17725  17728  17734  17741  17742  \n",
       "uID  ...                                                                        \n",
       "7    ...    0.0    0.0    0.0    0.0    0.0    0.0    0.0    0.0    0.0    0.0  \n",
       "79   ...    0.0    0.0    0.0    0.0    0.0    0.0    0.0    0.0    0.0    0.0  \n",
       "199  ...    0.0    0.0    0.0    0.0    0.0    0.0    0.0    0.0    0.0    0.0  \n",
       "481  ...    0.0    0.0    0.0    0.0    0.0    0.0    0.0    0.0    0.0    0.0  \n",
       "769  ...    0.0    0.0    0.0    0.0    0.0    0.0    0.0    0.0    0.0    0.0  \n",
       "\n",
       "[5 rows x 1821 columns]"
      ]
     },
     "execution_count": 61,
     "metadata": {},
     "output_type": "execute_result"
    }
   ],
   "source": [
    "testp = testPandas.pivot_table(index='uID', columns='mID', values='ratings')\n",
    "testp.fillna(0, inplace= True)\n",
    "testp.head()"
   ]
  },
  {
   "cell_type": "code",
   "execution_count": 62,
   "metadata": {
    "colab": {},
    "colab_type": "code",
    "id": "cWcItTw1DXUu",
    "outputId": "71ba93a4-b735-4dad-d8c4-8e7c554165b9"
   },
   "outputs": [],
   "source": [
    "trained = trainp.to_numpy()\n",
    "user_ratings_mean = np.mean(trained, axis = 1)\n",
    "trained_demean = trained - user_ratings_mean.reshape(-1, 1)"
   ]
  },
  {
   "cell_type": "code",
   "execution_count": 63,
   "metadata": {
    "colab": {},
    "colab_type": "code",
    "id": "W9CEbA7iDXUy"
   },
   "outputs": [],
   "source": [
    "U, sigma, Vt = svds(trained_demean, k = 50)"
   ]
  },
  {
   "cell_type": "code",
   "execution_count": 64,
   "metadata": {
    "colab": {},
    "colab_type": "code",
    "id": "PkNxu7W5DXU2"
   },
   "outputs": [],
   "source": [
    "sigma = np.diag(sigma)"
   ]
  },
  {
   "cell_type": "code",
   "execution_count": 65,
   "metadata": {
    "colab": {},
    "colab_type": "code",
    "id": "SOGSPbJGDXU7"
   },
   "outputs": [],
   "source": [
    "all_user_predicted_ratings = np.dot(np.dot(U, sigma), Vt) + user_ratings_mean.reshape(-1, 1)"
   ]
  },
  {
   "cell_type": "code",
   "execution_count": 66,
   "metadata": {
    "colab": {},
    "colab_type": "code",
    "id": "vp-Ws1HyDXVA",
    "outputId": "24a5ecc0-3038-4931-ccde-8c45c0f6aa24"
   },
   "outputs": [
    {
     "name": "stdout",
     "output_type": "stream",
     "text": [
      "[0.08241758 0.05879121 0.06428571 ... 0.05274725 0.04505495 0.07197802]\n"
     ]
    }
   ],
   "source": [
    "print(user_ratings_mean)"
   ]
  },
  {
   "cell_type": "code",
   "execution_count": 67,
   "metadata": {
    "colab": {},
    "colab_type": "code",
    "id": "FA2GofSmDXVD",
    "outputId": "3e1452ad-9ed5-41b9-a9c3-fefd55139dba"
   },
   "outputs": [
    {
     "name": "stdout",
     "output_type": "stream",
     "text": [
      "[ 0.0341765   0.74924155 -0.00162638 ... -0.00334478 -0.0166587\n",
      " -0.00939068]\n"
     ]
    }
   ],
   "source": [
    "print((all_user_predicted_ratings[0]))"
   ]
  },
  {
   "cell_type": "code",
   "execution_count": 68,
   "metadata": {
    "colab": {},
    "colab_type": "code",
    "id": "gTotgUlhDXVF",
    "outputId": "bf47dbb9-f4b5-40af-b635-23be97b183ca"
   },
   "outputs": [
    {
     "data": {
      "text/html": [
       "<div>\n",
       "<style scoped>\n",
       "    .dataframe tbody tr th:only-of-type {\n",
       "        vertical-align: middle;\n",
       "    }\n",
       "\n",
       "    .dataframe tbody tr th {\n",
       "        vertical-align: top;\n",
       "    }\n",
       "\n",
       "    .dataframe thead th {\n",
       "        text-align: right;\n",
       "    }\n",
       "</style>\n",
       "<table border=\"1\" class=\"dataframe\">\n",
       "  <thead>\n",
       "    <tr style=\"text-align: right;\">\n",
       "      <th>mID</th>\n",
       "      <th>8</th>\n",
       "      <th>28</th>\n",
       "      <th>43</th>\n",
       "      <th>48</th>\n",
       "      <th>61</th>\n",
       "      <th>64</th>\n",
       "      <th>66</th>\n",
       "      <th>92</th>\n",
       "      <th>96</th>\n",
       "      <th>111</th>\n",
       "      <th>...</th>\n",
       "      <th>17654</th>\n",
       "      <th>17660</th>\n",
       "      <th>17689</th>\n",
       "      <th>17693</th>\n",
       "      <th>17706</th>\n",
       "      <th>17725</th>\n",
       "      <th>17728</th>\n",
       "      <th>17734</th>\n",
       "      <th>17741</th>\n",
       "      <th>17742</th>\n",
       "    </tr>\n",
       "    <tr>\n",
       "      <th>uID</th>\n",
       "      <th></th>\n",
       "      <th></th>\n",
       "      <th></th>\n",
       "      <th></th>\n",
       "      <th></th>\n",
       "      <th></th>\n",
       "      <th></th>\n",
       "      <th></th>\n",
       "      <th></th>\n",
       "      <th></th>\n",
       "      <th></th>\n",
       "      <th></th>\n",
       "      <th></th>\n",
       "      <th></th>\n",
       "      <th></th>\n",
       "      <th></th>\n",
       "      <th></th>\n",
       "      <th></th>\n",
       "      <th></th>\n",
       "      <th></th>\n",
       "      <th></th>\n",
       "    </tr>\n",
       "  </thead>\n",
       "  <tbody>\n",
       "    <tr>\n",
       "      <th>7</th>\n",
       "      <td>0.034177</td>\n",
       "      <td>0.749242</td>\n",
       "      <td>-0.001626</td>\n",
       "      <td>-0.018925</td>\n",
       "      <td>-0.002373</td>\n",
       "      <td>-0.007050</td>\n",
       "      <td>-0.003369</td>\n",
       "      <td>-0.003599</td>\n",
       "      <td>-0.000042</td>\n",
       "      <td>0.412604</td>\n",
       "      <td>...</td>\n",
       "      <td>0.259888</td>\n",
       "      <td>-0.004119</td>\n",
       "      <td>-0.001759</td>\n",
       "      <td>0.147066</td>\n",
       "      <td>-0.019570</td>\n",
       "      <td>0.051315</td>\n",
       "      <td>-0.001293</td>\n",
       "      <td>-0.003345</td>\n",
       "      <td>-0.016659</td>\n",
       "      <td>-0.009391</td>\n",
       "    </tr>\n",
       "    <tr>\n",
       "      <th>79</th>\n",
       "      <td>0.004857</td>\n",
       "      <td>0.812900</td>\n",
       "      <td>0.016973</td>\n",
       "      <td>0.071726</td>\n",
       "      <td>0.013448</td>\n",
       "      <td>0.012980</td>\n",
       "      <td>0.014458</td>\n",
       "      <td>0.015650</td>\n",
       "      <td>0.008345</td>\n",
       "      <td>0.334227</td>\n",
       "      <td>...</td>\n",
       "      <td>0.178450</td>\n",
       "      <td>0.013557</td>\n",
       "      <td>0.009924</td>\n",
       "      <td>0.112814</td>\n",
       "      <td>0.016820</td>\n",
       "      <td>-0.041928</td>\n",
       "      <td>0.008691</td>\n",
       "      <td>0.009435</td>\n",
       "      <td>-0.007656</td>\n",
       "      <td>0.014185</td>\n",
       "    </tr>\n",
       "    <tr>\n",
       "      <th>199</th>\n",
       "      <td>0.196017</td>\n",
       "      <td>-0.662838</td>\n",
       "      <td>-0.008799</td>\n",
       "      <td>0.016020</td>\n",
       "      <td>-0.008925</td>\n",
       "      <td>-0.005025</td>\n",
       "      <td>-0.006814</td>\n",
       "      <td>0.001732</td>\n",
       "      <td>-0.001292</td>\n",
       "      <td>0.416214</td>\n",
       "      <td>...</td>\n",
       "      <td>0.008295</td>\n",
       "      <td>-0.014459</td>\n",
       "      <td>-0.006628</td>\n",
       "      <td>-0.041134</td>\n",
       "      <td>-0.004697</td>\n",
       "      <td>0.160741</td>\n",
       "      <td>-0.007396</td>\n",
       "      <td>-0.005472</td>\n",
       "      <td>0.063112</td>\n",
       "      <td>-0.028048</td>\n",
       "    </tr>\n",
       "    <tr>\n",
       "      <th>481</th>\n",
       "      <td>0.060348</td>\n",
       "      <td>1.181981</td>\n",
       "      <td>-0.002816</td>\n",
       "      <td>0.046674</td>\n",
       "      <td>-0.000397</td>\n",
       "      <td>-0.001576</td>\n",
       "      <td>-0.006943</td>\n",
       "      <td>0.004081</td>\n",
       "      <td>-0.011065</td>\n",
       "      <td>0.835635</td>\n",
       "      <td>...</td>\n",
       "      <td>0.224740</td>\n",
       "      <td>-0.004276</td>\n",
       "      <td>-0.003616</td>\n",
       "      <td>0.166618</td>\n",
       "      <td>0.002012</td>\n",
       "      <td>-0.021220</td>\n",
       "      <td>-0.004803</td>\n",
       "      <td>-0.007340</td>\n",
       "      <td>0.087379</td>\n",
       "      <td>0.004079</td>\n",
       "    </tr>\n",
       "    <tr>\n",
       "      <th>769</th>\n",
       "      <td>0.142250</td>\n",
       "      <td>0.348481</td>\n",
       "      <td>0.006319</td>\n",
       "      <td>0.077472</td>\n",
       "      <td>0.011265</td>\n",
       "      <td>0.008808</td>\n",
       "      <td>0.003678</td>\n",
       "      <td>0.007945</td>\n",
       "      <td>-0.005922</td>\n",
       "      <td>0.117017</td>\n",
       "      <td>...</td>\n",
       "      <td>0.002384</td>\n",
       "      <td>0.008751</td>\n",
       "      <td>0.010659</td>\n",
       "      <td>-0.025700</td>\n",
       "      <td>0.021211</td>\n",
       "      <td>0.139224</td>\n",
       "      <td>0.007100</td>\n",
       "      <td>0.005796</td>\n",
       "      <td>0.028668</td>\n",
       "      <td>0.003243</td>\n",
       "    </tr>\n",
       "  </tbody>\n",
       "</table>\n",
       "<p>5 rows × 1820 columns</p>\n",
       "</div>"
      ],
      "text/plain": [
       "mID     8         28        43        48        61        64        66     \\\n",
       "uID                                                                         \n",
       "7    0.034177  0.749242 -0.001626 -0.018925 -0.002373 -0.007050 -0.003369   \n",
       "79   0.004857  0.812900  0.016973  0.071726  0.013448  0.012980  0.014458   \n",
       "199  0.196017 -0.662838 -0.008799  0.016020 -0.008925 -0.005025 -0.006814   \n",
       "481  0.060348  1.181981 -0.002816  0.046674 -0.000397 -0.001576 -0.006943   \n",
       "769  0.142250  0.348481  0.006319  0.077472  0.011265  0.008808  0.003678   \n",
       "\n",
       "mID     92        96        111    ...     17654     17660     17689  \\\n",
       "uID                                ...                                 \n",
       "7   -0.003599 -0.000042  0.412604  ...  0.259888 -0.004119 -0.001759   \n",
       "79   0.015650  0.008345  0.334227  ...  0.178450  0.013557  0.009924   \n",
       "199  0.001732 -0.001292  0.416214  ...  0.008295 -0.014459 -0.006628   \n",
       "481  0.004081 -0.011065  0.835635  ...  0.224740 -0.004276 -0.003616   \n",
       "769  0.007945 -0.005922  0.117017  ...  0.002384  0.008751  0.010659   \n",
       "\n",
       "mID     17693     17706     17725     17728     17734     17741     17742  \n",
       "uID                                                                        \n",
       "7    0.147066 -0.019570  0.051315 -0.001293 -0.003345 -0.016659 -0.009391  \n",
       "79   0.112814  0.016820 -0.041928  0.008691  0.009435 -0.007656  0.014185  \n",
       "199 -0.041134 -0.004697  0.160741 -0.007396 -0.005472  0.063112 -0.028048  \n",
       "481  0.166618  0.002012 -0.021220 -0.004803 -0.007340  0.087379  0.004079  \n",
       "769 -0.025700  0.021211  0.139224  0.007100  0.005796  0.028668  0.003243  \n",
       "\n",
       "[5 rows x 1820 columns]"
      ]
     },
     "execution_count": 68,
     "metadata": {},
     "output_type": "execute_result"
    }
   ],
   "source": [
    "pred_df = pd.DataFrame(all_user_predicted_ratings, columns = trainp.columns, index= trainp.index)\n",
    "pred_df.head()"
   ]
  },
  {
   "cell_type": "code",
   "execution_count": 69,
   "metadata": {
    "colab": {},
    "colab_type": "code",
    "id": "Df5K1KmPDXVO",
    "outputId": "fdcefb56-4919-42a3-e5b2-9fa0b1b4f375"
   },
   "outputs": [
    {
     "data": {
      "text/plain": [
       "mID\n",
       "8        0.004857\n",
       "28       0.812900\n",
       "43       0.016973\n",
       "48       0.071726\n",
       "61       0.013448\n",
       "           ...   \n",
       "17725   -0.041928\n",
       "17728    0.008691\n",
       "17734    0.009435\n",
       "17741   -0.007656\n",
       "17742    0.014185\n",
       "Name: 79, Length: 1820, dtype: float64"
      ]
     },
     "execution_count": 69,
     "metadata": {},
     "output_type": "execute_result"
    }
   ],
   "source": [
    "pred_df.loc[79]"
   ]
  },
  {
   "cell_type": "code",
   "execution_count": 70,
   "metadata": {
    "colab": {},
    "colab_type": "code",
    "id": "w8HHQ2q8DXVS",
    "outputId": "5dbe18fd-5ab8-401e-c272-a2b118b51c70"
   },
   "outputs": [
    {
     "data": {
      "text/html": [
       "<div>\n",
       "<style scoped>\n",
       "    .dataframe tbody tr th:only-of-type {\n",
       "        vertical-align: middle;\n",
       "    }\n",
       "\n",
       "    .dataframe tbody tr th {\n",
       "        vertical-align: top;\n",
       "    }\n",
       "\n",
       "    .dataframe thead th {\n",
       "        text-align: right;\n",
       "    }\n",
       "</style>\n",
       "<table border=\"1\" class=\"dataframe\">\n",
       "  <thead>\n",
       "    <tr style=\"text-align: right;\">\n",
       "      <th></th>\n",
       "      <th>mID</th>\n",
       "      <th>yearofrelease</th>\n",
       "      <th>title</th>\n",
       "    </tr>\n",
       "  </thead>\n",
       "  <tbody>\n",
       "    <tr>\n",
       "      <th>0</th>\n",
       "      <td>1.0</td>\n",
       "      <td>2003.0</td>\n",
       "      <td>Dinosaur Planet</td>\n",
       "    </tr>\n",
       "    <tr>\n",
       "      <th>1</th>\n",
       "      <td>2.0</td>\n",
       "      <td>2004.0</td>\n",
       "      <td>Isle of Man TT 2004 Review</td>\n",
       "    </tr>\n",
       "    <tr>\n",
       "      <th>2</th>\n",
       "      <td>3.0</td>\n",
       "      <td>1997.0</td>\n",
       "      <td>Character</td>\n",
       "    </tr>\n",
       "    <tr>\n",
       "      <th>3</th>\n",
       "      <td>4.0</td>\n",
       "      <td>1994.0</td>\n",
       "      <td>Paula Abdul's Get Up &amp; Dance</td>\n",
       "    </tr>\n",
       "    <tr>\n",
       "      <th>4</th>\n",
       "      <td>5.0</td>\n",
       "      <td>2004.0</td>\n",
       "      <td>The Rise and Fall of ECW</td>\n",
       "    </tr>\n",
       "  </tbody>\n",
       "</table>\n",
       "</div>"
      ],
      "text/plain": [
       "   mID  yearofrelease                         title\n",
       "0  1.0         2003.0               Dinosaur Planet\n",
       "1  2.0         2004.0    Isle of Man TT 2004 Review\n",
       "2  3.0         1997.0                     Character\n",
       "3  4.0         1994.0  Paula Abdul's Get Up & Dance\n",
       "4  5.0         2004.0      The Rise and Fall of ECW"
      ]
     },
     "execution_count": 70,
     "metadata": {},
     "output_type": "execute_result"
    }
   ],
   "source": [
    "movie_pandas = movie_df.toPandas()\n",
    "movie_pandas.head()"
   ]
  },
  {
   "cell_type": "code",
   "execution_count": 71,
   "metadata": {
    "colab": {},
    "colab_type": "code",
    "id": "zbKYfLw4DXVU"
   },
   "outputs": [],
   "source": [
    "def recommend_movies(predictions_df, userID, movie_df, original_ratings_df, num_recommendations=5):\n",
    "    \n",
    "    # Get and sort the user's predictions\n",
    "    user_row_number = userID # UserID starts at 1, not 0\n",
    "    sorted_user_predictions = predictions_df.loc[user_row_number].sort_values(ascending=False) # UserID starts at 1\n",
    "    \n",
    "    # Get the user's data and merge in the movie information.\n",
    "    user_data = original_ratings_df[original_ratings_df.uID == (userID)]\n",
    "    user_full = (user_data.merge(movie_df, how = 'left', left_on = 'mID', right_on = 'mID').\n",
    "                     sort_values(['ratings'], ascending=False)\n",
    "                 )\n",
    "\n",
    "    print ('User {0} has already rated {1} movies.'.format(userID, user_full.shape[0]))\n",
    "    print ('Recommending highest {0} predicted ratings movies not already rated.'.format(num_recommendations))\n",
    "    \n",
    "    # Recommend the highest predicted rating movies that the user hasn't seen yet.\n",
    "    recommendations = (movie_df[~movie_df['mID'].isin(user_full['mID'])].\n",
    "         merge(pd.DataFrame(sorted_user_predictions).reset_index(), how = 'left',left_on = 'mID',right_on = 'mID').\n",
    "         rename(columns = {user_row_number: 'Predictions'}).\n",
    "         sort_values('Predictions', ascending = False).iloc[:num_recommendations, :-1])\n",
    "    return user_full, recommendations\n"
   ]
  },
  {
   "cell_type": "code",
   "execution_count": 72,
   "metadata": {},
   "outputs": [
    {
     "data": {
      "text/html": [
       "<div>\n",
       "<style scoped>\n",
       "    .dataframe tbody tr th:only-of-type {\n",
       "        vertical-align: middle;\n",
       "    }\n",
       "\n",
       "    .dataframe tbody tr th {\n",
       "        vertical-align: top;\n",
       "    }\n",
       "\n",
       "    .dataframe thead th {\n",
       "        text-align: right;\n",
       "    }\n",
       "</style>\n",
       "<table border=\"1\" class=\"dataframe\">\n",
       "  <thead>\n",
       "    <tr style=\"text-align: right;\">\n",
       "      <th></th>\n",
       "      <th>mID</th>\n",
       "      <th>uID</th>\n",
       "      <th>ratings</th>\n",
       "    </tr>\n",
       "  </thead>\n",
       "  <tbody>\n",
       "    <tr>\n",
       "      <th>0</th>\n",
       "      <td>8</td>\n",
       "      <td>1744889</td>\n",
       "      <td>1.0</td>\n",
       "    </tr>\n",
       "    <tr>\n",
       "      <th>1</th>\n",
       "      <td>8</td>\n",
       "      <td>1395430</td>\n",
       "      <td>2.0</td>\n",
       "    </tr>\n",
       "    <tr>\n",
       "      <th>2</th>\n",
       "      <td>8</td>\n",
       "      <td>1205593</td>\n",
       "      <td>4.0</td>\n",
       "    </tr>\n",
       "    <tr>\n",
       "      <th>3</th>\n",
       "      <td>8</td>\n",
       "      <td>1488844</td>\n",
       "      <td>4.0</td>\n",
       "    </tr>\n",
       "    <tr>\n",
       "      <th>4</th>\n",
       "      <td>8</td>\n",
       "      <td>1447354</td>\n",
       "      <td>1.0</td>\n",
       "    </tr>\n",
       "    <tr>\n",
       "      <th>...</th>\n",
       "      <td>...</td>\n",
       "      <td>...</td>\n",
       "      <td>...</td>\n",
       "    </tr>\n",
       "    <tr>\n",
       "      <th>3255347</th>\n",
       "      <td>17742</td>\n",
       "      <td>46222</td>\n",
       "      <td>3.0</td>\n",
       "    </tr>\n",
       "    <tr>\n",
       "      <th>3255348</th>\n",
       "      <td>17742</td>\n",
       "      <td>2534701</td>\n",
       "      <td>1.0</td>\n",
       "    </tr>\n",
       "    <tr>\n",
       "      <th>3255349</th>\n",
       "      <td>17742</td>\n",
       "      <td>208724</td>\n",
       "      <td>3.0</td>\n",
       "    </tr>\n",
       "    <tr>\n",
       "      <th>3255350</th>\n",
       "      <td>17742</td>\n",
       "      <td>483107</td>\n",
       "      <td>2.0</td>\n",
       "    </tr>\n",
       "    <tr>\n",
       "      <th>3255351</th>\n",
       "      <td>17742</td>\n",
       "      <td>1181331</td>\n",
       "      <td>2.0</td>\n",
       "    </tr>\n",
       "  </tbody>\n",
       "</table>\n",
       "<p>3255352 rows × 3 columns</p>\n",
       "</div>"
      ],
      "text/plain": [
       "           mID      uID  ratings\n",
       "0            8  1744889      1.0\n",
       "1            8  1395430      2.0\n",
       "2            8  1205593      4.0\n",
       "3            8  1488844      4.0\n",
       "4            8  1447354      1.0\n",
       "...        ...      ...      ...\n",
       "3255347  17742    46222      3.0\n",
       "3255348  17742  2534701      1.0\n",
       "3255349  17742   208724      3.0\n",
       "3255350  17742   483107      2.0\n",
       "3255351  17742  1181331      2.0\n",
       "\n",
       "[3255352 rows x 3 columns]"
      ]
     },
     "execution_count": 72,
     "metadata": {},
     "output_type": "execute_result"
    }
   ],
   "source": [
    "train_pandas"
   ]
  },
  {
   "cell_type": "code",
   "execution_count": 73,
   "metadata": {
    "colab": {},
    "colab_type": "code",
    "id": "gfJMu3eSDXVW",
    "outputId": "f112499f-ae53-40b0-f27f-cbe40caee5df"
   },
   "outputs": [
    {
     "name": "stdout",
     "output_type": "stream",
     "text": [
      "User 738747 has already rated 125 movies.\n",
      "Recommending highest 10 predicted ratings movies not already rated.\n"
     ]
    }
   ],
   "source": [
    "already_rated, predictions = recommend_movies(pred_df, 738747, movie_pandas, train_pandas, 10)"
   ]
  },
  {
   "cell_type": "code",
   "execution_count": 74,
   "metadata": {
    "colab": {},
    "colab_type": "code",
    "id": "jVxOrG6rDXVb",
    "outputId": "87909648-7811-434e-857d-e2f6c36a68ba"
   },
   "outputs": [
    {
     "data": {
      "text/html": [
       "<div>\n",
       "<style scoped>\n",
       "    .dataframe tbody tr th:only-of-type {\n",
       "        vertical-align: middle;\n",
       "    }\n",
       "\n",
       "    .dataframe tbody tr th {\n",
       "        vertical-align: top;\n",
       "    }\n",
       "\n",
       "    .dataframe thead th {\n",
       "        text-align: right;\n",
       "    }\n",
       "</style>\n",
       "<table border=\"1\" class=\"dataframe\">\n",
       "  <thead>\n",
       "    <tr style=\"text-align: right;\">\n",
       "      <th></th>\n",
       "      <th>mID</th>\n",
       "      <th>uID</th>\n",
       "      <th>ratings</th>\n",
       "      <th>yearofrelease</th>\n",
       "      <th>title</th>\n",
       "    </tr>\n",
       "  </thead>\n",
       "  <tbody>\n",
       "    <tr>\n",
       "      <th>104</th>\n",
       "      <td>14484</td>\n",
       "      <td>738747</td>\n",
       "      <td>5.0</td>\n",
       "      <td>1988.0</td>\n",
       "      <td>The Naked Gun</td>\n",
       "    </tr>\n",
       "    <tr>\n",
       "      <th>117</th>\n",
       "      <td>16286</td>\n",
       "      <td>738747</td>\n",
       "      <td>5.0</td>\n",
       "      <td>2002.0</td>\n",
       "      <td>Red Dragon</td>\n",
       "    </tr>\n",
       "    <tr>\n",
       "      <th>31</th>\n",
       "      <td>3290</td>\n",
       "      <td>738747</td>\n",
       "      <td>5.0</td>\n",
       "      <td>1974.0</td>\n",
       "      <td>The Godfather</td>\n",
       "    </tr>\n",
       "    <tr>\n",
       "      <th>54</th>\n",
       "      <td>6971</td>\n",
       "      <td>738747</td>\n",
       "      <td>5.0</td>\n",
       "      <td>1986.0</td>\n",
       "      <td>Ferris Bueller's Day Off</td>\n",
       "    </tr>\n",
       "    <tr>\n",
       "      <th>110</th>\n",
       "      <td>15557</td>\n",
       "      <td>738747</td>\n",
       "      <td>5.0</td>\n",
       "      <td>1999.0</td>\n",
       "      <td>Futurama: Vol. 3</td>\n",
       "    </tr>\n",
       "    <tr>\n",
       "      <th>24</th>\n",
       "      <td>3084</td>\n",
       "      <td>738747</td>\n",
       "      <td>5.0</td>\n",
       "      <td>1975.0</td>\n",
       "      <td>Rollerball</td>\n",
       "    </tr>\n",
       "    <tr>\n",
       "      <th>23</th>\n",
       "      <td>2861</td>\n",
       "      <td>738747</td>\n",
       "      <td>5.0</td>\n",
       "      <td>1996.0</td>\n",
       "      <td>Babylon 5: Season 4</td>\n",
       "    </tr>\n",
       "    <tr>\n",
       "      <th>61</th>\n",
       "      <td>8915</td>\n",
       "      <td>738747</td>\n",
       "      <td>5.0</td>\n",
       "      <td>1991.0</td>\n",
       "      <td>Terminator 2: Extreme Edition</td>\n",
       "    </tr>\n",
       "    <tr>\n",
       "      <th>43</th>\n",
       "      <td>5656</td>\n",
       "      <td>738747</td>\n",
       "      <td>5.0</td>\n",
       "      <td>1986.0</td>\n",
       "      <td>Star Trek IV: The Voyage Home</td>\n",
       "    </tr>\n",
       "    <tr>\n",
       "      <th>19</th>\n",
       "      <td>2532</td>\n",
       "      <td>738747</td>\n",
       "      <td>5.0</td>\n",
       "      <td>1999.0</td>\n",
       "      <td>Futurama: Vol. 1</td>\n",
       "    </tr>\n",
       "  </tbody>\n",
       "</table>\n",
       "</div>"
      ],
      "text/plain": [
       "       mID     uID  ratings  yearofrelease                          title\n",
       "104  14484  738747      5.0         1988.0                  The Naked Gun\n",
       "117  16286  738747      5.0         2002.0                     Red Dragon\n",
       "31    3290  738747      5.0         1974.0                  The Godfather\n",
       "54    6971  738747      5.0         1986.0       Ferris Bueller's Day Off\n",
       "110  15557  738747      5.0         1999.0               Futurama: Vol. 3\n",
       "24    3084  738747      5.0         1975.0                     Rollerball\n",
       "23    2861  738747      5.0         1996.0            Babylon 5: Season 4\n",
       "61    8915  738747      5.0         1991.0  Terminator 2: Extreme Edition\n",
       "43    5656  738747      5.0         1986.0  Star Trek IV: The Voyage Home\n",
       "19    2532  738747      5.0         1999.0               Futurama: Vol. 1"
      ]
     },
     "execution_count": 74,
     "metadata": {},
     "output_type": "execute_result"
    }
   ],
   "source": [
    "already_rated.head(10)"
   ]
  },
  {
   "cell_type": "code",
   "execution_count": 75,
   "metadata": {
    "colab": {},
    "colab_type": "code",
    "id": "taGlSREPDXVe",
    "outputId": "53670ca7-3047-4e37-da3f-a4cc315fd9fe"
   },
   "outputs": [
    {
     "data": {
      "text/html": [
       "<div>\n",
       "<style scoped>\n",
       "    .dataframe tbody tr th:only-of-type {\n",
       "        vertical-align: middle;\n",
       "    }\n",
       "\n",
       "    .dataframe tbody tr th {\n",
       "        vertical-align: top;\n",
       "    }\n",
       "\n",
       "    .dataframe thead th {\n",
       "        text-align: right;\n",
       "    }\n",
       "</style>\n",
       "<table border=\"1\" class=\"dataframe\">\n",
       "  <thead>\n",
       "    <tr style=\"text-align: right;\">\n",
       "      <th></th>\n",
       "      <th>mID</th>\n",
       "      <th>yearofrelease</th>\n",
       "      <th>title</th>\n",
       "    </tr>\n",
       "  </thead>\n",
       "  <tbody>\n",
       "    <tr>\n",
       "      <th>5714</th>\n",
       "      <td>5760.0</td>\n",
       "      <td>2001.0</td>\n",
       "      <td>The Sopranos: Season 3</td>\n",
       "    </tr>\n",
       "    <tr>\n",
       "      <th>3602</th>\n",
       "      <td>3638.0</td>\n",
       "      <td>2003.0</td>\n",
       "      <td>Bad Boys II</td>\n",
       "    </tr>\n",
       "    <tr>\n",
       "      <th>8789</th>\n",
       "      <td>8851.0</td>\n",
       "      <td>1998.0</td>\n",
       "      <td>Rounders</td>\n",
       "    </tr>\n",
       "    <tr>\n",
       "      <th>7089</th>\n",
       "      <td>7145.0</td>\n",
       "      <td>1984.0</td>\n",
       "      <td>Star Trek III: The Search for Spock</td>\n",
       "    </tr>\n",
       "    <tr>\n",
       "      <th>11756</th>\n",
       "      <td>11837.0</td>\n",
       "      <td>1987.0</td>\n",
       "      <td>Three Men and a Baby</td>\n",
       "    </tr>\n",
       "    <tr>\n",
       "      <th>11533</th>\n",
       "      <td>11613.0</td>\n",
       "      <td>1974.0</td>\n",
       "      <td>The Man with the Golden Gun</td>\n",
       "    </tr>\n",
       "    <tr>\n",
       "      <th>438</th>\n",
       "      <td>442.0</td>\n",
       "      <td>1988.0</td>\n",
       "      <td>Mississippi Burning</td>\n",
       "    </tr>\n",
       "    <tr>\n",
       "      <th>14099</th>\n",
       "      <td>14198.0</td>\n",
       "      <td>1996.0</td>\n",
       "      <td>Trainspotting: Collector's Edition</td>\n",
       "    </tr>\n",
       "    <tr>\n",
       "      <th>846</th>\n",
       "      <td>851.0</td>\n",
       "      <td>1990.0</td>\n",
       "      <td>Back to the Future Part III</td>\n",
       "    </tr>\n",
       "    <tr>\n",
       "      <th>3242</th>\n",
       "      <td>3274.0</td>\n",
       "      <td>1998.0</td>\n",
       "      <td>Half Baked</td>\n",
       "    </tr>\n",
       "  </tbody>\n",
       "</table>\n",
       "</div>"
      ],
      "text/plain": [
       "           mID  yearofrelease                                title\n",
       "5714    5760.0         2001.0               The Sopranos: Season 3\n",
       "3602    3638.0         2003.0                          Bad Boys II\n",
       "8789    8851.0         1998.0                             Rounders\n",
       "7089    7145.0         1984.0  Star Trek III: The Search for Spock\n",
       "11756  11837.0         1987.0                 Three Men and a Baby\n",
       "11533  11613.0         1974.0          The Man with the Golden Gun\n",
       "438      442.0         1988.0                  Mississippi Burning\n",
       "14099  14198.0         1996.0   Trainspotting: Collector's Edition\n",
       "846      851.0         1990.0          Back to the Future Part III\n",
       "3242    3274.0         1998.0                           Half Baked"
      ]
     },
     "execution_count": 75,
     "metadata": {},
     "output_type": "execute_result"
    }
   ],
   "source": [
    "predictions"
   ]
  },
  {
   "cell_type": "markdown",
   "metadata": {},
   "source": [
    "The absolute mean squared error for our training set."
   ]
  },
  {
   "cell_type": "code",
   "execution_count": 76,
   "metadata": {
    "colab": {},
    "colab_type": "code",
    "id": "tf21KjtqDXVh",
    "outputId": "4c740e28-a3e7-475e-bea8-cc95f2370dd6"
   },
   "outputs": [
    {
     "data": {
      "text/plain": [
       "0.44889265941023837"
      ]
     },
     "execution_count": 76,
     "metadata": {},
     "output_type": "execute_result"
    }
   ],
   "source": [
    "math.sqrt(mean_squared_error(all_user_predicted_ratings,trained_demean))"
   ]
  },
  {
   "cell_type": "markdown",
   "metadata": {},
   "source": [
    "Lets try predicting first for our smaller test set."
   ]
  },
  {
   "cell_type": "code",
   "execution_count": 77,
   "metadata": {
    "colab": {},
    "colab_type": "code",
    "id": "3wncAbJ_DXVj",
    "outputId": "cf610f12-bd7e-445e-aa19-229588de9b14"
   },
   "outputs": [],
   "source": [
    "tested = testp.to_numpy()\n",
    "user_ratings_mean_test = np.mean(tested, axis = 1)\n",
    "tested_demean = tested - user_ratings_mean_test.reshape(-1, 1)"
   ]
  },
  {
   "cell_type": "code",
   "execution_count": 78,
   "metadata": {
    "colab": {},
    "colab_type": "code",
    "id": "HbUQmOcoDXVq"
   },
   "outputs": [],
   "source": [
    "U, sigma, Vt = svds(tested_demean, k = 50)"
   ]
  },
  {
   "cell_type": "code",
   "execution_count": 79,
   "metadata": {
    "colab": {},
    "colab_type": "code",
    "id": "lgDxAv1XDXVx"
   },
   "outputs": [],
   "source": [
    "sigma = np.diag(sigma)"
   ]
  },
  {
   "cell_type": "code",
   "execution_count": 80,
   "metadata": {
    "colab": {},
    "colab_type": "code",
    "id": "wW3T9Jd5DXV4"
   },
   "outputs": [],
   "source": [
    "all_user_predicted_ratings = np.dot(np.dot(U, sigma), Vt) + user_ratings_mean_test.reshape(-1, 1)"
   ]
  },
  {
   "cell_type": "code",
   "execution_count": 81,
   "metadata": {
    "colab": {},
    "colab_type": "code",
    "id": "szqioc9PDXV8",
    "outputId": "2f682761-d55a-4e6d-9f0d-5bf59cea1732"
   },
   "outputs": [
    {
     "data": {
      "text/plain": [
       "0.5307017722376988"
      ]
     },
     "execution_count": 81,
     "metadata": {},
     "output_type": "execute_result"
    }
   ],
   "source": [
    "math.sqrt(mean_squared_error(all_user_predicted_ratings,tested_demean))"
   ]
  },
  {
   "cell_type": "markdown",
   "metadata": {},
   "source": [
    "Lets test our test set. Create a new dataframe with userID as index and the movieId as columns for our testing data."
   ]
  },
  {
   "cell_type": "code",
   "execution_count": 82,
   "metadata": {
    "colab": {},
    "colab_type": "code",
    "id": "W8_mIKqjDXWI",
    "outputId": "cae3d118-906a-4208-e85a-d8129360b6af"
   },
   "outputs": [
    {
     "data": {
      "text/html": [
       "<div>\n",
       "<style scoped>\n",
       "    .dataframe tbody tr th:only-of-type {\n",
       "        vertical-align: middle;\n",
       "    }\n",
       "\n",
       "    .dataframe tbody tr th {\n",
       "        vertical-align: top;\n",
       "    }\n",
       "\n",
       "    .dataframe thead th {\n",
       "        text-align: right;\n",
       "    }\n",
       "</style>\n",
       "<table border=\"1\" class=\"dataframe\">\n",
       "  <thead>\n",
       "    <tr style=\"text-align: right;\">\n",
       "      <th>mID</th>\n",
       "      <th>8</th>\n",
       "      <th>28</th>\n",
       "      <th>43</th>\n",
       "      <th>48</th>\n",
       "      <th>61</th>\n",
       "      <th>64</th>\n",
       "      <th>66</th>\n",
       "      <th>92</th>\n",
       "      <th>96</th>\n",
       "      <th>111</th>\n",
       "      <th>...</th>\n",
       "      <th>17653</th>\n",
       "      <th>17654</th>\n",
       "      <th>17689</th>\n",
       "      <th>17693</th>\n",
       "      <th>17706</th>\n",
       "      <th>17725</th>\n",
       "      <th>17728</th>\n",
       "      <th>17734</th>\n",
       "      <th>17741</th>\n",
       "      <th>17742</th>\n",
       "    </tr>\n",
       "    <tr>\n",
       "      <th>uID</th>\n",
       "      <th></th>\n",
       "      <th></th>\n",
       "      <th></th>\n",
       "      <th></th>\n",
       "      <th></th>\n",
       "      <th></th>\n",
       "      <th></th>\n",
       "      <th></th>\n",
       "      <th></th>\n",
       "      <th></th>\n",
       "      <th></th>\n",
       "      <th></th>\n",
       "      <th></th>\n",
       "      <th></th>\n",
       "      <th></th>\n",
       "      <th></th>\n",
       "      <th></th>\n",
       "      <th></th>\n",
       "      <th></th>\n",
       "      <th></th>\n",
       "      <th></th>\n",
       "    </tr>\n",
       "  </thead>\n",
       "  <tbody>\n",
       "    <tr>\n",
       "      <th>7</th>\n",
       "      <td>0.0</td>\n",
       "      <td>0.0</td>\n",
       "      <td>0.0</td>\n",
       "      <td>0.0</td>\n",
       "      <td>0.0</td>\n",
       "      <td>0.0</td>\n",
       "      <td>0.0</td>\n",
       "      <td>0.0</td>\n",
       "      <td>0.0</td>\n",
       "      <td>0.0</td>\n",
       "      <td>...</td>\n",
       "      <td>0.0</td>\n",
       "      <td>0.0</td>\n",
       "      <td>0.0</td>\n",
       "      <td>0.0</td>\n",
       "      <td>0.0</td>\n",
       "      <td>0.0</td>\n",
       "      <td>0.0</td>\n",
       "      <td>0.0</td>\n",
       "      <td>0.0</td>\n",
       "      <td>0.0</td>\n",
       "    </tr>\n",
       "    <tr>\n",
       "      <th>79</th>\n",
       "      <td>0.0</td>\n",
       "      <td>0.0</td>\n",
       "      <td>0.0</td>\n",
       "      <td>0.0</td>\n",
       "      <td>0.0</td>\n",
       "      <td>0.0</td>\n",
       "      <td>0.0</td>\n",
       "      <td>0.0</td>\n",
       "      <td>0.0</td>\n",
       "      <td>0.0</td>\n",
       "      <td>...</td>\n",
       "      <td>0.0</td>\n",
       "      <td>0.0</td>\n",
       "      <td>0.0</td>\n",
       "      <td>0.0</td>\n",
       "      <td>0.0</td>\n",
       "      <td>0.0</td>\n",
       "      <td>0.0</td>\n",
       "      <td>0.0</td>\n",
       "      <td>0.0</td>\n",
       "      <td>0.0</td>\n",
       "    </tr>\n",
       "    <tr>\n",
       "      <th>199</th>\n",
       "      <td>0.0</td>\n",
       "      <td>0.0</td>\n",
       "      <td>0.0</td>\n",
       "      <td>0.0</td>\n",
       "      <td>0.0</td>\n",
       "      <td>0.0</td>\n",
       "      <td>0.0</td>\n",
       "      <td>0.0</td>\n",
       "      <td>0.0</td>\n",
       "      <td>0.0</td>\n",
       "      <td>...</td>\n",
       "      <td>0.0</td>\n",
       "      <td>0.0</td>\n",
       "      <td>0.0</td>\n",
       "      <td>0.0</td>\n",
       "      <td>0.0</td>\n",
       "      <td>0.0</td>\n",
       "      <td>0.0</td>\n",
       "      <td>0.0</td>\n",
       "      <td>0.0</td>\n",
       "      <td>0.0</td>\n",
       "    </tr>\n",
       "    <tr>\n",
       "      <th>481</th>\n",
       "      <td>0.0</td>\n",
       "      <td>0.0</td>\n",
       "      <td>0.0</td>\n",
       "      <td>0.0</td>\n",
       "      <td>0.0</td>\n",
       "      <td>0.0</td>\n",
       "      <td>0.0</td>\n",
       "      <td>0.0</td>\n",
       "      <td>0.0</td>\n",
       "      <td>0.0</td>\n",
       "      <td>...</td>\n",
       "      <td>0.0</td>\n",
       "      <td>0.0</td>\n",
       "      <td>0.0</td>\n",
       "      <td>0.0</td>\n",
       "      <td>0.0</td>\n",
       "      <td>0.0</td>\n",
       "      <td>0.0</td>\n",
       "      <td>0.0</td>\n",
       "      <td>0.0</td>\n",
       "      <td>0.0</td>\n",
       "    </tr>\n",
       "    <tr>\n",
       "      <th>769</th>\n",
       "      <td>0.0</td>\n",
       "      <td>0.0</td>\n",
       "      <td>0.0</td>\n",
       "      <td>0.0</td>\n",
       "      <td>0.0</td>\n",
       "      <td>0.0</td>\n",
       "      <td>0.0</td>\n",
       "      <td>0.0</td>\n",
       "      <td>0.0</td>\n",
       "      <td>0.0</td>\n",
       "      <td>...</td>\n",
       "      <td>0.0</td>\n",
       "      <td>0.0</td>\n",
       "      <td>0.0</td>\n",
       "      <td>0.0</td>\n",
       "      <td>0.0</td>\n",
       "      <td>0.0</td>\n",
       "      <td>0.0</td>\n",
       "      <td>0.0</td>\n",
       "      <td>0.0</td>\n",
       "      <td>0.0</td>\n",
       "    </tr>\n",
       "  </tbody>\n",
       "</table>\n",
       "<p>5 rows × 1701 columns</p>\n",
       "</div>"
      ],
      "text/plain": [
       "mID  8      28     43     48     61     64     66     92     96     111    \\\n",
       "uID                                                                         \n",
       "7      0.0    0.0    0.0    0.0    0.0    0.0    0.0    0.0    0.0    0.0   \n",
       "79     0.0    0.0    0.0    0.0    0.0    0.0    0.0    0.0    0.0    0.0   \n",
       "199    0.0    0.0    0.0    0.0    0.0    0.0    0.0    0.0    0.0    0.0   \n",
       "481    0.0    0.0    0.0    0.0    0.0    0.0    0.0    0.0    0.0    0.0   \n",
       "769    0.0    0.0    0.0    0.0    0.0    0.0    0.0    0.0    0.0    0.0   \n",
       "\n",
       "mID  ...  17653  17654  17689  17693  17706  17725  17728  17734  17741  17742  \n",
       "uID  ...                                                                        \n",
       "7    ...    0.0    0.0    0.0    0.0    0.0    0.0    0.0    0.0    0.0    0.0  \n",
       "79   ...    0.0    0.0    0.0    0.0    0.0    0.0    0.0    0.0    0.0    0.0  \n",
       "199  ...    0.0    0.0    0.0    0.0    0.0    0.0    0.0    0.0    0.0    0.0  \n",
       "481  ...    0.0    0.0    0.0    0.0    0.0    0.0    0.0    0.0    0.0    0.0  \n",
       "769  ...    0.0    0.0    0.0    0.0    0.0    0.0    0.0    0.0    0.0    0.0  \n",
       "\n",
       "[5 rows x 1701 columns]"
      ]
     },
     "execution_count": 82,
     "metadata": {},
     "output_type": "execute_result"
    }
   ],
   "source": [
    "usertest_movie_rating = test_pandas.pivot_table(index='uID', columns='mID', values='ratings')\n",
    "usertest_movie_rating.fillna(0, inplace= True)\n",
    "usertest_movie_rating.head()"
   ]
  },
  {
   "cell_type": "code",
   "execution_count": 83,
   "metadata": {
    "colab": {},
    "colab_type": "code",
    "id": "MEIt7cAFDXWM",
    "outputId": "d2532904-3517-46d7-8863-ee7c655401a1"
   },
   "outputs": [],
   "source": [
    "finaltest = usertest_movie_rating.to_numpy()\n",
    "fusertest_ratings_mean = np.mean(finaltest, axis = 1)\n",
    "ftest_demean = finaltest - fusertest_ratings_mean.reshape(-1, 1)"
   ]
  },
  {
   "cell_type": "code",
   "execution_count": 84,
   "metadata": {
    "colab": {},
    "colab_type": "code",
    "id": "gJ9nd3L0DXWT"
   },
   "outputs": [],
   "source": [
    "U, sigma, Vt = svds(ftest_demean, k = 50)\n",
    "sigma = np.diag(sigma)\n",
    "final_all_user_predicted_ratings = np.dot(np.dot(U, sigma), Vt) + fusertest_ratings_mean.reshape(-1, 1)"
   ]
  },
  {
   "cell_type": "markdown",
   "metadata": {
    "colab_type": "text",
    "id": "xTmwLmR3DXWY"
   },
   "source": [
    "Evaluate the approach for our overall testing data."
   ]
  },
  {
   "cell_type": "code",
   "execution_count": 85,
   "metadata": {
    "colab": {},
    "colab_type": "code",
    "id": "b6isGX8gDXWY",
    "outputId": "12eb36c7-ec85-4358-da1a-3d208151597d"
   },
   "outputs": [
    {
     "data": {
      "text/plain": [
       "0.1384366719810287"
      ]
     },
     "execution_count": 85,
     "metadata": {},
     "output_type": "execute_result"
    }
   ],
   "source": [
    "math.sqrt(mean_squared_error(final_all_user_predicted_ratings,ftest_demean))"
   ]
  },
  {
   "cell_type": "code",
   "execution_count": 86,
   "metadata": {
    "colab": {},
    "colab_type": "code",
    "id": "jDNU3R7vDXWc",
    "outputId": "84c7eb54-3307-4c29-f6f1-37b36370a72c"
   },
   "outputs": [
    {
     "data": {
      "text/plain": [
       "0.019038633968441944"
      ]
     },
     "execution_count": 86,
     "metadata": {},
     "output_type": "execute_result"
    }
   ],
   "source": [
    "mean_absolute_error(ftest_demean,final_all_user_predicted_ratings)"
   ]
  },
  {
   "cell_type": "markdown",
   "metadata": {
    "colab_type": "text",
    "id": "d-QWv9XMDXWe"
   },
   "source": [
    "Our model seems to be performing  very well. Lets go ahead and add me as a new user"
   ]
  },
  {
   "cell_type": "markdown",
   "metadata": {},
   "source": [
    "We will assume the id of 0000"
   ]
  },
  {
   "cell_type": "code",
   "execution_count": 87,
   "metadata": {
    "colab": {},
    "colab_type": "code",
    "id": "q9mMsFQCDXWe"
   },
   "outputs": [],
   "source": [
    "me = {'uID':0,'mID': 8, 'ratings': 5.0}\n",
    "me1 = {'uID':0,'mID': 61, 'ratings': 4.0}\n",
    "me2 = {'uID':0,'mID': 66, 'ratings': 3.0}\n",
    "me3 = {'uID':0,'mID': 96, 'ratings': 2.0}\n",
    "me4 = {'uID':0,'mID': 111, 'ratings': 5.0}\n",
    "me5 = {'uID':0,'mID': 17734}\n",
    "me6 = {'uID':0,'mID': 17742}"
   ]
  },
  {
   "cell_type": "code",
   "execution_count": 88,
   "metadata": {
    "colab": {},
    "colab_type": "code",
    "id": "gDxWgT6RDXWi"
   },
   "outputs": [],
   "source": [
    "testingPandas=test_pandas.append(me, ignore_index=True )\n",
    "testingPandas=testingPandas.append(me1, ignore_index=True )\n",
    "testingPandas=testingPandas.append(me2, ignore_index=True )\n",
    "testingPandas=testingPandas.append(me3, ignore_index=True )\n",
    "testingPandas=testingPandas.append(me4, ignore_index=True )\n",
    "testingPandas=testingPandas.append(me5, ignore_index=True )\n",
    "testingPandas=testingPandas.append(me6, ignore_index=True )"
   ]
  },
  {
   "cell_type": "code",
   "execution_count": 89,
   "metadata": {
    "colab": {},
    "colab_type": "code",
    "id": "JRdk_6HXDXWl",
    "outputId": "3e0ae191-ca83-42ea-f055-e516c81ad690"
   },
   "outputs": [
    {
     "data": {
      "text/plain": [
       "0         False\n",
       "1         False\n",
       "2         False\n",
       "3         False\n",
       "4         False\n",
       "          ...  \n",
       "100480     True\n",
       "100481     True\n",
       "100482     True\n",
       "100483     True\n",
       "100484     True\n",
       "Name: uID, Length: 100485, dtype: bool"
      ]
     },
     "execution_count": 89,
     "metadata": {},
     "output_type": "execute_result"
    }
   ],
   "source": [
    "testingPandas['uID']==0"
   ]
  },
  {
   "cell_type": "code",
   "execution_count": 90,
   "metadata": {
    "colab": {},
    "colab_type": "code",
    "id": "ftnV-pmaDXWo",
    "outputId": "52020db2-5142-4e8a-b309-9a5ab2022973"
   },
   "outputs": [
    {
     "data": {
      "text/html": [
       "<div>\n",
       "<style scoped>\n",
       "    .dataframe tbody tr th:only-of-type {\n",
       "        vertical-align: middle;\n",
       "    }\n",
       "\n",
       "    .dataframe tbody tr th {\n",
       "        vertical-align: top;\n",
       "    }\n",
       "\n",
       "    .dataframe thead th {\n",
       "        text-align: right;\n",
       "    }\n",
       "</style>\n",
       "<table border=\"1\" class=\"dataframe\">\n",
       "  <thead>\n",
       "    <tr style=\"text-align: right;\">\n",
       "      <th>mID</th>\n",
       "      <th>8.0</th>\n",
       "      <th>28.0</th>\n",
       "      <th>43.0</th>\n",
       "      <th>48.0</th>\n",
       "      <th>61.0</th>\n",
       "      <th>64.0</th>\n",
       "      <th>66.0</th>\n",
       "      <th>92.0</th>\n",
       "      <th>96.0</th>\n",
       "      <th>111.0</th>\n",
       "      <th>...</th>\n",
       "      <th>17653.0</th>\n",
       "      <th>17654.0</th>\n",
       "      <th>17689.0</th>\n",
       "      <th>17693.0</th>\n",
       "      <th>17706.0</th>\n",
       "      <th>17725.0</th>\n",
       "      <th>17728.0</th>\n",
       "      <th>17734.0</th>\n",
       "      <th>17741.0</th>\n",
       "      <th>17742.0</th>\n",
       "    </tr>\n",
       "    <tr>\n",
       "      <th>uID</th>\n",
       "      <th></th>\n",
       "      <th></th>\n",
       "      <th></th>\n",
       "      <th></th>\n",
       "      <th></th>\n",
       "      <th></th>\n",
       "      <th></th>\n",
       "      <th></th>\n",
       "      <th></th>\n",
       "      <th></th>\n",
       "      <th></th>\n",
       "      <th></th>\n",
       "      <th></th>\n",
       "      <th></th>\n",
       "      <th></th>\n",
       "      <th></th>\n",
       "      <th></th>\n",
       "      <th></th>\n",
       "      <th></th>\n",
       "      <th></th>\n",
       "      <th></th>\n",
       "    </tr>\n",
       "  </thead>\n",
       "  <tbody>\n",
       "    <tr>\n",
       "      <th>0.0</th>\n",
       "      <td>5.0</td>\n",
       "      <td>NaN</td>\n",
       "      <td>NaN</td>\n",
       "      <td>NaN</td>\n",
       "      <td>4.0</td>\n",
       "      <td>NaN</td>\n",
       "      <td>3.0</td>\n",
       "      <td>NaN</td>\n",
       "      <td>2.0</td>\n",
       "      <td>5.0</td>\n",
       "      <td>...</td>\n",
       "      <td>NaN</td>\n",
       "      <td>NaN</td>\n",
       "      <td>NaN</td>\n",
       "      <td>NaN</td>\n",
       "      <td>NaN</td>\n",
       "      <td>NaN</td>\n",
       "      <td>NaN</td>\n",
       "      <td>NaN</td>\n",
       "      <td>NaN</td>\n",
       "      <td>NaN</td>\n",
       "    </tr>\n",
       "    <tr>\n",
       "      <th>7.0</th>\n",
       "      <td>NaN</td>\n",
       "      <td>NaN</td>\n",
       "      <td>NaN</td>\n",
       "      <td>NaN</td>\n",
       "      <td>NaN</td>\n",
       "      <td>NaN</td>\n",
       "      <td>NaN</td>\n",
       "      <td>NaN</td>\n",
       "      <td>NaN</td>\n",
       "      <td>NaN</td>\n",
       "      <td>...</td>\n",
       "      <td>NaN</td>\n",
       "      <td>NaN</td>\n",
       "      <td>NaN</td>\n",
       "      <td>NaN</td>\n",
       "      <td>NaN</td>\n",
       "      <td>NaN</td>\n",
       "      <td>NaN</td>\n",
       "      <td>NaN</td>\n",
       "      <td>NaN</td>\n",
       "      <td>NaN</td>\n",
       "    </tr>\n",
       "    <tr>\n",
       "      <th>79.0</th>\n",
       "      <td>NaN</td>\n",
       "      <td>NaN</td>\n",
       "      <td>NaN</td>\n",
       "      <td>NaN</td>\n",
       "      <td>NaN</td>\n",
       "      <td>NaN</td>\n",
       "      <td>NaN</td>\n",
       "      <td>NaN</td>\n",
       "      <td>NaN</td>\n",
       "      <td>NaN</td>\n",
       "      <td>...</td>\n",
       "      <td>NaN</td>\n",
       "      <td>NaN</td>\n",
       "      <td>NaN</td>\n",
       "      <td>NaN</td>\n",
       "      <td>NaN</td>\n",
       "      <td>NaN</td>\n",
       "      <td>NaN</td>\n",
       "      <td>NaN</td>\n",
       "      <td>NaN</td>\n",
       "      <td>NaN</td>\n",
       "    </tr>\n",
       "    <tr>\n",
       "      <th>199.0</th>\n",
       "      <td>NaN</td>\n",
       "      <td>NaN</td>\n",
       "      <td>NaN</td>\n",
       "      <td>NaN</td>\n",
       "      <td>NaN</td>\n",
       "      <td>NaN</td>\n",
       "      <td>NaN</td>\n",
       "      <td>NaN</td>\n",
       "      <td>NaN</td>\n",
       "      <td>NaN</td>\n",
       "      <td>...</td>\n",
       "      <td>NaN</td>\n",
       "      <td>NaN</td>\n",
       "      <td>NaN</td>\n",
       "      <td>NaN</td>\n",
       "      <td>NaN</td>\n",
       "      <td>NaN</td>\n",
       "      <td>NaN</td>\n",
       "      <td>NaN</td>\n",
       "      <td>NaN</td>\n",
       "      <td>NaN</td>\n",
       "    </tr>\n",
       "    <tr>\n",
       "      <th>481.0</th>\n",
       "      <td>NaN</td>\n",
       "      <td>NaN</td>\n",
       "      <td>NaN</td>\n",
       "      <td>NaN</td>\n",
       "      <td>NaN</td>\n",
       "      <td>NaN</td>\n",
       "      <td>NaN</td>\n",
       "      <td>NaN</td>\n",
       "      <td>NaN</td>\n",
       "      <td>NaN</td>\n",
       "      <td>...</td>\n",
       "      <td>NaN</td>\n",
       "      <td>NaN</td>\n",
       "      <td>NaN</td>\n",
       "      <td>NaN</td>\n",
       "      <td>NaN</td>\n",
       "      <td>NaN</td>\n",
       "      <td>NaN</td>\n",
       "      <td>NaN</td>\n",
       "      <td>NaN</td>\n",
       "      <td>NaN</td>\n",
       "    </tr>\n",
       "    <tr>\n",
       "      <th>...</th>\n",
       "      <td>...</td>\n",
       "      <td>...</td>\n",
       "      <td>...</td>\n",
       "      <td>...</td>\n",
       "      <td>...</td>\n",
       "      <td>...</td>\n",
       "      <td>...</td>\n",
       "      <td>...</td>\n",
       "      <td>...</td>\n",
       "      <td>...</td>\n",
       "      <td>...</td>\n",
       "      <td>...</td>\n",
       "      <td>...</td>\n",
       "      <td>...</td>\n",
       "      <td>...</td>\n",
       "      <td>...</td>\n",
       "      <td>...</td>\n",
       "      <td>...</td>\n",
       "      <td>...</td>\n",
       "      <td>...</td>\n",
       "      <td>...</td>\n",
       "    </tr>\n",
       "    <tr>\n",
       "      <th>2648869.0</th>\n",
       "      <td>NaN</td>\n",
       "      <td>NaN</td>\n",
       "      <td>NaN</td>\n",
       "      <td>NaN</td>\n",
       "      <td>NaN</td>\n",
       "      <td>NaN</td>\n",
       "      <td>NaN</td>\n",
       "      <td>NaN</td>\n",
       "      <td>NaN</td>\n",
       "      <td>NaN</td>\n",
       "      <td>...</td>\n",
       "      <td>NaN</td>\n",
       "      <td>NaN</td>\n",
       "      <td>NaN</td>\n",
       "      <td>NaN</td>\n",
       "      <td>NaN</td>\n",
       "      <td>NaN</td>\n",
       "      <td>NaN</td>\n",
       "      <td>NaN</td>\n",
       "      <td>NaN</td>\n",
       "      <td>NaN</td>\n",
       "    </tr>\n",
       "    <tr>\n",
       "      <th>2648885.0</th>\n",
       "      <td>NaN</td>\n",
       "      <td>NaN</td>\n",
       "      <td>NaN</td>\n",
       "      <td>NaN</td>\n",
       "      <td>NaN</td>\n",
       "      <td>NaN</td>\n",
       "      <td>NaN</td>\n",
       "      <td>NaN</td>\n",
       "      <td>NaN</td>\n",
       "      <td>NaN</td>\n",
       "      <td>...</td>\n",
       "      <td>NaN</td>\n",
       "      <td>NaN</td>\n",
       "      <td>NaN</td>\n",
       "      <td>NaN</td>\n",
       "      <td>NaN</td>\n",
       "      <td>NaN</td>\n",
       "      <td>NaN</td>\n",
       "      <td>NaN</td>\n",
       "      <td>NaN</td>\n",
       "      <td>NaN</td>\n",
       "    </tr>\n",
       "    <tr>\n",
       "      <th>2649120.0</th>\n",
       "      <td>NaN</td>\n",
       "      <td>NaN</td>\n",
       "      <td>NaN</td>\n",
       "      <td>NaN</td>\n",
       "      <td>NaN</td>\n",
       "      <td>NaN</td>\n",
       "      <td>NaN</td>\n",
       "      <td>NaN</td>\n",
       "      <td>NaN</td>\n",
       "      <td>NaN</td>\n",
       "      <td>...</td>\n",
       "      <td>NaN</td>\n",
       "      <td>NaN</td>\n",
       "      <td>NaN</td>\n",
       "      <td>NaN</td>\n",
       "      <td>NaN</td>\n",
       "      <td>NaN</td>\n",
       "      <td>NaN</td>\n",
       "      <td>NaN</td>\n",
       "      <td>NaN</td>\n",
       "      <td>NaN</td>\n",
       "    </tr>\n",
       "    <tr>\n",
       "      <th>2649267.0</th>\n",
       "      <td>NaN</td>\n",
       "      <td>NaN</td>\n",
       "      <td>NaN</td>\n",
       "      <td>NaN</td>\n",
       "      <td>NaN</td>\n",
       "      <td>NaN</td>\n",
       "      <td>NaN</td>\n",
       "      <td>NaN</td>\n",
       "      <td>NaN</td>\n",
       "      <td>NaN</td>\n",
       "      <td>...</td>\n",
       "      <td>NaN</td>\n",
       "      <td>NaN</td>\n",
       "      <td>NaN</td>\n",
       "      <td>NaN</td>\n",
       "      <td>NaN</td>\n",
       "      <td>NaN</td>\n",
       "      <td>NaN</td>\n",
       "      <td>NaN</td>\n",
       "      <td>NaN</td>\n",
       "      <td>NaN</td>\n",
       "    </tr>\n",
       "    <tr>\n",
       "      <th>2649285.0</th>\n",
       "      <td>NaN</td>\n",
       "      <td>NaN</td>\n",
       "      <td>NaN</td>\n",
       "      <td>NaN</td>\n",
       "      <td>NaN</td>\n",
       "      <td>NaN</td>\n",
       "      <td>NaN</td>\n",
       "      <td>NaN</td>\n",
       "      <td>NaN</td>\n",
       "      <td>NaN</td>\n",
       "      <td>...</td>\n",
       "      <td>NaN</td>\n",
       "      <td>NaN</td>\n",
       "      <td>NaN</td>\n",
       "      <td>NaN</td>\n",
       "      <td>NaN</td>\n",
       "      <td>NaN</td>\n",
       "      <td>NaN</td>\n",
       "      <td>NaN</td>\n",
       "      <td>NaN</td>\n",
       "      <td>NaN</td>\n",
       "    </tr>\n",
       "  </tbody>\n",
       "</table>\n",
       "<p>27556 rows × 1701 columns</p>\n",
       "</div>"
      ],
      "text/plain": [
       "mID        8.0      28.0     43.0     48.0     61.0     64.0     66.0     \\\n",
       "uID                                                                        \n",
       "0.0            5.0      NaN      NaN      NaN      4.0      NaN      3.0   \n",
       "7.0            NaN      NaN      NaN      NaN      NaN      NaN      NaN   \n",
       "79.0           NaN      NaN      NaN      NaN      NaN      NaN      NaN   \n",
       "199.0          NaN      NaN      NaN      NaN      NaN      NaN      NaN   \n",
       "481.0          NaN      NaN      NaN      NaN      NaN      NaN      NaN   \n",
       "...            ...      ...      ...      ...      ...      ...      ...   \n",
       "2648869.0      NaN      NaN      NaN      NaN      NaN      NaN      NaN   \n",
       "2648885.0      NaN      NaN      NaN      NaN      NaN      NaN      NaN   \n",
       "2649120.0      NaN      NaN      NaN      NaN      NaN      NaN      NaN   \n",
       "2649267.0      NaN      NaN      NaN      NaN      NaN      NaN      NaN   \n",
       "2649285.0      NaN      NaN      NaN      NaN      NaN      NaN      NaN   \n",
       "\n",
       "mID        92.0     96.0     111.0    ...  17653.0  17654.0  17689.0  17693.0  \\\n",
       "uID                                   ...                                       \n",
       "0.0            NaN      2.0      5.0  ...      NaN      NaN      NaN      NaN   \n",
       "7.0            NaN      NaN      NaN  ...      NaN      NaN      NaN      NaN   \n",
       "79.0           NaN      NaN      NaN  ...      NaN      NaN      NaN      NaN   \n",
       "199.0          NaN      NaN      NaN  ...      NaN      NaN      NaN      NaN   \n",
       "481.0          NaN      NaN      NaN  ...      NaN      NaN      NaN      NaN   \n",
       "...            ...      ...      ...  ...      ...      ...      ...      ...   \n",
       "2648869.0      NaN      NaN      NaN  ...      NaN      NaN      NaN      NaN   \n",
       "2648885.0      NaN      NaN      NaN  ...      NaN      NaN      NaN      NaN   \n",
       "2649120.0      NaN      NaN      NaN  ...      NaN      NaN      NaN      NaN   \n",
       "2649267.0      NaN      NaN      NaN  ...      NaN      NaN      NaN      NaN   \n",
       "2649285.0      NaN      NaN      NaN  ...      NaN      NaN      NaN      NaN   \n",
       "\n",
       "mID        17706.0  17725.0  17728.0  17734.0  17741.0  17742.0  \n",
       "uID                                                              \n",
       "0.0            NaN      NaN      NaN      NaN      NaN      NaN  \n",
       "7.0            NaN      NaN      NaN      NaN      NaN      NaN  \n",
       "79.0           NaN      NaN      NaN      NaN      NaN      NaN  \n",
       "199.0          NaN      NaN      NaN      NaN      NaN      NaN  \n",
       "481.0          NaN      NaN      NaN      NaN      NaN      NaN  \n",
       "...            ...      ...      ...      ...      ...      ...  \n",
       "2648869.0      NaN      NaN      NaN      NaN      NaN      NaN  \n",
       "2648885.0      NaN      NaN      NaN      NaN      NaN      NaN  \n",
       "2649120.0      NaN      NaN      NaN      NaN      NaN      NaN  \n",
       "2649267.0      NaN      NaN      NaN      NaN      NaN      NaN  \n",
       "2649285.0      NaN      NaN      NaN      NaN      NaN      NaN  \n",
       "\n",
       "[27556 rows x 1701 columns]"
      ]
     },
     "execution_count": 90,
     "metadata": {},
     "output_type": "execute_result"
    }
   ],
   "source": [
    "testingPandas.pivot_table(index='uID', columns='mID', values='ratings')"
   ]
  },
  {
   "cell_type": "code",
   "execution_count": 91,
   "metadata": {
    "colab": {},
    "colab_type": "code",
    "id": "T4Z2hvk-DXWr",
    "outputId": "0627b24a-9dd6-4ea9-9917-b39f38ddaf60"
   },
   "outputs": [
    {
     "data": {
      "text/html": [
       "<div>\n",
       "<style scoped>\n",
       "    .dataframe tbody tr th:only-of-type {\n",
       "        vertical-align: middle;\n",
       "    }\n",
       "\n",
       "    .dataframe tbody tr th {\n",
       "        vertical-align: top;\n",
       "    }\n",
       "\n",
       "    .dataframe thead th {\n",
       "        text-align: right;\n",
       "    }\n",
       "</style>\n",
       "<table border=\"1\" class=\"dataframe\">\n",
       "  <thead>\n",
       "    <tr style=\"text-align: right;\">\n",
       "      <th>mID</th>\n",
       "      <th>8.0</th>\n",
       "      <th>28.0</th>\n",
       "      <th>43.0</th>\n",
       "      <th>48.0</th>\n",
       "      <th>61.0</th>\n",
       "      <th>64.0</th>\n",
       "      <th>66.0</th>\n",
       "      <th>92.0</th>\n",
       "      <th>96.0</th>\n",
       "      <th>111.0</th>\n",
       "      <th>...</th>\n",
       "      <th>17653.0</th>\n",
       "      <th>17654.0</th>\n",
       "      <th>17689.0</th>\n",
       "      <th>17693.0</th>\n",
       "      <th>17706.0</th>\n",
       "      <th>17725.0</th>\n",
       "      <th>17728.0</th>\n",
       "      <th>17734.0</th>\n",
       "      <th>17741.0</th>\n",
       "      <th>17742.0</th>\n",
       "    </tr>\n",
       "    <tr>\n",
       "      <th>uID</th>\n",
       "      <th></th>\n",
       "      <th></th>\n",
       "      <th></th>\n",
       "      <th></th>\n",
       "      <th></th>\n",
       "      <th></th>\n",
       "      <th></th>\n",
       "      <th></th>\n",
       "      <th></th>\n",
       "      <th></th>\n",
       "      <th></th>\n",
       "      <th></th>\n",
       "      <th></th>\n",
       "      <th></th>\n",
       "      <th></th>\n",
       "      <th></th>\n",
       "      <th></th>\n",
       "      <th></th>\n",
       "      <th></th>\n",
       "      <th></th>\n",
       "      <th></th>\n",
       "    </tr>\n",
       "  </thead>\n",
       "  <tbody>\n",
       "    <tr>\n",
       "      <th>0.0</th>\n",
       "      <td>5.0</td>\n",
       "      <td>0.0</td>\n",
       "      <td>0.0</td>\n",
       "      <td>0.0</td>\n",
       "      <td>4.0</td>\n",
       "      <td>0.0</td>\n",
       "      <td>3.0</td>\n",
       "      <td>0.0</td>\n",
       "      <td>2.0</td>\n",
       "      <td>5.0</td>\n",
       "      <td>...</td>\n",
       "      <td>0.0</td>\n",
       "      <td>0.0</td>\n",
       "      <td>0.0</td>\n",
       "      <td>0.0</td>\n",
       "      <td>0.0</td>\n",
       "      <td>0.0</td>\n",
       "      <td>0.0</td>\n",
       "      <td>0.0</td>\n",
       "      <td>0.0</td>\n",
       "      <td>0.0</td>\n",
       "    </tr>\n",
       "    <tr>\n",
       "      <th>7.0</th>\n",
       "      <td>0.0</td>\n",
       "      <td>0.0</td>\n",
       "      <td>0.0</td>\n",
       "      <td>0.0</td>\n",
       "      <td>0.0</td>\n",
       "      <td>0.0</td>\n",
       "      <td>0.0</td>\n",
       "      <td>0.0</td>\n",
       "      <td>0.0</td>\n",
       "      <td>0.0</td>\n",
       "      <td>...</td>\n",
       "      <td>0.0</td>\n",
       "      <td>0.0</td>\n",
       "      <td>0.0</td>\n",
       "      <td>0.0</td>\n",
       "      <td>0.0</td>\n",
       "      <td>0.0</td>\n",
       "      <td>0.0</td>\n",
       "      <td>0.0</td>\n",
       "      <td>0.0</td>\n",
       "      <td>0.0</td>\n",
       "    </tr>\n",
       "    <tr>\n",
       "      <th>79.0</th>\n",
       "      <td>0.0</td>\n",
       "      <td>0.0</td>\n",
       "      <td>0.0</td>\n",
       "      <td>0.0</td>\n",
       "      <td>0.0</td>\n",
       "      <td>0.0</td>\n",
       "      <td>0.0</td>\n",
       "      <td>0.0</td>\n",
       "      <td>0.0</td>\n",
       "      <td>0.0</td>\n",
       "      <td>...</td>\n",
       "      <td>0.0</td>\n",
       "      <td>0.0</td>\n",
       "      <td>0.0</td>\n",
       "      <td>0.0</td>\n",
       "      <td>0.0</td>\n",
       "      <td>0.0</td>\n",
       "      <td>0.0</td>\n",
       "      <td>0.0</td>\n",
       "      <td>0.0</td>\n",
       "      <td>0.0</td>\n",
       "    </tr>\n",
       "    <tr>\n",
       "      <th>199.0</th>\n",
       "      <td>0.0</td>\n",
       "      <td>0.0</td>\n",
       "      <td>0.0</td>\n",
       "      <td>0.0</td>\n",
       "      <td>0.0</td>\n",
       "      <td>0.0</td>\n",
       "      <td>0.0</td>\n",
       "      <td>0.0</td>\n",
       "      <td>0.0</td>\n",
       "      <td>0.0</td>\n",
       "      <td>...</td>\n",
       "      <td>0.0</td>\n",
       "      <td>0.0</td>\n",
       "      <td>0.0</td>\n",
       "      <td>0.0</td>\n",
       "      <td>0.0</td>\n",
       "      <td>0.0</td>\n",
       "      <td>0.0</td>\n",
       "      <td>0.0</td>\n",
       "      <td>0.0</td>\n",
       "      <td>0.0</td>\n",
       "    </tr>\n",
       "    <tr>\n",
       "      <th>481.0</th>\n",
       "      <td>0.0</td>\n",
       "      <td>0.0</td>\n",
       "      <td>0.0</td>\n",
       "      <td>0.0</td>\n",
       "      <td>0.0</td>\n",
       "      <td>0.0</td>\n",
       "      <td>0.0</td>\n",
       "      <td>0.0</td>\n",
       "      <td>0.0</td>\n",
       "      <td>0.0</td>\n",
       "      <td>...</td>\n",
       "      <td>0.0</td>\n",
       "      <td>0.0</td>\n",
       "      <td>0.0</td>\n",
       "      <td>0.0</td>\n",
       "      <td>0.0</td>\n",
       "      <td>0.0</td>\n",
       "      <td>0.0</td>\n",
       "      <td>0.0</td>\n",
       "      <td>0.0</td>\n",
       "      <td>0.0</td>\n",
       "    </tr>\n",
       "  </tbody>\n",
       "</table>\n",
       "<p>5 rows × 1701 columns</p>\n",
       "</div>"
      ],
      "text/plain": [
       "mID    8.0      28.0     43.0     48.0     61.0     64.0     66.0     92.0     \\\n",
       "uID                                                                             \n",
       "0.0        5.0      0.0      0.0      0.0      4.0      0.0      3.0      0.0   \n",
       "7.0        0.0      0.0      0.0      0.0      0.0      0.0      0.0      0.0   \n",
       "79.0       0.0      0.0      0.0      0.0      0.0      0.0      0.0      0.0   \n",
       "199.0      0.0      0.0      0.0      0.0      0.0      0.0      0.0      0.0   \n",
       "481.0      0.0      0.0      0.0      0.0      0.0      0.0      0.0      0.0   \n",
       "\n",
       "mID    96.0     111.0    ...  17653.0  17654.0  17689.0  17693.0  17706.0  \\\n",
       "uID                      ...                                                \n",
       "0.0        2.0      5.0  ...      0.0      0.0      0.0      0.0      0.0   \n",
       "7.0        0.0      0.0  ...      0.0      0.0      0.0      0.0      0.0   \n",
       "79.0       0.0      0.0  ...      0.0      0.0      0.0      0.0      0.0   \n",
       "199.0      0.0      0.0  ...      0.0      0.0      0.0      0.0      0.0   \n",
       "481.0      0.0      0.0  ...      0.0      0.0      0.0      0.0      0.0   \n",
       "\n",
       "mID    17725.0  17728.0  17734.0  17741.0  17742.0  \n",
       "uID                                                 \n",
       "0.0        0.0      0.0      0.0      0.0      0.0  \n",
       "7.0        0.0      0.0      0.0      0.0      0.0  \n",
       "79.0       0.0      0.0      0.0      0.0      0.0  \n",
       "199.0      0.0      0.0      0.0      0.0      0.0  \n",
       "481.0      0.0      0.0      0.0      0.0      0.0  \n",
       "\n",
       "[5 rows x 1701 columns]"
      ]
     },
     "execution_count": 91,
     "metadata": {},
     "output_type": "execute_result"
    }
   ],
   "source": [
    "userTest_movie_rating2 = testingPandas.pivot_table(index='uID', columns='mID', values='ratings')\n",
    "userTest_movie_rating2.fillna(0, inplace= True)\n",
    "userTest_movie_rating2.head()"
   ]
  },
  {
   "cell_type": "code",
   "execution_count": 92,
   "metadata": {
    "colab": {},
    "colab_type": "code",
    "id": "akXFhsMoDXWt",
    "outputId": "d558a76f-98fc-40e5-e23d-156f9b762dd1"
   },
   "outputs": [],
   "source": [
    "finaltest2 = userTest_movie_rating2.to_numpy()\n",
    "fusertest_ratings_mean2 = np.mean(finaltest2, axis = 1)\n",
    "ftest_demean2 = finaltest2 - fusertest_ratings_mean2.reshape(-1, 1)"
   ]
  },
  {
   "cell_type": "code",
   "execution_count": 93,
   "metadata": {
    "colab": {},
    "colab_type": "code",
    "id": "OVTZqiIBDXWv"
   },
   "outputs": [],
   "source": [
    "U, sigma, Vt = svds(ftest_demean2, k = 50)\n",
    "sigma = np.diag(sigma)\n",
    "final_all_user_predicted_ratings2 = np.dot(np.dot(U, sigma), Vt) + fusertest_ratings_mean2.reshape(-1, 1)"
   ]
  },
  {
   "cell_type": "code",
   "execution_count": 94,
   "metadata": {
    "colab": {},
    "colab_type": "code",
    "id": "hQOuVVvEDXWw",
    "outputId": "a672de97-eeb8-428d-df5d-d06d980f4eb4"
   },
   "outputs": [
    {
     "name": "stdout",
     "output_type": "stream",
     "text": [
      "[0.0111699  0.00587889 0.00940623 ... 0.00587889 0.01704879 0.00411523]\n"
     ]
    }
   ],
   "source": [
    "print(fusertest_ratings_mean2)"
   ]
  },
  {
   "cell_type": "code",
   "execution_count": 96,
   "metadata": {
    "colab": {},
    "colab_type": "code",
    "id": "wdU_YoN2DXWz",
    "outputId": "0bdfe2dc-92b5-48dc-f0c6-ed779fe4ee1c"
   },
   "outputs": [
    {
     "data": {
      "text/html": [
       "<div>\n",
       "<style scoped>\n",
       "    .dataframe tbody tr th:only-of-type {\n",
       "        vertical-align: middle;\n",
       "    }\n",
       "\n",
       "    .dataframe tbody tr th {\n",
       "        vertical-align: top;\n",
       "    }\n",
       "\n",
       "    .dataframe thead th {\n",
       "        text-align: right;\n",
       "    }\n",
       "</style>\n",
       "<table border=\"1\" class=\"dataframe\">\n",
       "  <thead>\n",
       "    <tr style=\"text-align: right;\">\n",
       "      <th>mID</th>\n",
       "      <th>8.0</th>\n",
       "      <th>28.0</th>\n",
       "      <th>43.0</th>\n",
       "      <th>48.0</th>\n",
       "      <th>61.0</th>\n",
       "      <th>64.0</th>\n",
       "      <th>66.0</th>\n",
       "      <th>92.0</th>\n",
       "      <th>96.0</th>\n",
       "      <th>111.0</th>\n",
       "      <th>...</th>\n",
       "      <th>17653.0</th>\n",
       "      <th>17654.0</th>\n",
       "      <th>17689.0</th>\n",
       "      <th>17693.0</th>\n",
       "      <th>17706.0</th>\n",
       "      <th>17725.0</th>\n",
       "      <th>17728.0</th>\n",
       "      <th>17734.0</th>\n",
       "      <th>17741.0</th>\n",
       "      <th>17742.0</th>\n",
       "    </tr>\n",
       "    <tr>\n",
       "      <th>uID</th>\n",
       "      <th></th>\n",
       "      <th></th>\n",
       "      <th></th>\n",
       "      <th></th>\n",
       "      <th></th>\n",
       "      <th></th>\n",
       "      <th></th>\n",
       "      <th></th>\n",
       "      <th></th>\n",
       "      <th></th>\n",
       "      <th></th>\n",
       "      <th></th>\n",
       "      <th></th>\n",
       "      <th></th>\n",
       "      <th></th>\n",
       "      <th></th>\n",
       "      <th></th>\n",
       "      <th></th>\n",
       "      <th></th>\n",
       "      <th></th>\n",
       "      <th></th>\n",
       "    </tr>\n",
       "  </thead>\n",
       "  <tbody>\n",
       "    <tr>\n",
       "      <th>0.0</th>\n",
       "      <td>0.013435</td>\n",
       "      <td>0.016709</td>\n",
       "      <td>0.010729</td>\n",
       "      <td>0.010978</td>\n",
       "      <td>0.010797</td>\n",
       "      <td>0.010710</td>\n",
       "      <td>0.010736</td>\n",
       "      <td>0.010665</td>\n",
       "      <td>0.010859</td>\n",
       "      <td>0.021378</td>\n",
       "      <td>...</td>\n",
       "      <td>0.011138</td>\n",
       "      <td>0.011138</td>\n",
       "      <td>0.010719</td>\n",
       "      <td>0.011439</td>\n",
       "      <td>0.010564</td>\n",
       "      <td>0.010309</td>\n",
       "      <td>0.010713</td>\n",
       "      <td>0.010789</td>\n",
       "      <td>0.011082</td>\n",
       "      <td>0.010808</td>\n",
       "    </tr>\n",
       "    <tr>\n",
       "      <th>7.0</th>\n",
       "      <td>0.005978</td>\n",
       "      <td>-0.011882</td>\n",
       "      <td>0.000783</td>\n",
       "      <td>0.003766</td>\n",
       "      <td>0.001285</td>\n",
       "      <td>0.000917</td>\n",
       "      <td>0.000910</td>\n",
       "      <td>0.000924</td>\n",
       "      <td>0.001241</td>\n",
       "      <td>0.018187</td>\n",
       "      <td>...</td>\n",
       "      <td>0.000863</td>\n",
       "      <td>0.001310</td>\n",
       "      <td>0.000979</td>\n",
       "      <td>0.003471</td>\n",
       "      <td>0.001013</td>\n",
       "      <td>0.003236</td>\n",
       "      <td>0.000831</td>\n",
       "      <td>0.000700</td>\n",
       "      <td>0.001178</td>\n",
       "      <td>0.000567</td>\n",
       "    </tr>\n",
       "    <tr>\n",
       "      <th>79.0</th>\n",
       "      <td>0.032720</td>\n",
       "      <td>0.047197</td>\n",
       "      <td>0.002523</td>\n",
       "      <td>0.007965</td>\n",
       "      <td>0.002047</td>\n",
       "      <td>0.002346</td>\n",
       "      <td>0.002259</td>\n",
       "      <td>0.002268</td>\n",
       "      <td>0.002354</td>\n",
       "      <td>0.048873</td>\n",
       "      <td>...</td>\n",
       "      <td>0.010302</td>\n",
       "      <td>0.017878</td>\n",
       "      <td>0.002105</td>\n",
       "      <td>-0.001354</td>\n",
       "      <td>0.000954</td>\n",
       "      <td>0.008027</td>\n",
       "      <td>0.002413</td>\n",
       "      <td>0.002274</td>\n",
       "      <td>0.001725</td>\n",
       "      <td>0.002174</td>\n",
       "    </tr>\n",
       "    <tr>\n",
       "      <th>199.0</th>\n",
       "      <td>0.008252</td>\n",
       "      <td>0.176598</td>\n",
       "      <td>-0.000783</td>\n",
       "      <td>0.008279</td>\n",
       "      <td>-0.000363</td>\n",
       "      <td>-0.000965</td>\n",
       "      <td>-0.000503</td>\n",
       "      <td>-0.000624</td>\n",
       "      <td>-0.000819</td>\n",
       "      <td>0.019137</td>\n",
       "      <td>...</td>\n",
       "      <td>0.005345</td>\n",
       "      <td>-0.000493</td>\n",
       "      <td>-0.000060</td>\n",
       "      <td>0.007585</td>\n",
       "      <td>0.000285</td>\n",
       "      <td>0.001599</td>\n",
       "      <td>-0.000510</td>\n",
       "      <td>-0.000939</td>\n",
       "      <td>0.000857</td>\n",
       "      <td>-0.001075</td>\n",
       "    </tr>\n",
       "    <tr>\n",
       "      <th>481.0</th>\n",
       "      <td>-0.005180</td>\n",
       "      <td>-0.031720</td>\n",
       "      <td>-0.000501</td>\n",
       "      <td>0.003127</td>\n",
       "      <td>-0.000860</td>\n",
       "      <td>-0.000614</td>\n",
       "      <td>-0.000645</td>\n",
       "      <td>-0.000776</td>\n",
       "      <td>-0.001092</td>\n",
       "      <td>0.019732</td>\n",
       "      <td>...</td>\n",
       "      <td>-0.003806</td>\n",
       "      <td>0.016700</td>\n",
       "      <td>-0.000798</td>\n",
       "      <td>0.008671</td>\n",
       "      <td>-0.001856</td>\n",
       "      <td>0.013064</td>\n",
       "      <td>-0.000692</td>\n",
       "      <td>-0.000759</td>\n",
       "      <td>-0.001832</td>\n",
       "      <td>0.003681</td>\n",
       "    </tr>\n",
       "  </tbody>\n",
       "</table>\n",
       "<p>5 rows × 1701 columns</p>\n",
       "</div>"
      ],
      "text/plain": [
       "mID     8.0       28.0      43.0      48.0      61.0      64.0      66.0     \\\n",
       "uID                                                                           \n",
       "0.0    0.013435  0.016709  0.010729  0.010978  0.010797  0.010710  0.010736   \n",
       "7.0    0.005978 -0.011882  0.000783  0.003766  0.001285  0.000917  0.000910   \n",
       "79.0   0.032720  0.047197  0.002523  0.007965  0.002047  0.002346  0.002259   \n",
       "199.0  0.008252  0.176598 -0.000783  0.008279 -0.000363 -0.000965 -0.000503   \n",
       "481.0 -0.005180 -0.031720 -0.000501  0.003127 -0.000860 -0.000614 -0.000645   \n",
       "\n",
       "mID     92.0      96.0      111.0    ...   17653.0   17654.0   17689.0  \\\n",
       "uID                                  ...                                 \n",
       "0.0    0.010665  0.010859  0.021378  ...  0.011138  0.011138  0.010719   \n",
       "7.0    0.000924  0.001241  0.018187  ...  0.000863  0.001310  0.000979   \n",
       "79.0   0.002268  0.002354  0.048873  ...  0.010302  0.017878  0.002105   \n",
       "199.0 -0.000624 -0.000819  0.019137  ...  0.005345 -0.000493 -0.000060   \n",
       "481.0 -0.000776 -0.001092  0.019732  ... -0.003806  0.016700 -0.000798   \n",
       "\n",
       "mID     17693.0   17706.0   17725.0   17728.0   17734.0   17741.0   17742.0  \n",
       "uID                                                                          \n",
       "0.0    0.011439  0.010564  0.010309  0.010713  0.010789  0.011082  0.010808  \n",
       "7.0    0.003471  0.001013  0.003236  0.000831  0.000700  0.001178  0.000567  \n",
       "79.0  -0.001354  0.000954  0.008027  0.002413  0.002274  0.001725  0.002174  \n",
       "199.0  0.007585  0.000285  0.001599 -0.000510 -0.000939  0.000857 -0.001075  \n",
       "481.0  0.008671 -0.001856  0.013064 -0.000692 -0.000759 -0.001832  0.003681  \n",
       "\n",
       "[5 rows x 1701 columns]"
      ]
     },
     "execution_count": 96,
     "metadata": {},
     "output_type": "execute_result"
    }
   ],
   "source": [
    "Final_preds_df = pd.DataFrame(final_all_user_predicted_ratings2, columns = userTest_movie_rating2.columns, index= userTest_movie_rating2.index)\n",
    "Final_preds_df.head()"
   ]
  },
  {
   "cell_type": "markdown",
   "metadata": {},
   "source": [
    "Predictions based on my normalized previous rating seems fair though rather low."
   ]
  },
  {
   "cell_type": "markdown",
   "metadata": {},
   "source": [
    "Lets try some predictions."
   ]
  },
  {
   "cell_type": "code",
   "execution_count": 98,
   "metadata": {
    "colab": {},
    "colab_type": "code",
    "id": "vCpgixq_DXXC",
    "outputId": "7ad1c06a-61a5-4d02-bc34-cd075964749e"
   },
   "outputs": [
    {
     "name": "stdout",
     "output_type": "stream",
     "text": [
      "User 0 has already rated 7 movies.\n",
      "Recommending highest 10 predicted ratings movies not already rated.\n"
     ]
    }
   ],
   "source": [
    "already_rated, predictions = recommend_movies(Final_preds_df, 0, movie_pandas, testingPandas, 10)"
   ]
  },
  {
   "cell_type": "code",
   "execution_count": 99,
   "metadata": {
    "colab": {},
    "colab_type": "code",
    "id": "5Ri1QhvfDXXH",
    "outputId": "6f3b56d6-5210-4a6c-f2d2-cadf0d5463fb"
   },
   "outputs": [
    {
     "data": {
      "text/html": [
       "<div>\n",
       "<style scoped>\n",
       "    .dataframe tbody tr th:only-of-type {\n",
       "        vertical-align: middle;\n",
       "    }\n",
       "\n",
       "    .dataframe tbody tr th {\n",
       "        vertical-align: top;\n",
       "    }\n",
       "\n",
       "    .dataframe thead th {\n",
       "        text-align: right;\n",
       "    }\n",
       "</style>\n",
       "<table border=\"1\" class=\"dataframe\">\n",
       "  <thead>\n",
       "    <tr style=\"text-align: right;\">\n",
       "      <th></th>\n",
       "      <th>mID</th>\n",
       "      <th>uID</th>\n",
       "      <th>ratings</th>\n",
       "      <th>yearofrelease</th>\n",
       "      <th>title</th>\n",
       "    </tr>\n",
       "  </thead>\n",
       "  <tbody>\n",
       "    <tr>\n",
       "      <th>0</th>\n",
       "      <td>8.0</td>\n",
       "      <td>0.0</td>\n",
       "      <td>5.0</td>\n",
       "      <td>2004.0</td>\n",
       "      <td>What the #$*! Do We Know!?</td>\n",
       "    </tr>\n",
       "    <tr>\n",
       "      <th>4</th>\n",
       "      <td>111.0</td>\n",
       "      <td>0.0</td>\n",
       "      <td>5.0</td>\n",
       "      <td>2003.0</td>\n",
       "      <td>Duplex (Widescreen)</td>\n",
       "    </tr>\n",
       "    <tr>\n",
       "      <th>1</th>\n",
       "      <td>61.0</td>\n",
       "      <td>0.0</td>\n",
       "      <td>4.0</td>\n",
       "      <td>1999.0</td>\n",
       "      <td>Ricky Martin: One Night Only</td>\n",
       "    </tr>\n",
       "    <tr>\n",
       "      <th>2</th>\n",
       "      <td>66.0</td>\n",
       "      <td>0.0</td>\n",
       "      <td>3.0</td>\n",
       "      <td>1989.0</td>\n",
       "      <td>Barbarian Queen 2</td>\n",
       "    </tr>\n",
       "    <tr>\n",
       "      <th>3</th>\n",
       "      <td>96.0</td>\n",
       "      <td>0.0</td>\n",
       "      <td>2.0</td>\n",
       "      <td>2000.0</td>\n",
       "      <td>Inside the Space Station</td>\n",
       "    </tr>\n",
       "  </tbody>\n",
       "</table>\n",
       "</div>"
      ],
      "text/plain": [
       "     mID  uID  ratings  yearofrelease                         title\n",
       "0    8.0  0.0      5.0         2004.0    What the #$*! Do We Know!?\n",
       "4  111.0  0.0      5.0         2003.0           Duplex (Widescreen)\n",
       "1   61.0  0.0      4.0         1999.0  Ricky Martin: One Night Only\n",
       "2   66.0  0.0      3.0         1989.0             Barbarian Queen 2\n",
       "3   96.0  0.0      2.0         2000.0      Inside the Space Station"
      ]
     },
     "execution_count": 99,
     "metadata": {},
     "output_type": "execute_result"
    }
   ],
   "source": [
    "already_rated.head()"
   ]
  },
  {
   "cell_type": "code",
   "execution_count": 100,
   "metadata": {
    "colab": {},
    "colab_type": "code",
    "id": "IsU1wwAfDXXJ",
    "outputId": "d86bfbd8-4194-44a0-e38c-a2c5ac674370"
   },
   "outputs": [
    {
     "data": {
      "text/html": [
       "<div>\n",
       "<style scoped>\n",
       "    .dataframe tbody tr th:only-of-type {\n",
       "        vertical-align: middle;\n",
       "    }\n",
       "\n",
       "    .dataframe tbody tr th {\n",
       "        vertical-align: top;\n",
       "    }\n",
       "\n",
       "    .dataframe thead th {\n",
       "        text-align: right;\n",
       "    }\n",
       "</style>\n",
       "<table border=\"1\" class=\"dataframe\">\n",
       "  <thead>\n",
       "    <tr style=\"text-align: right;\">\n",
       "      <th></th>\n",
       "      <th>mID</th>\n",
       "      <th>yearofrelease</th>\n",
       "      <th>title</th>\n",
       "    </tr>\n",
       "  </thead>\n",
       "  <tbody>\n",
       "    <tr>\n",
       "      <th>16076</th>\n",
       "      <td>16082.0</td>\n",
       "      <td>2004.0</td>\n",
       "      <td>13 Going on 30</td>\n",
       "    </tr>\n",
       "    <tr>\n",
       "      <th>16701</th>\n",
       "      <td>16707.0</td>\n",
       "      <td>2003.0</td>\n",
       "      <td>Old School</td>\n",
       "    </tr>\n",
       "    <tr>\n",
       "      <th>16280</th>\n",
       "      <td>16286.0</td>\n",
       "      <td>2002.0</td>\n",
       "      <td>Red Dragon</td>\n",
       "    </tr>\n",
       "    <tr>\n",
       "      <th>2907</th>\n",
       "      <td>2913.0</td>\n",
       "      <td>2004.0</td>\n",
       "      <td>Finding Neverland</td>\n",
       "    </tr>\n",
       "    <tr>\n",
       "      <th>11831</th>\n",
       "      <td>11837.0</td>\n",
       "      <td>1987.0</td>\n",
       "      <td>Three Men and a Baby</td>\n",
       "    </tr>\n",
       "  </tbody>\n",
       "</table>\n",
       "</div>"
      ],
      "text/plain": [
       "           mID  yearofrelease                 title\n",
       "16076  16082.0         2004.0        13 Going on 30\n",
       "16701  16707.0         2003.0            Old School\n",
       "16280  16286.0         2002.0            Red Dragon\n",
       "2907    2913.0         2004.0     Finding Neverland\n",
       "11831  11837.0         1987.0  Three Men and a Baby"
      ]
     },
     "execution_count": 100,
     "metadata": {},
     "output_type": "execute_result"
    }
   ],
   "source": [
    "predictions.head()"
   ]
  }
 ],
 "metadata": {
  "colab": {
   "name": "My Netflixfinal(3).ipynb",
   "provenance": []
  },
  "kernelspec": {
   "display_name": "Python 3",
   "language": "python",
   "name": "python3"
  },
  "language_info": {
   "codemirror_mode": {
    "name": "ipython",
    "version": 3
   },
   "file_extension": ".py",
   "mimetype": "text/x-python",
   "name": "python",
   "nbconvert_exporter": "python",
   "pygments_lexer": "ipython3",
   "version": "3.7.9"
  }
 },
 "nbformat": 4,
 "nbformat_minor": 1
}
